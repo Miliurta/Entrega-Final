{
 "cells": [
  {
   "cell_type": "markdown",
   "id": "fd3fa483-c0db-463e-94d7-99b33e0f342e",
   "metadata": {},
   "source": [
    "# Análisis de sueldos con Python"
   ]
  },
  {
   "cell_type": "markdown",
   "id": "ade5a290-3d22-4151-bedf-8a51fcac2300",
   "metadata": {},
   "source": [
    "## Data\n",
    "\n",
    "* [2021.2 - sysarmy - Encuesta de remuneración salarial Argentina\n",
    "](https://docs.google.com/spreadsheets/d/1-ZRznwS4TK74o90aOiCKS5SiXxUQ2buN1wxZIMHQmzQ/edit#gid=557755710) \n",
    "* [2021.2 - sysarmy - Encuesta de remuneración salarial Latam\n",
    "](https://docs.google.com/spreadsheets/d/1BkBNt1MHVS7DeIlpgmK9l6krtSQ5t_olRhlcyxMeKy0/edit#gid=557755710)"
   ]
  },
  {
   "cell_type": "markdown",
   "id": "684accd7-8da2-41d5-985b-caa44133b114",
   "metadata": {},
   "source": [
    "1. Descargar, leer y unir en una sola estructura de datos. ¿Qué estructura elegiste y por qué?"
   ]
  },
  {
   "cell_type": "code",
   "execution_count": 943,
   "id": "cfa3ef02-5aba-4793-8a27-a1fdc4fb7111",
   "metadata": {},
   "outputs": [],
   "source": [
    "#Abrimos los archivos\n",
    "\n",
    "file_name_1 = \"2021.2 - sysarmy - Encuesta de remuneración salarial Argentina - Argentina.csv\"\n",
    "file_name_2 = \"2021.2 - sysarmy - Encuesta de remuneración salarial Latam - Latam.csv\"\n",
    "\n",
    "#limpio primeras filas de los documentos\n",
    "data_arg_temp = []\n",
    "data_latam_temp = []\n",
    "\n",
    "import csv\n",
    "with open(file_name_1, 'r') as file_1:\n",
    "    reader = csv.reader(file_1)\n",
    "    for row in reader:\n",
    "        data_arg_temp.append(row)\n",
    "        \n",
    "with open(file_name_2, 'r') as file_2:\n",
    "    reader = csv.reader(file_2)\n",
    "    for row in reader:\n",
    "        data_latam_temp.append(row)\n",
    " \n",
    "del data_arg_temp[:9]\n",
    "del data_latam_temp[:11]\n",
    "\n",
    "#Reacomoda las columnas referidas a ciudad-pais en latam\n",
    "for case in data_latam_temp:\n",
    "    i = 18\n",
    "    while i <= 18 and i > 0:\n",
    "        if len(case[i]) == 0:\n",
    "            case.pop(i)\n",
    "        i -= 1\n",
    "\n",
    "#Agrego campo Pais en Argentina\n",
    "for i in range(0,len(data_arg_temp)):\n",
    "    if i==0:\n",
    "        data_arg_temp[i].insert(0,\"En que pais trabajas\")\n",
    "    else:\n",
    "        data_arg_temp[i].insert(0,\"Argentina\")\n",
    "\n",
    "#Uno ambas tablas en una\n",
    "data_total_temp = data_arg_temp + data_latam_temp\n",
    "\n",
    "file_1.close()\n",
    "file_2.close()"
   ]
  },
  {
   "cell_type": "code",
   "execution_count": 944,
   "id": "d84a7e9d-bd76-4580-9490-defd238075b6",
   "metadata": {},
   "outputs": [
    {
     "name": "stdout",
     "output_type": "stream",
     "text": [
      "Elegi armar una lista de diccionarios para poder acceder facilmente a las respuestas segun su key\n"
     ]
    }
   ],
   "source": [
    "#Guardo los csv unificados\n",
    "with open('Data.csv', 'w') as file: \n",
    "    write = csv.writer(file) \n",
    "    write.writerow(data_total_temp[0])\n",
    "    write.writerows(data_total_temp[1:])  \n",
    "\n",
    "#Armo diccionario de respuestas\n",
    "data = []\n",
    "with open('Data.csv') as file_3:\n",
    "    reader = csv.DictReader(file_3)\n",
    "    for row in reader:\n",
    "        data.append(row)\n",
    "        \n",
    "file_3.close()\n",
    "print(\"Elegi armar una lista de diccionarios para poder acceder facilmente a las respuestas segun su key\")"
   ]
  },
  {
   "cell_type": "markdown",
   "id": "de5c8bec-41ea-4173-9b42-8bb3e7435d90",
   "metadata": {},
   "source": [
    "2. Printear porcentaje de participación por región, ordenado de mayor a menor. Ej: \n"
   ]
  },
  {
   "cell_type": "code",
   "execution_count": 945,
   "id": "ffc60133-8ed3-41ec-a745-904b74136a35",
   "metadata": {},
   "outputs": [
    {
     "name": "stdout",
     "output_type": "stream",
     "text": [
      "CHEQUEO OK: CANTIDAD DE PARTICIPANTES EN LA PREGUNTA IGUAL AL TOTAL DE ENCUESTADOS\n",
      "Respuesta 2 - {'Ciudad Autónoma de Buenos Aires': '51.71%', 'Provincia de Buenos Aires': '10.1%', 'GBA': '9.2%', 'Córdoba': '7.8%', 'Santa Fe': '5.82%', 'Mendoza': '2.18%', 'Montevideo': '1.7%', 'Entre Ríos': '0.96%', 'Tucumán': '0.76%', 'Río Negro': '0.76%', 'Neuquén': '0.68%', 'Misiones': '0.61%', 'Santiago': '0.58%', 'Chaco': '0.57%', 'México DF': '0.48%', 'Lima': '0.45%', 'Salta': '0.42%', 'San Juan': '0.35%', 'Corrientes': '0.35%', 'Bogotá': '0.28%', 'Chubut': '0.28%', 'Jujuy': '0.28%', 'Medellín': '0.25%', 'La Rioja': '0.23%', 'Quito': '0.23%', 'Tierra del Fuego': '0.17%', 'San Luis': '0.17%', 'Santiago de Cali': '0.13%', 'Ciudad Guatemala': '0.12%', 'La Pampa': '0.12%', 'Santiago del Estero': '0.12%', 'Guadalajara': '0.1%', 'Asunción': '0.09%', 'Guayaquil': '0.09%', 'Caracas': '0.07%', 'Santa Cruz': '0.07%', 'Santa Cruz de la Sierra': '0.07%', 'Querétaro': '0.06%', 'Loja': '0.04%', 'Puebla de Zaragoza': '0.04%', 'Valencia': '0.04%', 'Cochabamba': '0.04%', 'Monterrey': '0.04%', 'Veracruz': '0.04%', 'Catamarca': '0.04%', 'San José': '0.04%', 'Tunja': '0.04%', 'Valparaíso': '0.04%', 'Manizales': '0.04%', 'Barquisimeto': '0.03%', 'Villahermosa': '0.03%', 'Oaxaca de Juárez': '0.03%', 'Managua': '0.03%', 'Heredia': '0.03%', 'Pachuca': '0.03%', 'Mérida': '0.03%', 'Cuenca': '0.03%', 'Culiacán': '0.03%', 'Zapopan': '0.03%', 'Maldonado': '0.03%', 'Arequipa': '0.03%', 'Pereira': '0.03%', 'La Paz': '0.03%', 'Morelia': '0.03%', 'San Cristóbal': '0.03%', 'Salto': '0.03%', 'Barcelona': '0.01%', 'Cancún': '0.01%', 'Encarnación': '0.01%', 'Provincia de Ciudad de La Habana': '0.01%', 'Bucaramanga': '0.01%', 'Purral': '0.01%', 'Neiva': '0.01%', 'San Lorenzo': '0.01%', 'Talca': '0.01%', 'Riobamba': '0.01%', 'Formosa': '0.01%', 'Maipo': '0.01%', 'Cartagena de Indias': '0.01%', 'Trinidad': '0.01%', 'Cúcuta': '0.01%', 'San Salvador': '0.01%', 'Ciudad de Panamá': '0.01%', 'San Pedro Sula': '0.01%', 'Saltillo': '0.01%', 'Sancti Spíritus': '0.01%', 'Cachapoal': '0.01%', 'Salinas': '0.01%', 'Montería': '0.01%', 'Chihuahua': '0.01%', 'Tijuana': '0.01%', 'Antigua Guatemala': '0.01%', 'Ciudad Nezahualcóyotl': '0.01%', 'Ambato': '0.01%', 'Santo Domingo': '0.01%', 'Ibagué': '0.01%', 'Valdivia': '0.01%', 'Arauca': '0.01%', 'Cuernavaca': '0.01%', 'Puno': '0.01%', 'Florida': '0.01%', 'Chinandega': '0.01%', 'Trujillo': '0.01%', 'Santa Tecla': '0.01%', 'Victoria de Durango': '0.01%', 'Ecatepec': '0.01%', 'Biobío': '0.01%'}\n"
     ]
    }
   ],
   "source": [
    "#Porcentaje de participacion por region\n",
    "#Determino funcion para generar set con valores unicos a cada pregunta de la encuesta\n",
    "def respuestas_unicas(pregunta_encuesta):\n",
    "    respuestas = set()\n",
    "    for i in range(0,len(data)):\n",
    "        if data[i][pregunta_encuesta] != '':\n",
    "            respuestas.add(data[i][pregunta_encuesta])\n",
    "    \n",
    "    return respuestas\n",
    "\n",
    "#Busco regiones\n",
    "regiones = respuestas_unicas(pregunta_encuesta = \"Dónde estás trabajando\")\n",
    "\n",
    "#Determino funcion para agregar cantidad de veces que se obtuvo cada respuesta\n",
    "#y armo el diccionario de ciudades y participantes\n",
    "def dic_respuestas(criterio, pregunta_encuesta):\n",
    "    participantes = []\n",
    "    for i in range(0,len(criterio)):\n",
    "        participantes.append(0)\n",
    "    \n",
    "    criterio = list(criterio)\n",
    "    dic_respuestas = dict(zip(criterio, participantes))\n",
    "    \n",
    "    for i in range(0,len(data)):\n",
    "        for elemento in criterio:\n",
    "            if data[i][pregunta_encuesta] == elemento:\n",
    "                dic_respuestas[elemento] += 1\n",
    "\n",
    "    return dic_respuestas\n",
    "            \n",
    "#busco respuestas por region\n",
    "dic_regiones = dic_respuestas(criterio = regiones, pregunta_encuesta = \"Dónde estás trabajando\")\n",
    "\n",
    "#Armo funcion para calcular participacion ordenadas de mayor a menor\n",
    "def participacion_ordenada(dic_criterio, criterio): \n",
    "\n",
    "    #Calculo cantidad de respuestas como base\n",
    "    cantidad_de_participantes = 0\n",
    "    for elemento in criterio:\n",
    "        cantidad_de_participantes += dic_criterio[elemento]\n",
    "        \n",
    "    if cantidad_de_participantes == len(data):\n",
    "        print(\"CHEQUEO OK: CANTIDAD DE PARTICIPANTES EN LA PREGUNTA IGUAL AL TOTAL DE ENCUESTADOS\")    \n",
    "    \n",
    "    #dic_participacion = dic_criterio\n",
    "\n",
    "    #Calculo participacion\n",
    "    dic_participacion = {}\n",
    "    for elemento in criterio:\n",
    "        dic_participacion[elemento]=round(dic_criterio[elemento]/cantidad_de_participantes*100,2)\n",
    "   \n",
    "    #Ordeno resultados de mayor a menor\n",
    "    sorted_participacion = sorted(dic_participacion.values(), reverse =True)\n",
    "    sorted_dic_participacion = {}\n",
    "\n",
    "    for participacion in sorted_participacion:\n",
    "        for elemento in dic_participacion.keys():\n",
    "            if dic_participacion[elemento] == participacion:\n",
    "                sorted_dic_participacion[elemento] = f'{dic_participacion[elemento]}%'\n",
    "    \n",
    "    return sorted_dic_participacion\n",
    "\n",
    "\n",
    "#Calculo participacion por region\n",
    "participacion_por_region = participacion_ordenada(dic_criterio = dic_regiones, criterio = regiones)\n",
    "\n",
    "print(f'Respuesta 2 - {participacion_por_region}')"
   ]
  },
  {
   "cell_type": "markdown",
   "id": "c54ea6d9-29aa-4788-9abe-fe6fdb5ba797",
   "metadata": {},
   "source": [
    "3. Printear porcentaje de participación por tipo de rol, ordenado de mayor a menor. Ej:  \n",
    "`- Developer - 39.11 %`"
   ]
  },
  {
   "cell_type": "code",
   "execution_count": 946,
   "id": "907bc7bd-1f7d-48be-9874-76813ebe89c2",
   "metadata": {},
   "outputs": [
    {
     "name": "stdout",
     "output_type": "stream",
     "text": [
      "CHEQUEO OK: CANTIDAD DE PARTICIPANTES EN LA PREGUNTA IGUAL AL TOTAL DE ENCUESTADOS\n",
      "Respuesta 3 - {'Developer': '40.69%', 'SysAdmin / DevOps / SRE': '11.09%', 'Technical Leader': '6.16%', 'QA / Tester': '4.29%', 'Manager / Director': '4.28%', 'Project Manager': '3.09%', 'HelpDesk': '2.62%', 'BI Analyst / Data Analyst': '2.45%', 'Architect': '2.23%', 'Consultant': '1.92%', 'Data Engineer': '1.76%', 'Business Analyst': '1.69%', 'Networking': '1.54%', 'UX': '1.5%', 'Data Scientist': '1.48%', 'Infosec': '1.43%', 'Recruiter / HR': '1.24%', 'Product Manager': '1.21%', 'DBA': '0.71%', 'Scrum Master': '0.66%', 'Designer': '0.64%', 'VP / C-Level': '0.55%', 'Sales / Pre-Sales': '0.42%', 'Finance': '0.17%', 'Middleware': '0.17%', 'Technical Writer': '0.16%', 'Storage / Backup': '0.12%', 'Analista funcional': '0.09%', 'Docente': '0.07%', 'Product Owner': '0.06%', 'Analista Funcional': '0.04%', 'DevOps': '0.04%', 'Agile Coach': '0.04%', 'RPA': '0.04%', 'analista funcional': '0.04%', 'Software Engineer': '0.04%', 'Coordinador': '0.04%', 'Functional analyst': '0.03%', 'People Analytics': '0.03%', 'Support Engineer': '0.03%', 'SDET': '0.03%', 'Team Leader': '0.03%', 'Functional Analyst': '0.03%', 'Cybersecurity': '0.03%', 'Soporte IT': '0.03%', 'Analista': '0.03%', 'Product owner': '0.03%', 'UI': '0.03%', 'Profesor': '0.03%', 'Service Designer': '0.03%', 'Cloud Security': '0.03%', 'Data Architect': '0.03%', 'Project Engineering': '0.03%', 'Team leader': '0.03%', 'Technical Analyst': '0.03%', 'Soporte tecnico': '0.03%', 'soporte': '0.03%', 'QA Automation': '0.03%', 'NLP Developer': '0.03%', 'Auditor': '0.03%', 'Change Manager': '0.03%', 'Productor y vendedor': '0.03%', 'jefe de sistemas': '0.01%', 'Business Analyst, QA / Tester, Project Manager,Product Manager': '0.01%', 'analista de sistemas': '0.01%', 'conversational designer': '0.01%', 'Responsable de Marketing': '0.01%', 'Research': '0.01%', 'Artesanal': '0.01%', 'devops': '0.01%', 'Automation Engineer': '0.01%', 'Technical Support': '0.01%', 'Analytics Engineer': '0.01%', 'software ingeniero': '0.01%', 'Analista implementador': '0.01%', 'CRO': '0.01%', 'Sales Executive': '0.01%', 'Soy el dpto de sistemas en una escuela de 80 pc y 400 por wifi..hago todo': '0.01%', 'IT Specialist': '0.01%', 'Jefe de Área de Sistemas': '0.01%', 'Sistemas': '0.01%', 'Cloud engineer': '0.01%', ' Cloud Architect': '0.01%', 'Telecomunicaciones ': '0.01%', 'Administrativo ': '0.01%', 'Ingeniero de Laboratorio': '0.01%', 'Application Support': '0.01%', 'Soporte Nivel 2': '0.01%', 'Trafficker': '0.01%', 'Gerente': '0.01%', 'Jefe de Sistemas': '0.01%', 'Jefe operacion ti': '0.01%', 'Product Analyst': '0.01%', 'Tech Manager': '0.01%', 'Developer, DevOps': '0.01%', 'Esp. Telecomunicaciones': '0.01%', 'de todo': '0.01%', 'Security Engineer': '0.01%', 'Operador NOC': '0.01%', 'Wordpress': '0.01%', 'administracion': '0.01%', 'Aprentice': '0.01%', 'BI Developer': '0.01%', 'Soporte IT LAB nivel 1, 2, 3 ': '0.01%', 'SITE SUPPORT': '0.01%', 'IT Support': '0.01%', 'IT Auditor': '0.01%', 'Atlassian Consultant': '0.01%', 'Integrator': '0.01%', 'Tech Lead / Arquitecto': '0.01%', 'Comunicación / Redes sociales': '0.01%', 'Service Delivery Manager, Application Support, ITGC': '0.01%', 'mezcla de sysadmin, networking, dba... de todo un poco': '0.01%', 'soporte nivel 1,2 y 3': '0.01%', 'Problem Manager': '0.01%', 'Information Security': '0.01%', 'Salesforce Admin/Developer': '0.01%', 'Mix entre SysAdmin y Developer pasando por DBA': '0.01%', 'BI Sr. Manager': '0.01%', 'ADMINISTRATIVA': '0.01%', 'Responsable de área de sistemas ': '0.01%', 'Field Operations / Telecommunications': '0.01%', 'Technical support (not help desk)': '0.01%', 'Analista mainframe': '0.01%', 'Software engineer ': '0.01%', 'Cashier': '0.01%', 'Ingeniero Electrónico': '0.01%', 'ADMINISTRATIVO DE DEPOSITO': '0.01%', 'soporte  técnico nivel 3 (infraestructura)': '0.01%', 'Marketing': '0.01%', 'Analista Tecnico': '0.01%', 'Seguridad informatica': '0.01%', 'Lead Data Engineer': '0.01%', 'Analista NPL': '0.01%', 'Soporte Tecnico SQL': '0.01%', 'Gerente de atracción de TI y Comercial': '0.01%', 'Developer/DevOps': '0.01%', 'supervisor helpdek': '0.01%', 'Business Analyst y Scrum Master': '0.01%', 'Consultor de Implementación': '0.01%', 'Programador': '0.01%', 'uxui': '0.01%', 'Data Modeling Engineer': '0.01%', 'Fullstack': '0.01%', 'Frontend Developer': '0.01%', 'Security Research': '0.01%', 'Software engineer': '0.01%', 'Data Governance Specialist': '0.01%', 'Freelance': '0.01%', 'implementacion de sistemas informatico de salud -SAP -Funcional': '0.01%', 'Qa lead': '0.01%', 'Soporte técnico': '0.01%', 'Operation Lead': '0.01%', 'Security researcher': '0.01%', 'On Site Support': '0.01%', 'Analista Seguridad informatica': '0.01%', 'Ingeniero de soporte': '0.01%', 'Computational Linguist Junior': '0.01%', 'subject matter expert': '0.01%', 'Seguridad': '0.01%', 'Estructurado': '0.01%', 'lead': '0.01%', 'Growth Engineer ': '0.01%', 'Soporte Transaccional': '0.01%', 'TI generalista': '0.01%', 'Pipeline Technical Artist': '0.01%', 'Operador noc': '0.01%', 'Analista funcional ': '0.01%', 'Docente Universitario': '0.01%', 'App analyst': '0.01%', 'Técnicamente soy QA pero hago trabajo de PO ¿trainee?': '0.01%', 'Desarrollador ETL': '0.01%', 'Profesor de Informática': '0.01%', 'De todo un poco': '0.01%', 'redactor creativo': '0.01%', 'Profesor de teatro ': '0.01%', 'IT Operations Analyst': '0.01%', 'Jefe de it': '0.01%', 'Tutor': '0.01%', 'SupportEngineer': '0.01%', 'Analista de sistema': '0.01%', 'Agile coach': '0.01%', 'ERP Developer': '0.01%', 'Soporte Tecnico de Infraestructura': '0.01%', 'Team Lead': '0.01%', 'IT Services': '0.01%', 'QA Lead': '0.01%', 'Security Analist': '0.01%', 'Implementador de Sistemas': '0.01%', 'tecnico de calle': '0.01%', 'Atención al cliente en Naranja X': '0.01%', 'Redacción': '0.01%', 'RPA & ETL Developer': '0.01%', 'QA Automation ': '0.01%', 'Consultor Senior - Especialista en Ciberseguridad': '0.01%', 'Analista funcional sr': '0.01%', 'Ayudante en cursos de programación': '0.01%', 'UX Leader': '0.01%', 'Asistencia técnica': '0.01%', 'Soporte de Campo': '0.01%', 'machine learning egineer': '0.01%', 'SAP Basis administrator': '0.01%', 'redactor y editor, diseño, contenidos': '0.01%', 'People Care': '0.01%', 'Teacher': '0.01%', 'Research Engineer': '0.01%', 'administrativo': '0.01%', 'Application Engineer': '0.01%', 'Analista IT': '0.01%', 'Cloud admin': '0.01%', 'Operations Lead': '0.01%', 'Technical Owner': '0.01%', 'Back office': '0.01%', 'Cybersecurity ': '0.01%', 'Cyber security': '0.01%', 'Network Analyst Security': '0.01%', 'Analista Funcional de Sistemas': '0.01%', 'Creative Copywriter': '0.01%', 'Data Visualization': '0.01%', 'NOC': '0.01%', 'Varios': '0.01%', 'Technical Support Engineer': '0.01%', 'Data Quality': '0.01%', 'Analista funcional y coordinadora de grupo de mantenimiento ': '0.01%', 'Principal SE': '0.01%', 'Support': '0.01%', 'Tecnico telecomunicaciones': '0.01%', 'Cloud Admin': '0.01%', 'Administrador Infraestructura': '0.01%', 'Functional Analyst Jr': '0.01%', 'Proyect Leader / Developer / Toolsmith': '0.01%', 'DBA / Developer': '0.01%', 'Test Automation Engineer': '0.01%', 'Analista contable ': '0.01%', 'Auditoria': '0.01%', 'Becario doctoral ': '0.01%', 'Laboratorio universitario': '0.01%', 'SysAdmin / Storage / Backup / Networking': '0.01%', 'Encargado Área de Sistemas': '0.01%', 'Application DBA': '0.01%', 'Jefe de canales digitales': '0.01%', 'analista': '0.01%', 'Profesor de Tecnología de la Información': '0.01%', 'UI ': '0.01%', 'full stack developer': '0.01%', 'Administración': '0.01%', 'adm de infra': '0.01%', 'Systems integration analyst': '0.01%', 'DBA+frontend': '0.01%', 'Integration Developer': '0.01%', 'Project Leader': '0.01%', 'Technical Account Manager': '0.01%', 'Atlassian Specialist': '0.01%', 'Desarrollos de modelos fisicos en C, C++ o Python, para ser integrados en un software de simulacion de vuelo': '0.01%', 'artist': '0.01%', 'Jefe división Informática': '0.01%', 'AV Technical Support': '0.01%', 'Responsable it': '0.01%', 'UX User Research': '0.01%', 'Security Architect': '0.01%', 'Machine Learning Engineer': '0.01%', 'Seguridad Informática - Accesos': '0.01%', 'IPM': '0.01%', 'Administrador de Windows Server - Cloud': '0.01%', 'Project Manager, Product Manager, Developer, SRE': '0.01%', 'Engineering Manager': '0.01%', 'Technical Business Analyst': '0.01%', 'Coordinador operaciones y soporte aplicativo': '0.01%', 'Postproducer': '0.01%', 'Soporte on site': '0.01%', 'TI-Infraestructura': '0.01%', 'RPA DEVELOPER': '0.01%', 'Trainee': '0.01%', 'SAP Basis': '0.01%', 'Helpdesl / Tecnico en Reparacion de PC, Notebooks e impresoras / Tecnico instalador de HFC y FTTH': '0.01%', 'Servicio técnico ': '0.01%', 'DevOps, Desarrollo, Diseño, Instalo arquitectura, Monitoreo, etc': '0.01%', 'CyberSecurity': '0.01%', 'Digital Marketing': '0.01%', 'Auditoría': '0.01%', 'Implementador de sistemas': '0.01%', 'Cajera': '0.01%', 'Product Lead': '0.01%', 'PMO Manager': '0.01%', 'RPA Developer': '0.01%', 'Cloud': '0.01%', 'Product designer': '0.01%', 'Tecnology': '0.01%', 'RRHH': '0.01%', 'IT Infrastructure Engineer': '0.01%', 'analisis funcional': '0.01%', 'Education': '0.01%', 'Especialista en Yacimiento Digital': '0.01%', 'BI Engineer': '0.01%', 'Gerente de Sistemas': '0.01%', 'Ingeniero en Seguridad Informatica': '0.01%', 'Cloud Engineer': '0.01%', 'Architecture engineering ': '0.01%', 'ETL DEVELOPER': '0.01%', 'Jefe de Soporte y Operaciones': '0.01%', 'Administrativo': '0.01%', 'Soporte': '0.01%', 'Analyst': '0.01%', 'soporte tecnico': '0.01%', 'Media comunnications': '0.01%', 'suport L2': '0.01%', 'Mainframe': '0.01%', 'Seguridad informática ': '0.01%', 'Trainee etl': '0.01%', 'Incident&Risk Leader': '0.01%', 'Operador': '0.01%', 'Administrativa ': '0.01%', 'FrontEnd Chapter Lead': '0.01%', 'Datasteward': '0.01%', 'Community manager en IT': '0.01%', 'UI - frontend': '0.01%', 'Administrador de sistema ERP': '0.01%', 'Desarrollador plsql + Desarrollador web + soporte-analista funcional': '0.01%', 'Support Senior': '0.01%', 'SRE': '0.01%', 'Responsable de Infraestructura': '0.01%', 'Integration ': '0.01%', 'FrontEnd Developer': '0.01%', 'Productora de Eventos': '0.01%', 'Gerente de Atracción de talentos y comercial': '0.01%', 'CRM developer': '0.01%', 'Customer success manager': '0.01%', 'Ingeniero en informatica': '0.01%', 'Chapter Lead': '0.01%', 'ingeniero infraestructuras de virtualizacion': '0.01%', 'Product support': '0.01%', 'Programador de automatas': '0.01%', 'Referente de area ': '0.01%', 'tecnico': '0.01%', 'Tech support ': '0.01%', 'TI': '0.01%', 'Instructor': '0.01%', 'help desk + backup + vmware + sys admin': '0.01%', 'Product Security': '0.01%', 'Director of DevOps and IT': '0.01%', 'Productivity & collaboration': '0.01%', 'exploit writer': '0.01%', 'team leader': '0.01%', 'Functional': '0.01%', 'CloudEngineer/Dev/DevOps': '0.01%', 'Senior Product Owner': '0.01%', 'Sr Staff engineer': '0.01%', 'Delivery Manager': '0.01%', 'FULL STACK Y BI': '0.01%', 'Analista de metodología': '0.01%', 'Alliances Manager (Indirect Sales)': '0.01%', 'Access Managment Sr': '0.01%', 'QA - Automation Engineer': '0.01%', 'soporte técnico': '0.01%', 'Data Center': '0.01%', 'Calidad': '0.01%', 'Docencia': '0.01%', 'Analista SAP Basis': '0.01%', 'AppDynamics Engineer': '0.01%', 'Noc ': '0.01%', 'CTO': '0.01%', 'Deposito': '0.01%', 'Implementador': '0.01%', 'mezcla entre helpdesk y admin base de datos': '0.01%', 'CIO': '0.01%', 'Chef': '0.01%', 'NLP Analyst': '0.01%', 'independiente ': '0.01%', 'Ad Tech': '0.01%'}\n"
     ]
    }
   ],
   "source": [
    "#Porcentaje de participación por tipo de rol\n",
    "#Uso las funciones definidas\n",
    "roles = respuestas_unicas(pregunta_encuesta = \"Trabajo de\")\n",
    "dic_roles = dic_respuestas(criterio = roles, pregunta_encuesta = \"Trabajo de\")\n",
    "participacion_por_rol = participacion_ordenada(dic_criterio = dic_roles, criterio = roles)\n",
    "\n",
    "print(f'Respuesta 3 - {participacion_por_rol}')"
   ]
  },
  {
   "cell_type": "markdown",
   "id": "86afc125-4a66-42de-a238-2aeec44a43d1",
   "metadata": {},
   "source": [
    "4. Printear porcentaje de respuesta para las preguntas: \n",
    "* ¿Contribuís a proyectos Open Source?\n",
    "* ¿Programás por hobbie?"
   ]
  },
  {
   "cell_type": "code",
   "execution_count": 947,
   "id": "43780b5a-1435-44ad-bc50-d5da3a8660e9",
   "metadata": {},
   "outputs": [
    {
     "name": "stdout",
     "output_type": "stream",
     "text": [
      "Respuesta 4 - ¿Contribuís a proyectos open source? 50.56%\n",
      "Respuesta 4 - ¿Programás como hobbie? 50.56%\n"
     ]
    }
   ],
   "source": [
    "#Printera porcentaje de respuestas a las preguntas:\n",
    "#Cuento la cantidad de respuestas a ¿Contribuís a proyectos Open Source?\n",
    "respuestas_open_source = 0\n",
    "for i in range(0,len(data)):\n",
    "    if len(data[i][\"¿Contribuís a proyectos open source?\"])>0 :\n",
    "        respuestas_open_source += 1\n",
    "        \n",
    "#Muestro el porcentaje de respuestas a ¿Contribuís a proyectos Open Source? sobre el total      \n",
    "print(f'Respuesta 4 - ¿Contribuís a proyectos open source? {round(respuestas_open_source/len(data)*100,2)}%')\n",
    "\n",
    "#Cuento la cantidad de respuestas a ¿Programas por hobbie?\n",
    "respuestas_hobbie = 0\n",
    "for i in range(0,len(data)):\n",
    "    if len(data[i][\"¿Programás como hobbie?\"])>0 :\n",
    "        respuestas_hobbie += 1\n",
    "        \n",
    "#Muestro el porcentaje de respuestas a ¿Programas por hobbie? sobre el total\n",
    "print(f'Respuesta 4 - ¿Programás como hobbie? {round(respuestas_hobbie/len(data)*100,2)}%')"
   ]
  },
  {
   "cell_type": "markdown",
   "id": "d34da47a-01d6-4b6f-a8cd-0626de035376",
   "metadata": {},
   "source": [
    "5. Printear porcentaje por seniority según años de experiencia, el mapeo es:\n",
    "```\n",
    "Junior: de 0 hasta 2 años.\n",
    "Semi-Senior: de 2 años inclusive hasta 5 años.\n",
    "Senior: desde 5 años inclusive.\n",
    "``` "
   ]
  },
  {
   "cell_type": "code",
   "execution_count": 948,
   "id": "7c54d9d9-fbd2-4057-882f-4d82bda0d7ef",
   "metadata": {},
   "outputs": [
    {
     "name": "stdout",
     "output_type": "stream",
     "text": [
      "Respuesta 5 - {'Junior': '15.93%', 'Semi-Senior': '26.63%', 'Senior': '57.45%'}\n"
     ]
    }
   ],
   "source": [
    "#Printear porcentaje por seniority según años de experiencia\n",
    "#Defino diccionarios con los rangos y sumo la cantidad de resupestas correspondientes a cada uno\n",
    "dic_seniority = {'Junior': 0, \n",
    "                 'Semi-Senior': 0, \n",
    "                 'Senior': 0}\n",
    "\n",
    "for i in range(0,len(data)):\n",
    "    if float(data[i][\"Años de experiencia\"]) < 2:\n",
    "            dic_seniority[\"Junior\"] += 1\n",
    "    elif 5 > float(data[i][\"Años de experiencia\"]) >= 2 : \n",
    "            dic_seniority[\"Semi-Senior\"] += 1\n",
    "    elif float(data[i][\"Años de experiencia\"]) >= 5:\n",
    "            dic_seniority[\"Senior\"] += 1\n",
    "\n",
    "respuestas_seniority = 0\n",
    "for i in range(0,len(data)):\n",
    "    if len(data[i][\"Años de experiencia\"])>0 :\n",
    "        respuestas_seniority += 1\n",
    "        \n",
    "#Calculo porcentajes de particpacion\n",
    "dic_participacion_por_seniority = {}\n",
    "\n",
    "#Calculo participacion por rol\n",
    "for seniority in dic_seniority.keys():\n",
    "     dic_participacion_por_seniority[seniority]=f'{round(dic_seniority[seniority]/respuestas_seniority*100,2)}%'\n",
    "\n",
    "print(f'Respuesta 5 - {dic_participacion_por_seniority}')\n"
   ]
  },
  {
   "cell_type": "markdown",
   "id": "7a182336-14cd-4e10-82d5-920779453a87",
   "metadata": {},
   "source": [
    "6. Printear porcentaje de personas encuestadas por años en la compañía actual y por años en el puesto actual."
   ]
  },
  {
   "cell_type": "code",
   "execution_count": 949,
   "id": "e7cb4e75-62ab-4c32-b210-a05f6944eabf",
   "metadata": {},
   "outputs": [
    {
     "name": "stdout",
     "output_type": "stream",
     "text": [
      "CHEQUEO OK: CANTIDAD DE PARTICIPANTES EN LA PREGUNTA IGUAL AL TOTAL DE ENCUESTADOS\n",
      "Respuesta 6a - Años de antiguedad en la empresa {'0': '36.69%', '1': '14.82%', '2': '14.27%', '3': '8.2%', '4': '4.27%', '5': '4.11%', '6': '2.61%', '10': '2.1%', '8': '1.98%', '7': '1.65%', '9': '1.14%', '1.5': '1.0%', '15': '0.92%', '11': '0.87%', '12': '0.84%', '14': '0.61%', '13': '0.61%', '16': '0.51%', '20': '0.48%', '2.5': '0.33%', '18': '0.25%', '17': '0.22%', '25': '0.17%', '21': '0.17%', '22': '0.16%', '3.5': '0.15%', '1.6': '0.13%', '1.7': '0.09%', '19': '0.06%', '23': '0.06%', '1.8': '0.06%', '4.5': '0.04%', '28': '0.04%', '1.9': '0.04%', '26': '0.04%', '24': '0.04%', '1.3': '0.03%', '3.4': '0.03%', '00': '0.03%', '4.75': '0.01%', '2021': '0.01%', '0.6': '0.01%', '0.5': '0.01%', '81': '0.01%', '3.7': '0.01%', '35': '0.01%', '100': '0.01%', '30': '0.01%', '2.3': '0.01%', '0.7': '0.01%', '7.5': '0.01%', '32': '0.01%'}\n",
      "CHEQUEO OK: CANTIDAD DE PARTICIPANTES EN LA PREGUNTA IGUAL AL TOTAL DE ENCUESTADOS\n",
      "Respuesta 6b - Años de antiguedad en el puesot actual {'0': '30.4%', '1': '18.69%', '2': '16.49%', '3': '10.21%', '4': '5.28%', '5': '5.15%', '6': '2.81%', '10': '2.55%', '8': '1.53%', '7': '1.51%', '1.5': '0.9%', '15': '0.7%', '12': '0.7%', '9': '0.57%', '11': '0.41%', '14': '0.33%', '13': '0.28%', '20': '0.22%', '2.5': '0.19%', '16': '0.13%', '18': '0.12%', '1.6': '0.12%', '3.5': '0.1%', '25': '0.07%', '17': '0.07%', '19': '0.04%', '1.9': '0.04%', '1.7': '0.04%', '21': '0.04%', '4.5': '0.03%', '0.5': '0.03%', '3.4': '0.03%', '28': '0.03%', '22': '0.03%', '1.8': '0.03%', '1.3': '0.01%', '33': '0.01%', '0.75': '0.01%', '80': '0.01%', '1.4': '0.01%', '27': '0.01%', '7.5': '0.01%', '24': '0.01%'}\n"
     ]
    }
   ],
   "source": [
    "#Armo diccionario de antiguedad en la compania y participacion usando las funciones definidas\n",
    "antiguedad = respuestas_unicas(pregunta_encuesta = \"Años en la empresa actual\")\n",
    "dic_antiguedad = dic_respuestas(criterio = antiguedad, pregunta_encuesta = \"Años en la empresa actual\")\n",
    "participacion_por_antiguedad = participacion_ordenada(dic_criterio = dic_antiguedad, criterio = antiguedad)\n",
    "\n",
    "print(f'Respuesta 6a - Años de antiguedad en la empresa {participacion_por_antiguedad}')\n",
    "\n",
    "#Armo diccionario de antiguedad en el puesto y participacion usando las funciones definidas\n",
    "antiguedad_puesto = respuestas_unicas(pregunta_encuesta = \"Años en el puesto actual\")\n",
    "dic_antiguedad_puesto = dic_respuestas(criterio = antiguedad_puesto, pregunta_encuesta = \"Años en el puesto actual\")\n",
    "participacion_por_antiguedad_puesto = participacion_ordenada(dic_criterio = dic_antiguedad_puesto, criterio = antiguedad_puesto)\n",
    "\n",
    "print(f'Respuesta 6b - Años de antiguedad en el puesot actual {participacion_por_antiguedad_puesto}')"
   ]
  },
  {
   "cell_type": "markdown",
   "id": "0c7df29f-b36c-424b-b5a7-0c37e0ccfe99",
   "metadata": {},
   "source": [
    "7. Printear porcentajes de nivel de educación formal y estado, es decir: % educación secundaria, terciaria, universitaria, postgrado, doctorado, postdoctorado, completo, incompleto y en curso para cada uno."
   ]
  },
  {
   "cell_type": "code",
   "execution_count": 950,
   "id": "e90f47ab-c8eb-4a92-8a36-2ed3c369deb4",
   "metadata": {},
   "outputs": [
    {
     "name": "stdout",
     "output_type": "stream",
     "text": [
      "Respuesta 7a - {'Universitario': '68.5%', 'Terciario': '17.3%', 'Posgrado': '6.94%', 'Secundario': '6.39%', 'Doctorado': '0.72%', 'Posdoctorado': '0.12%', 'Primario': '0.03%'}\n"
     ]
    }
   ],
   "source": [
    "#Armo diccionario de nivel educativo y participantes usando funciones\n",
    "nivel_educativo = respuestas_unicas(pregunta_encuesta = \"Nivel de estudios alcanzado\")\n",
    "dic_nivel_educativo = dic_respuestas(criterio = nivel_educativo, pregunta_encuesta = \"Nivel de estudios alcanzado\")\n",
    "participacion_por_nivel = participacion_ordenada(dic_criterio = dic_nivel_educativo, criterio = nivel_educativo)\n",
    "    \n",
    "print(f'Respuesta 7a - {participacion_por_nivel}')"
   ]
  },
  {
   "cell_type": "code",
   "execution_count": 951,
   "id": "a56eacd2-240d-4b22-afd0-21825316f284",
   "metadata": {},
   "outputs": [
    {
     "name": "stdout",
     "output_type": "stream",
     "text": [
      "Respuesta 7b - [{'Posdoctorado': {'Completado': '50.0%', 'Incompleto': '25.0%', 'En curso': '25.0%'}}, {'Doctorado': {'Completado': '52.0%', 'Incompleto': '8.0%', 'En curso': '40.0%'}}, {'Secundario': {'Completado': '90.54%', 'Incompleto': '7.21%', 'En curso': '2.25%'}}, {'Primario': {'Completado': '0.0%', 'Incompleto': '100.0%', 'En curso': '0.0%'}}, {'Universitario': {'Completado': '36.78%', 'Incompleto': '26.06%', 'En curso': '37.16%'}}, {'Posgrado': {'Completado': '65.56%', 'Incompleto': '10.79%', 'En curso': '23.65%'}}, {'Terciario': {'Completado': '51.08%', 'Incompleto': '21.46%', 'En curso': '27.45%'}}]\n"
     ]
    }
   ],
   "source": [
    "#Defino listas auxiliares\n",
    "dic_estados = {'Completado': 0, 'Incompleto': 0, 'En curso': 0}\n",
    "posiciones_estados = [['Completado', 0], ['Incompleto', 1], ['En curso', 2]]\n",
    "estados_aux = ['Completado', 'Incompleto', 'En curso']\n",
    "\n",
    "#Busco cantidad de participantes en cada estado por nivel educativo\n",
    "cantidades_por_estado = []    \n",
    "for nivel in nivel_educativo:\n",
    "    participantes_por_estado = [0, 0, 0]\n",
    "    for i in range(0,len(data)):\n",
    "        for estado in posiciones_estados:\n",
    "            if data[i][\"Nivel de estudios alcanzado\"] == nivel and data[i][\"Estado\"] == estado[0]:\n",
    "                participantes_por_estado[estado[1]] += 1\n",
    "    for r in range (0,3):\n",
    "        participantes_por_estado[r] = f'{round(participantes_por_estado[r]/dic_nivel_educativo[nivel]*100,2)}%'\n",
    "    dic_participantes_por_estado = dict(zip(estados_aux, participantes_por_estado))\n",
    "    dic_estado_educacion = {nivel: dic_participantes_por_estado}\n",
    "    cantidades_por_estado.append(dic_estado_educacion)\n",
    "    \n",
    "print(f'Respuesta 7b - {cantidades_por_estado}')"
   ]
  },
  {
   "cell_type": "markdown",
   "id": "51786345-dfc6-4c3a-98d9-5e57bd1ce48b",
   "metadata": {},
   "source": [
    "8. Formatear las carreras universitarias:\n",
    "- Nombres capitalizados\n",
    "- Reemplazar vocales con tilde por vocales sin tilde.\n",
    "- Reemplazar `ñ` por `n`\n",
    "- *lic*, *lic.* por Licenciatura\n",
    "- *tec*, *tec.* por Tecnucatura\n",
    "* *cs, *cs.* por Ciencias\n",
    "* *ed, ed.* por Educación\n",
    "* Transformaciones que se consideren necesarias\n",
    "\n",
    "Printear porcentaje según carrera"
   ]
  },
  {
   "cell_type": "code",
   "execution_count": 969,
   "id": "57336a2e-5dec-4c81-a3d5-89edbbe69da8",
   "metadata": {},
   "outputs": [
    {
     "name": "stdout",
     "output_type": "stream",
     "text": [
      "Respuesta 8 - Participacion por carrera {'Ingenieria en sistemas de informacion': '19.0%', 'Ingenieria en informatica': '11.34%', 'Analista de sistemas': '8.68%', 'Licenciatura en sistemas de informacion': '5.66%', 'Licenciatura en ciencias de la computacion': '5.66%', 'Licenciatura en informatica': '4.3%', 'Tecnicatura en programacion': '3.39%', 'Ingenieria electronica': '2.99%', 'Ingenieria en computacion': '2.81%', 'Diseno grafico': '2.48%', 'Tecnicatura superior en programacion': '2.36%', 'Licenciatura en administracion': '1.72%', 'Tecnicatura en informatica': '1.57%', 'Ingenieria industrial': '1.18%', 'Licenciatura en analisis de sistemas': '1.18%', 'Analista programador': '1.12%', 'Ingenieria en software': '1.06%', 'Analista programador universitario': '1.0%', 'Ingenieria en telecomunicaciones': '0.97%', 'Tecnicatura superior en sistemas informaticos': '0.88%', 'Analista de computacion': '0.88%', 'Diseno multimedial': '0.85%', 'Tecnicatura en sistemas': '0.82%', 'Tecnicatura superior en analisis de sistemas': '0.7%', 'Analista universitario de sistemas': '0.6%', 'Tecnicatura electronica': '0.54%', 'Tecnicatura en computacion': '0.51%', 'Telecomunicaciones': '0.51%', 'Licenciatura en psicologia': '0.42%', 'Psicologia': '0.33%', 'Diseno de imagen y sonido': '0.33%', 'Sistemas de informacion': '0.27%', 'Licenciatura en ciencia politica': '0.21%', 'Diseno industrial': '0.21%', 'Licenciatura en fisica': '0.18%', 'Marketing': '0.18%', 'Licenciatura en relaciones del trabajo': '0.18%', 'Licenciatura en comunicacion': '0.15%', 'Contador publico': '0.15%', 'Licenciatura en economia': '0.15%', 'Licenciatura en sistemas': '0.15%', 'Tecnicatura en desarrollo web': '0.12%', 'Sociologia': '0.12%', 'Licenciatura en sociologia': '0.12%', 'Profesorado de ingles': '0.12%', 'Letras': '0.12%', 'Comunicacion social': '0.12%', 'Licenciatura en ciencias de la comunicacion': '0.12%', 'Licenciatura en ciencias biologicas': '0.09%', 'Licenciatura en relaciones internacionales': '0.09%', 'Licenciatura en comunicacion social': '0.09%', 'Medicina': '0.09%', 'Licenciatura en artes multimediales': '0.09%', 'Ingenieria mecatronica': '0.09%', 'Licenciatura en gestion de tecnologia': '0.09%', 'Licenciatura en ciencias matematicas': '0.09%', 'Licenciatura en gestion de la tecnologia': '0.09%', 'Diseno web': '0.09%', 'Licenciatura en publicidad': '0.09%', 'Ingenieria quimica': '0.09%', 'Arquitectura': '0.09%', 'Licenciatura en recursos humanos': '0.09%', 'Licenciatura en ciencias fisicas': '0.09%', 'Licenciatura en biotecnologia': '0.09%', 'Artes visuales': '0.09%', 'Economia': '0.09%', 'Licenciatura en ciencias de datos': '0.09%', 'Ingenieria de sonido': '0.09%', 'Licenciatura en matematicas': '0.09%', 'Ingenieria biomedica': '0.06%', 'Ingenieria de sistemas': '0.06%', 'Edicion': '0.06%', 'Licenciatura en estadistica': '0.06%', 'Licenciatura en turismo': '0.06%', 'Actuario': '0.06%', 'Tecnicatura en desarrollo de software': '0.06%', 'Ciencia politica': '0.06%', '-': '0.06%', 'Licenciatura en ciencias de la comunicacion social': '0.06%', 'Licenciatura en bioinformatica': '0.06%', 'Licenciatura en historia': '0.06%', 'Licenciatura en tecnologia de la informacion': '0.06%', 'Ninguna': '0.06%', 'Rrii': '0.06%', 'Profesorado de historia': '0.06%', 'Licenciatura en rrhh': '0.06%', 'Tecnico en diseno y programacion de videojuegos': '0.06%', 'Bioingenieria': '0.06%', 'Licenciatura en relaciones publicas e institucionales': '0.06%', 'Fisica': '0.06%', 'Rrhh': '0.06%', 'Abogacia': '0.06%', 'Ingenieria mecanica': '0.06%', 'Ingenieria en tecnologias de la informacion': '0.06%', 'Ingenieria en sistemas': '0.06%', 'Ingenieria civil': '0.06%', 'Relaciones publicas': '0.06%', 'Administracion': '0.06%', 'Licenciatura en ciencia de datos': '0.06%', 'Licenciatura en matematica': '0.06%', 'Mba': '0.06%', 'Recursos humanos': '0.06%', 'Licenciatura en periodismo': '0.06%', 'Relaciones internacionales': '0.06%', 'Tecnicatura en desarrollo de videojuegos': '0.06%', 'Diseno de videojuegos': '0.03%', 'Ingenieria ejecucion electronica': '0.03%', 'Traductora de ingles': '0.03%', 'Tecnico universitario en sonido': '0.03%', 'Logistica': '0.03%', 'Tecnicatura en desarrollo de paginas web': '0.03%', 'Tecnicatura en administracion de sistemas y software libre': '0.03%', 'Licenciatura en direccion escenica': '0.03%', 'Tecnicatura superior en redes informaticas': '0.03%', 'Tecnico superior en desarrollo de software': '0.03%', 'Bootcamp en programacion web full stack': '0.03%', 'Ciencias de la comunicacion social ': '0.03%', 'Decorador profesional': '0.03%', 'Medico informatico': '0.03%', 'Tecnicatura en edicion uba': '0.03%', 'Tecnico de sonido': '0.03%', 'Ingenieria de sonido ': '0.03%', 'Abogado ': '0.03%', 'Traductorado publico': '0.03%', 'Licenciatura en matematica aplicada': '0.03%', 'Traductor de ingles': '0.03%', 'Tecnico superior en informatica aplicada': '0.03%', 'Tecnicatura superior en desarrollo de software ': '0.03%', 'Profesor de ingles': '0.03%', 'Traduccion': '0.03%', 'Tecnicatura superior en inteligencia artificial y ciencia de datos': '0.03%', 'No': '0.03%', 'Licenciatura en estadistica ': '0.03%', 'Periodismo': '0.03%', 'Bioquimica': '0.03%', 'Marketing y publicidad digital': '0.03%', 'Tecnico universitario en desarrollo web': '0.03%', 'Master in business and tech': '0.03%', 'Licenciatura en gestion de sistemas': '0.03%', 'Periodismo ': '0.03%', 'Tecnico en comunicacion social': '0.03%', 'Tecnicatura universitaria en mecatronica': '0.03%', 'Marketing y administracion agroindustrial': '0.03%', 'Tecnico electromecanico': '0.03%', 'Licenciatura en musica': '0.03%', 'Traductorado e interpretariado de ingles ': '0.03%', 'Mg. comunicacion social': '0.03%', 'Arte audiovisual': '0.03%', 'Profesorado en ensenanza media y superior en matematicas': '0.03%', 'Ingenieria administrativa': '0.03%', 'Video juegos': '0.03%', 'Tecnicatura superior en soporte de infraestructuras it ': '0.03%', 'Ingeniera electrica': '0.03%', 'Profesor en disciplinas industriales ': '0.03%', 'Soy bachiller en humanidades y Ciencias sociales': '0.03%', 'N/a': '0.03%', 'Desarrollo web y mobile': '0.03%', 'Licenciatura en ciencias quimicas + maestria en ciencia de datos': '0.03%', 'No estudie': '0.03%', 'Licenciatura en relaciones publicas': '0.03%', 'Cp': '0.03%', 'Licenciatura higiene y seguridad': '0.03%', 'Histotecnologia': '0.03%', 'Mg. comunicacion estrategica': '0.03%', 'Ingenieria': '0.03%', 'Front end development': '0.03%', 'Licenciatura en comercio internacional': '0.03%', 'Licenciatura en comunicacion  multimedia': '0.03%', 'Tecnico medio en soporte en informatica': '0.03%', 'Tecnicatura superior en desarrollo de software': '0.03%', 'Ingenieria sonido': '0.03%', 'Licenciatura en psicologia ': '0.03%', 'Contaduria': '0.03%', 'Ingeneria en pesca': '0.03%', 'Diseno y administracion de sitios web': '0.03%', 'Maestria en direccion estrategica y tecnologica': '0.03%', 'Diseno de interiores': '0.03%', 'Licenciatura en administracion y sistemas': '0.03%', 'Tengo titulo de licencia en ciencias matematicas ': '0.03%', 'Licenciatura artes audiovisuales': '0.03%', 'Cm': '0.03%', 'Escuela de educacion tecnica': '0.03%', 'Licenciatura en comercializacion ': '0.03%', 'Fisica aplicada': '0.03%', 'Tecnico en sistemas': '0.03%', 'Licenciatura en Ciencias antropologicas': '0.03%', 'Tsp abandonada....3x': '0.03%', 'Maestria en it': '0.03%', 'Tecnicatura en web': '0.03%', 'Derecho': '0.03%', 'Ciencias de la comunicacion': '0.03%', 'Diseno y administracion web': '0.03%', 'Licenciatura en tecnologia educativa': '0.03%', 'Licenciatura en marketing ': '0.03%', 'Cloud administrator/ artes audiovisuales': '0.03%', 'Disenador industrial': '0.03%', 'Biologia': '0.03%', 'Bachillerato': '0.03%', 'Sociologia ': '0.03%', 'Tecnicatura en soporte de infraestructura': '0.03%', 'Ingenieria en sistemas ': '0.03%', 'Economicas': '0.03%', 'Analista en redes informaticas': '0.03%', 'Tecnicatura universitaria en tecnologias de la informacion': '0.03%', 'Ninguna.': '0.03%', 'Tecnicatura niversitaria en desarrollo de aplicaciones informaticas': '0.03%', 'Estudio por academias virtuales': '0.03%', 'Tecnicatura en periodismo': '0.03%', 'Soy abogado haciendo un master en rrii': '0.03%', 'Tecnicatura superior en base de datos': '0.03%', 'Psicologia ': '0.03%', 'Autodidacta': '0.03%', 'Licenciatura en gestion de recursos humanos': '0.03%', 'Comunicacion': '0.03%', 'Ingenieria en sonido': '0.03%', 'Geologia': '0.03%', 'Electromecanica': '0.03%', 'Licenciatura admin': '0.03%', 'Licenciatura en finanzas': '0.03%', 'Licenciatura en tecnologias educativas': '0.03%', 'Maestria ': '0.03%', 'Ingenieria quimica ': '0.03%', 'Licenciatura en ciencias quimicas ': '0.03%', 'Licenciatura en gestion de la informacion': '0.03%', 'Linguistica': '0.03%', 'Tecnica electronica': '0.03%', 'Licenciatura en gestion de tecnologia informatica': '0.03%', 'Geologia ': '0.03%', 'Ciencia de datos': '0.03%', 'Tecnicatura en diseno web': '0.03%', 'Tecnicatura en infraestructuras de ti': '0.03%', 'Ingenieria de sistemas y computacion ': '0.03%', 'Ingeniera civil': '0.03%', 'Economia. actualmente analista en sistemas': '0.03%', 'Licenciatura en geografia': '0.03%', 'Cisco': '0.03%', 'Gestion de medios y entretenimiento': '0.03%', 'Diseno grafico multimedial y analista de sistemas': '0.03%', 'Conservatorio de musica': '0.03%', 'Diseno arquitectonico': '0.03%', 'Hacking': '0.03%', 'Traductorado y psicologia social': '0.03%', 'Tecnicatura superior en mecatronica': '0.03%', 'Tecnicatura en diseno de simuladores virtuales': '0.03%', 'Grabacion y produccion musical': '0.03%', 'Phd in computer science': '0.03%', 'Relaciones laborales': '0.03%', 'Diplomatura en ciencia de datos': '0.03%', 'Contador': '0.03%', 'Licenciatura en tecnologias de informacion ': '0.03%', 'Licenciatura en comercializacion': '0.03%', 'Tecnicatura en marketing y publicidad digital': '0.03%', 'Diploma en experiencias digitales': '0.03%', 'Cs de la comunicacion social': '0.03%', 'Publicidad': '0.03%', 'Licenciatura en ciencias politicas': '0.03%', 'Tenicatura en periodismo general': '0.03%', 'Analista en infraestructura': '0.03%', 'Profesorado de teatro': '0.03%', 'Licenciatura en astronomia': '0.03%', 'Maestria en recursos humanos': '0.03%', 'Licenciatura en direccion de negocios': '0.03%', 'Arquitectura ': '0.03%', 'Licenciatura en administracion de sistemas y empresas': '0.03%', 'Licenciatura en geologia': '0.03%', 'Biotecnologia': '0.03%', 'Licenciatura en rrll': '0.03%', 'Analista en infraestructura informatica': '0.03%', 'Filologia hispanica': '0.03%', 'Licenciatura en organizacion industrial': '0.03%', 'Licenciatura en redes y comunicacion de datos ': '0.03%', 'Licenciatura en publicidad y relaciones publicas': '0.03%', 'Ciencias biologicas ': '0.03%', 'Tecnicatura en infraestructura tecnologica ': '0.03%', 'Traductora publica ingles ': '0.03%', 'Corrector de textos': '0.03%', 'Tecnico superior en adm de la produccion grafica': '0.03%', 'Programador y disenador de simuladores virtuales': '0.03%', 'Relaciones del trabajo': '0.03%', 'Productora y directora para radio y tv': '0.03%', 'Licenciatura y profesorado en artes (orientacion musica)': '0.03%', 'Filosofia': '0.03%', 'Comunicacion ': '0.03%', 'Tecnicatura superior en automatizacion y robotica': '0.03%', 'CertifiEducacion tech developer': '0.03%', 'Soporte en infraestructuras': '0.03%', 'Contador publico ': '0.03%', 'Licenciatura en recursos humanos ': '0.03%', 'Licenciatura en artes visuales ': '0.03%', '.': '0.03%', 'Profesorado de ingles ': '0.03%', 'Traduccion de ingles': '0.03%', 'Administracion bancaria': '0.03%', 'Comercio exterior ': '0.03%', 'Licenciatura en ciencias fiscales mencion aduana y comercio ': '0.03%', 'Ingenieria en bionica': '0.03%', 'Licenciatura en ciencias matematicas ': '0.03%', 'Magister en gestion de la seguridad de la informacion': '0.03%', 'Ingenieria aeronautica': '0.03%', 'Administracion ': '0.03%', 'Tecnicatura electromecanica': '0.03%', 'Turismo': '0.03%', 'Licenciatura en geologia, doctorado en ciencias naturales': '0.03%', 'Literatura': '0.03%', 'Comunicacion audiovisual': '0.03%', 'Licenciatura en sociologia - master en data science': '0.03%', 'Tecnico universitario en desarrollo de software ': '0.03%', 'Licenciatura psicologia': '0.03%', 'Antropologia': '0.03%', 'Sin titulo universitario': '0.03%', 'Profesorado de educacion fisica': '0.03%', 'Carrera de grado en curso': '0.03%', 'Arq': '0.03%', 'Tecnicatura superior en administracion de sistemas': '0.03%', 'Analisis de sistemas, licenciatura en psicologia': '0.03%', 'Trabajo social': '0.03%', 'Licenciatura en gestion de sistemas de automatizacion y robotica': '0.03%', 'Comunicacion social, si comunicacion social': '0.03%', 'Licenciatura en quimica': '0.03%', 'Ninguna de las anteriores': '0.03%', 'Tecnicatura universitaria en sistemas informaticos': '0.03%', 'Imagen y sonido': '0.03%', 'Finanzas': '0.03%', 'Tecnico en recursos humanos': '0.03%', 'Diseno y programacion de simuladores virtuales': '0.03%', 'Musica': '0.03%', 'Licenciatura en artes electronicas': '0.03%', 'Tecnicatura superior en analisis, desarrollo y programacion de aplicaciones': '0.03%', 'Licenciatura en higiene y seguridad en el trabajo': '0.03%', 'X': '0.03%', 'Ceh, cissp, csfpc, etc.': '0.03%', 'Bootcamp de desarrollo web': '0.03%', 'Matematicas': '0.03%', 'Licenciatura en gestion amb + mbt': '0.03%', 'Veterinaria': '0.03%', 'Tecnico constructor mmo': '0.03%', 'Licenciatura en comunicacion audiovisual ': '0.03%', 'Ingenieria en redes y comunicaciones': '0.03%', 'Maestro mayor de obras': '0.03%', 'Licenciatura relaciones del trabajo, diplomatura en usabilidad y accesibilidad ': '0.03%', 'Ingenieria electrica': '0.03%', 'Tecnicatura en software libre': '0.03%', 'Tecnicatura superior en tecnologias de la informacion': '0.03%', 'Ingeniero civil': '0.03%', 'Tecnico superior en soporte de infraestructura': '0.03%', 'Licenciatura en tecnologias de la informacion': '0.03%', 'Ingenieria electronica y telecomunicaciones 4to, ingenieria en software 5to': '0.03%', 'Tecnico superior en desarrollo de software ': '0.03%', 'Licenciatura en ciencias sociales': '0.03%'}\n"
     ]
    }
   ],
   "source": [
    "#Formateo las respuestas a Carrera \n",
    "for i in range(0, len(data)):\n",
    "    data[i][\"Carrera\"] = data[i][\"Carrera\"].capitalize()\n",
    "    data[i][\"Carrera\"] = data[i][\"Carrera\"].replace('á','a')\n",
    "    data[i][\"Carrera\"] = data[i][\"Carrera\"].replace('é','e')\n",
    "    data[i][\"Carrera\"] = data[i][\"Carrera\"].replace('í','i')\n",
    "    data[i][\"Carrera\"] = data[i][\"Carrera\"].replace('ó','o')\n",
    "    data[i][\"Carrera\"] = data[i][\"Carrera\"].replace('ú','u')\n",
    "    data[i][\"Carrera\"] = data[i][\"Carrera\"].replace('ñ','n')\n",
    "    data[i][\"Carrera\"] = data[i][\"Carrera\"].replace('Lic. ','Licenciatura ')\n",
    "    data[i][\"Carrera\"] = data[i][\"Carrera\"].replace('Lic ','Licenciatura ')\n",
    "    data[i][\"Carrera\"] = data[i][\"Carrera\"].replace('Licenciado ','Licenciatura ')\n",
    "    data[i][\"Carrera\"] = data[i][\"Carrera\"].replace('Licenciada ','Licenciatura ')\n",
    "    data[i][\"Carrera\"] = data[i][\"Carrera\"].replace('Licenciaturas ','Licenciatura ')    \n",
    "    data[i][\"Carrera\"] = data[i][\"Carrera\"].replace('Tec. ','Tecnicatura ')    \n",
    "    data[i][\"Carrera\"] = data[i][\"Carrera\"].replace('Tec ','Tecnicatura ')\n",
    "    data[i][\"Carrera\"] = data[i][\"Carrera\"].replace('Ing. ','Ingeniera ')    \n",
    "    data[i][\"Carrera\"] = data[i][\"Carrera\"].replace('Ing ','Ingeniera ')\n",
    "    data[i][\"Carrera\"] = data[i][\"Carrera\"].replace('cs. ','Ciencias ')\n",
    "    data[i][\"Carrera\"] = data[i][\"Carrera\"].replace('cs ','Ciencias ')    \n",
    "    data[i][\"Carrera\"] = data[i][\"Carrera\"].replace('ed. ','Educacion ')    \n",
    "    data[i][\"Carrera\"] = data[i][\"Carrera\"].replace('ed ','Educacion ')    \n",
    "\n",
    "    \n",
    "#Armo diccionario de carreras y participacion usando las funciones definidas\n",
    "carreras = respuestas_unicas(pregunta_encuesta = \"Carrera\")\n",
    "dic_carreras = dic_respuestas(criterio = carreras, pregunta_encuesta = \"Carrera\")\n",
    "participacion_por_carreras = participacion_ordenada(dic_criterio = dic_carreras, criterio = carreras)\n",
    "\n",
    "print(f'Respuesta 8 - Participacion por carrera {participacion_por_carreras}')"
   ]
  },
  {
   "cell_type": "markdown",
   "id": "ea803c6d-6a61-4d98-be72-116ae2855e70",
   "metadata": {},
   "source": [
    "9. Printear porcentaje de respuesta a las preguntas:\n",
    "- ¿Realizaste cursos de especialización?\n",
    "- Si realizaste, ¿Quién pagó por los cursos de especialización?"
   ]
  },
  {
   "cell_type": "code",
   "execution_count": 953,
   "id": "99f82b25-fa8a-42b4-8349-19035ff67fce",
   "metadata": {},
   "outputs": [
    {
     "name": "stdout",
     "output_type": "stream",
     "text": [
      "Respuesta 9a - Cantidad de respuestas a ¿Realizaste cursos de especialización?:50.56%\n",
      "Respuesta 9b - Cantidad de respuestas a Si realizaste, ¿Quien pago por los cursos de especializacion?: \n",
      "Porcentaje sobre el total de encuestados: 39.85% \n",
      "Porcentaje sobre el total de repsuestas a la pregunta: 78.81%\"\n"
     ]
    }
   ],
   "source": [
    "#Cuento la cantidad de respuestas a ¿Realizaste cursos de especialización?\n",
    "respuestas_especializacion = 0\n",
    "for i in range(0,len(data)):\n",
    "    if len(data[i][\"Realizaste cursos de especialización\"])>0 :\n",
    "        respuestas_especializacion += 1\n",
    "        \n",
    "#Muestro el porcentaje de respuestas sobre el total      \n",
    "print(f'Respuesta 9a - Cantidad de respuestas a ¿Realizaste cursos de especialización?:\\\n",
    "{round(respuestas_especializacion/len(data)*100,2)}%')\n",
    "\n",
    "#Cantidad de respuestas que si realizaron especializacion:\n",
    "respuestas_si = 0\n",
    "for i in range(0, len(data)):\n",
    "        if data[i][\"Realizaste cursos de especialización\"].startswith('Sí,') == True:\n",
    "            respuestas_si += 1\n",
    "            \n",
    "#Muestro el porcentaje de respuestas sobre el total      \n",
    "print(f'Respuesta 9b - Cantidad de respuestas a Si realizaste, ¿Quien pago por los cursos de especializacion?: \\n\\\n",
    "Porcentaje sobre el total de encuestados: {round(respuestas_si/len(data)*100,2)}% \\n\\\n",
    "Porcentaje sobre el total de repsuestas a la pregunta: {round(respuestas_si/respuestas_especializacion*100,2)}%\"''')          \n"
   ]
  },
  {
   "cell_type": "markdown",
   "id": "cb7a4544-062a-4429-abea-f0b7293b48f7",
   "metadata": {},
   "source": [
    "10. Printear porcentaje por identidad de género y personas con discapacidad"
   ]
  },
  {
   "cell_type": "code",
   "execution_count": 954,
   "id": "a6e907fc-ecb6-4255-8eba-59b9199f14a6",
   "metadata": {},
   "outputs": [
    {
     "name": "stdout",
     "output_type": "stream",
     "text": [
      "Respuesta 10a - Cantidad de participantes por genero: {'Varon-trans': '0.21%', 'Varon': '78.09%', 'Prefiero no decir': '4.19%', 'Mujer': '16.59%', 'Travesti': '0.07%', 'Mujer trans': '0.1%', 'No binarie': '0.74%'}\n"
     ]
    }
   ],
   "source": [
    "#Corregimos diferencias en respuestas\n",
    "#Consideramos varon como varon cis y mujer como mujer cis\n",
    "for i in range(0, len(data)):\n",
    "    data[i][\"Me identifico\"] = data[i][\"Me identifico\"].capitalize()    \n",
    "    data[i][\"Me identifico\"] = data[i][\"Me identifico\"].replace('á','a')\n",
    "    data[i][\"Me identifico\"] = data[i][\"Me identifico\"].replace('ó','o')\n",
    "    data[i][\"Me identifico\"] = data[i][\"Me identifico\"].replace('Varon Cis','Varon')\n",
    "    data[i][\"Me identifico\"] = data[i][\"Me identifico\"].replace('Varon cis','Varon')\n",
    "    data[i][\"Me identifico\"] = data[i][\"Me identifico\"].replace('Varon heterosexual','Varon')    \n",
    "    data[i][\"Me identifico\"] = data[i][\"Me identifico\"].replace('Hombre','Varon')\n",
    "    data[i][\"Me identifico\"] = data[i][\"Me identifico\"].replace('Masculino','Varon')\n",
    "    data[i][\"Me identifico\"] = data[i][\"Me identifico\"].replace('Mujer Cis','Mujer')\n",
    "    data[i][\"Me identifico\"] = data[i][\"Me identifico\"].replace('Mujer cis','Mujer')\n",
    "    data[i][\"Me identifico\"] = data[i][\"Me identifico\"].replace('Varon trans','Varon-trans')\n",
    "    data[i][\"Me identifico\"] = data[i][\"Me identifico\"].replace('Varon ','Varon')\n",
    "    \n",
    "\n",
    "#Traigo todas las respuestas a la pregunta\n",
    "generos = respuestas_unicas(pregunta_encuesta = 'Me identifico')\n",
    "    \n",
    "#Depuramos respuestas que no aportan\n",
    "generos_depurado = set()\n",
    "for respuesta in generos:\n",
    "    cantidad = 0\n",
    "    for i in range(0,len(data)):\n",
    "        if data[i]['Me identifico'] == respuesta:\n",
    "            cantidad += 1\n",
    "    if cantidad >2 and respuesta!= \"Macho alfa\" and respuesta !=\"Helicoptero de combate\":\n",
    "            generos_depurado.add(respuesta)\n",
    "            \n",
    "participantes_por_genero = []\n",
    "for i in range(0,len(generos_depurado)):\n",
    "    participantes_por_genero.append(0)\n",
    "\n",
    "generos_depurado = list(generos_depurado)    \n",
    "dic_generos = dict(zip(generos_depurado, participantes_por_genero))\n",
    "\n",
    "#Cuento cantidad de participantes\n",
    "for i in range(0,len(data)):\n",
    "    for genero in generos_depurado:\n",
    "        if data[i][\"Me identifico\"] == genero:\n",
    "            dic_generos[genero] += 1\n",
    "\n",
    "cant_respuestas_genero = sum(dic_generos.values())\n",
    "\n",
    "#Armo diciconario con porcentajes de participacion \n",
    "dic_participacion_genero = {}\n",
    "\n",
    "#Calculo participacion por ciudad\n",
    "for genero in generos_depurado:\n",
    "     dic_participacion_genero[genero]=f'{round(dic_generos[genero]/cant_respuestas_genero*100,2)}%'\n",
    "print(f'Respuesta 10a - Cantidad de participantes por genero: {dic_participacion_genero}')"
   ]
  },
  {
   "cell_type": "code",
   "execution_count": 955,
   "id": "93fcdd9d-39f1-4bea-8409-38f1fd85cbae",
   "metadata": {},
   "outputs": [
    {
     "name": "stdout",
     "output_type": "stream",
     "text": [
      "Respuesta 10b - Cantidad de personas con discapacidad: {'si': '3.45%', 'no': '96.55%'}\n"
     ]
    }
   ],
   "source": [
    "#Corregimos principales diferencias en respuestas\n",
    "for i in range(0, len(data)):\n",
    "    data[i][\"¿Tenés algún tipo de discapacidad?\"] = data[i][\"¿Tenés algún tipo de discapacidad?\"].capitalize()    \n",
    "    data[i][\"¿Tenés algún tipo de discapacidad?\"] = data[i][\"¿Tenés algún tipo de discapacidad?\"].replace('á','a')\n",
    "    data[i][\"¿Tenés algún tipo de discapacidad?\"] = data[i][\"¿Tenés algún tipo de discapacidad?\"].replace('ó','o')\n",
    "    data[i][\"¿Tenés algún tipo de discapacidad?\"] = data[i][\"¿Tenés algún tipo de discapacidad?\"].replace('Ninguna','')\n",
    "    data[i][\"¿Tenés algún tipo de discapacidad?\"] = data[i][\"¿Tenés algún tipo de discapacidad?\"].replace(',','')\n",
    "    data[i][\"¿Tenés algún tipo de discapacidad?\"] = data[i][\"¿Tenés algún tipo de discapacidad?\"].replace('No','')\n",
    "    data[i][\"¿Tenés algún tipo de discapacidad?\"] = data[i][\"¿Tenés algún tipo de discapacidad?\"].replace('None','')\n",
    "    data[i][\"¿Tenés algún tipo de discapacidad?\"] = data[i][\"¿Tenés algún tipo de discapacidad?\"].replace('0','')\n",
    "    data[i][\"¿Tenés algún tipo de discapacidad?\"] = data[i][\"¿Tenés algún tipo de discapacidad?\"].replace('Pija larga','')\n",
    "\n",
    "dic_discapacidades = {'si': 0, \n",
    "                      'no': 0}\n",
    "for i in range(0,len(data)):\n",
    "    if len(data[i][\"¿Tenés algún tipo de discapacidad?\"]) == 0:\n",
    "        dic_discapacidades['no'] +=1\n",
    "    elif len(data[i][\"¿Tenés algún tipo de discapacidad?\"]) != 0:    \n",
    "        dic_discapacidades['si'] +=1\n",
    "\n",
    "participacion_discapacidad = dic_discapacidades        \n",
    "si_no = ['si', 'no']\n",
    "for resp in si_no:\n",
    "    participacion_discapacidad[resp] = f'{round(dic_discapacidades[resp]/len(data)*100,2)}%'     \n",
    "\n",
    "print(f'Respuesta 10b - Cantidad de personas con discapacidad: {participacion_discapacidad}')"
   ]
  },
  {
   "cell_type": "markdown",
   "id": "acde6b71-2537-421f-8398-2ca8afd34398",
   "metadata": {},
   "source": [
    "11. Salarios: calcular la mediana salarial para cada una de las siguientes categorías:\n",
    "- Salario según región\n",
    "- Salario por rol\n",
    "- Salario por experiencia\n",
    "- Salario por nivel de formación\n",
    "- Salario por carrera\n",
    "- Salario por tecnología\n",
    "- Salario por lenguaje de programación\n",
    "- Salario por género"
   ]
  },
  {
   "cell_type": "code",
   "execution_count": 956,
   "id": "85f051d9-625c-43ba-9e29-b7b11eb6ecc5",
   "metadata": {
    "tags": []
   },
   "outputs": [],
   "source": [
    "#Definir el tipo de cambio por pais para dolarizar todos los sueldos y asi poder compararlos\n",
    "paises = set()\n",
    "for i in range(0,len(data)):\n",
    "    if len(data[i][\"En que pais trabajas\"]) != 0:\n",
    "        paises.add(data[i][\"En que pais trabajas\"])\n",
    "\n",
    "#Tomo TC del 27/01/2022 - en el caso de Argentina considero el oficial         \n",
    "dic_TC ={'Argentina': 104.76,\n",
    " 'Bolivia': 6.89,\n",
    " 'Chile':805.25,\n",
    " 'Colombia': 3963.01,\n",
    " 'Costa Rica': 640.48,\n",
    " 'Cuba': 24.02,\n",
    " 'Ecuador': 1,\n",
    " 'El Salvador': 8.75,\n",
    " 'Guatemala': 7.70,\n",
    " 'Honduras': 24.65,\n",
    " 'México': 20.73,\n",
    " 'Nicaragua': 35.49,\n",
    " 'Panamá': 1,\n",
    " 'Paraguay': 7055.63,\n",
    " 'Perú': 3.85,\n",
    " 'Puerto Rico': 1,\n",
    " 'República Dominicana': 50.7,\n",
    " 'Uruguay': 44.57,\n",
    " 'Venezuela':4.58}        \n",
    "\n",
    "#Me quedo solo con los valores en la columna sueldo bruto\n",
    "#Primero identifico casos que usan punto decimal y lo cambio por coma para unificar formato\n",
    "import re\n",
    "for i in range(0, len(data)):\n",
    "    if len(data[i][\"Salario mensual o retiro BRUTO (en tu moneda local)\"])>3:\n",
    "        if data[i][\"Salario mensual o retiro BRUTO (en tu moneda local)\"][-2] == \".\": \n",
    "            data[i][\"Salario mensual o retiro BRUTO (en tu moneda local)\"][-2].replace(\".\",\",\")   \n",
    "        if  data[i][\"Salario mensual o retiro BRUTO (en tu moneda local)\"][-3] == '.':\n",
    "            data[i][\"Salario mensual o retiro BRUTO (en tu moneda local)\"][-3].replace(\".\",\",\") \n",
    "                       \n",
    "            \n",
    "#Elimino todos los caracteres que no sean numeros o comas\n",
    "for i in range(0, len(data)):\n",
    "    data[i][\"Salario mensual o retiro BRUTO (en tu moneda local)\"] = re.sub(\"[^0-9,]\", \"\", data[i][\"Salario mensual o retiro BRUTO (en tu moneda local)\"])\n",
    "\n",
    "#Para poder operar convierto comas a puntos\n",
    "for i in range(0, len(data)):\n",
    "    data[i][\"Salario mensual o retiro BRUTO (en tu moneda local)\"] = data[i][\"Salario mensual o retiro BRUTO (en tu moneda local)\"].replace(\",\",\".\")   \n",
    "\n",
    "for i in range(0, len(data)):\n",
    "        if data[i][\"Salario mensual o retiro BRUTO (en tu moneda local)\"] == \".\" or data[i][\"Salario mensual o retiro BRUTO (en tu moneda local)\"] == \"..\": \n",
    "            data[i][\"Salario mensual o retiro BRUTO (en tu moneda local)\"].replace(\".\",\"\") \n",
    "\n",
    "#creo columna con salario en usd            \n",
    "for i in range(0, len(data)):\n",
    "    for pais in paises:\n",
    "        if data[i]['En que pais trabajas'] == pais:\n",
    "            if data[i]['Salario mensual o retiro BRUTO (en tu moneda local)'] == \".\":\n",
    "                data[i]['Sueldo en dolares'] = \"\"\n",
    "            elif data[i]['Salario mensual o retiro BRUTO (en tu moneda local)'] == \"\":\n",
    "                 data[i]['Sueldo en dolares'] = \"\"    \n",
    "            elif data[i]['Salario mensual o retiro BRUTO (en tu moneda local)'] != \"\":\n",
    "                 data[i]['Sueldo en dolares'] = round((float(data[i]['Salario mensual o retiro BRUTO (en tu moneda local)'])/dic_TC[pais]),2)\n",
    "                            "
   ]
  },
  {
   "cell_type": "code",
   "execution_count": 957,
   "id": "f993c569-f317-4e3d-9da1-d4475ba363db",
   "metadata": {},
   "outputs": [],
   "source": [
    "#Defino calculadora de sueldo\n",
    "def calculadora_mediana_sueldo(criterio, pregunta_encuesta):\n",
    "    sueldo_criterio = []\n",
    "    for i in range(0,len(criterio)):\n",
    "        sueldo_criterio.append(0)\n",
    "\n",
    "    criterio = list(criterio)\n",
    "    dic_sueldo_criterio = dict(zip(criterio, sueldo_criterio))\n",
    "    #print(dic_sueldo_criterio)\n",
    "    for elemento in criterio:\n",
    "        sueldos = []\n",
    "        for i in range(0,len(data)):\n",
    "            if data[i][pregunta_encuesta] == elemento:\n",
    "                if data[i][\"Sueldo en dolares\"] != \"\":\n",
    "                    sueldos.append(data[i][\"Sueldo en dolares\"])\n",
    "                    sueldos = sorted(sueldos)\n",
    "                if len(sueldos) ==1 or len(sueldos) == 0:\n",
    "                    dic_sueldo_criterio[elemento] = sum(sueldos)\n",
    "                elif len(sueldos)%2 != 0:\n",
    "                    dic_sueldo_criterio[elemento] = (sueldos[(int(len(sueldos)/2))])\n",
    "                elif len(sueldos)%2 == 0:\n",
    "                    mediana = round((sueldos[int(len(sueldos)/2)]+sueldos[int(len(sueldos)/2-1)])/2,2)           \n",
    "                    dic_sueldo_criterio[elemento] = (mediana)\n",
    "\n",
    "   \n",
    "    sorted_sueldo = sorted(dic_sueldo_criterio.values(), reverse =True)\n",
    "    sorted_dic_sueldo_criterio = {}\n",
    "\n",
    "    for participacion in sorted_sueldo:\n",
    "        for elemento in dic_sueldo_criterio.keys():\n",
    "            if dic_sueldo_criterio[elemento] == participacion:\n",
    "                sorted_dic_sueldo_criterio[elemento] = dic_sueldo_criterio[elemento]\n",
    "\n",
    "    \n",
    "    return sorted_dic_sueldo_criterio"
   ]
  },
  {
   "cell_type": "code",
   "execution_count": 973,
   "id": "09604984-bd17-41d8-b42e-9ec7c80a7648",
   "metadata": {},
   "outputs": [
    {
     "name": "stdout",
     "output_type": "stream",
     "text": [
      "Mediana del sueldo segun region:\n",
      " {'Chinandega': 28189788688.33, 'San Cristóbal': 402838466.16, 'Barcelona': 181222707.42, 'Valencia': 180349344.98, 'Ciudad de Panamá': 26208.0, 'Cuernavaca': 21438.25, 'Maldonado': 6730.98, 'San Lorenzo': 6577.73, 'Talca': 5712.51, 'San Pedro Sula': 5584.42, 'Cachapoal': 4222.29, 'Antigua Guatemala': 3506.49, 'Salinas': 3000.0, 'Zapopan': 2739.99, 'Montevideo': 2737.27, 'Santiago': 2607.89, 'Cuenca': 2606.0, 'Valdivia': 2595.47, 'Querétaro': 2556.68, 'Cancún': 2508.44, 'Ciudad Guatemala': 2376.62, 'Guadalajara': 2267.25, 'México DF': 2231.24, 'La Paz': 2169.81, 'Valparaíso': 1986.96, 'Monterrey': 1929.57, 'Chihuahua': 1929.57, 'Ecatepec': 1929.57, 'Florida': 1907.11, 'Heredia': 1756.5, 'Catamarca': 1718.21, 'Maipo': 1676.5, 'Ciudad Autónoma de Buenos Aires': 1622.76, 'Tierra del Fuego': 1584.01, 'Pachuca': 1543.65, 'Biobío': 1538.5, 'Santa Fe': 1480.05, 'Veracruz': 1447.18, 'Provincia de Buenos Aires': 1431.84, 'Tucumán': 1431.84, 'GBA': 1431.84, 'Arequipa': 1428.57, 'Quito': 1425.0, 'Córdoba': 1412.75, 'Neuquén': 1407.98, 'Trinidad': 1391.07, 'Río Negro': 1341.12, 'Santa Cruz de la Sierra': 1335.27, 'Villahermosa': 1286.18, 'La Pampa': 1282.7, 'Santiago del Estero': 1279.12, 'Medellín': 1265.45, 'Bucaramanga': 1261.67, 'Chubut': 1246.28, 'Mendoza': 1240.93, 'Jujuy': 1234.25, 'Salto': 1211.57, 'Ciudad Nezahualcóyotl': 1181.86, 'Cochabamba': 1160.52, 'Montería': 1135.5, 'Ambato': 1133.0, 'Lima': 1129.87, 'Purral': 1086.68, 'La Rioja': 1084.22, 'Saltillo': 1061.26, 'Entre Ríos': 1050.02, 'Guayaquil': 1025.0, 'Bogotá': 1009.33, 'Loja': 1000.0, 'Asunción': 963.77, 'Formosa': 954.56, 'San Luis': 954.56, 'Santa Cruz': 954.56, 'San Juan': 930.22, 'Trujillo': 909.09, 'Corrientes': 886.83, 'Tunja': 883.17, 'Chaco': 879.06, 'Manizales': 857.93, 'Encarnación': 850.38, 'Salta': 849.56, 'Misiones': 820.92, 'San José': 780.66, 'Culiacán': 735.65, 'Puebla de Zaragoza': 723.59, 'Oaxaca de Juárez': 711.53, 'Santa Tecla': 685.71, 'Santiago de Cali': 630.83, 'Morelia': 627.11, 'Victoria de Durango': 598.99, 'Managua': 549.45, 'Santo Domingo': 532.54, 'Mérida': 530.63, 'Ibagué': 454.2, 'Cartagena de Indias': 428.97, 'Arauca': 378.5, 'Cúcuta': 345.7, 'Barquisimeto': 327.51, 'Tijuana': 313.56, 'Riobamba': 300.0, 'Puno': 259.74, 'Pereira': 252.72, 'Provincia de Ciudad de La Habana': 243.96, 'Sancti Spíritus': 241.88, 'Caracas': 218.34, 'Neiva': 15.14, 'San Salvador': 0.19}\n",
      "\n",
      "Mediana del sueldo segun rol:\n",
      " {'Security Analist': 83403.96, 'DBA / Developer': 69156.01, 'Implementador de Sistemas': 34572.09, 'Director of DevOps and IT': 13306.61, 'Research Engineer': 11454.75, 'subject matter expert': 7159.22, 'Senior Product Owner': 6872.85, 'Lead Data Engineer': 6300.11, 'SDET': 6247.61, 'Security Research': 6210.2, 'CIO': 6204.66, 'Sr Staff engineer': 6092.28, 'QA - Automation Engineer': 5727.38, 'Ingeniero en informatica': 5250.1, 'Tech Lead / Arquitecto': 5059.18, 'de todo': 5040.09, 'Delivery Manager': 5011.45, 'Principal SE': 4963.73, 'CloudEngineer/Dev/DevOps': 4772.81, 'Engineering Manager': 4677.36, 'Agile Coach': 3879.47, 'Team leader': 3833.55, 'exploit writer': 3818.25, 'App analyst': 3814.22, 'VP / C-Level': 3737.11, 'Research': 3579.61, 'Product Security': 3493.7, 'FULL STACK Y BI': 3455.52, 'Product designer': 3407.79, 'Alliances Manager (Indirect Sales)': 3377.83, 'Frontend Developer': 3340.97, 'Operation Lead': 3340.97, 'Jefe de canales digitales': 3340.97, 'Product owner': 3293.24, 'Project Manager, Product Manager, Developer, SRE': 3245.51, 'Security researcher': 3159.6, 'FrontEnd Developer': 3150.06, 'Data Quality': 3104.63, 'Manager / Director': 3054.6, 'CyberSecurity': 3054.6, 'Software Engineer': 2997.33, 'devops': 2863.69, 'QA Lead': 2863.69, 'Application DBA': 2863.69, 'NLP Developer': 2775.39, 'Incident&Risk Leader': 2672.78, 'IT Auditor': 2577.32, 'Tech support ': 2481.86, 'Tech Manager': 2386.41, 'Data Modeling Engineer': 2386.41, 'UI - frontend': 2386.41, 'Jefe operacion ti': 2329.13, 'Information Security': 2329.13, 'Chapter Lead': 2310.04, 'Product Manager': 2295.72, 'Technical Leader': 2290.95, 'UX Leader': 2290.95, 'Architect': 2290.95, 'FrontEnd Chapter Lead': 2290.95, 'Data Architect': 2276.64, 'CTO': 2252.77, 'Data Visualization': 2243.22, 'Consultor Senior - Especialista en Ciberseguridad': 2195.49, 'Auditor': 2195.49, 'Security Engineer': 2138.22, 'Cybersecurity': 2119.13, 'Technical Owner': 2119.13, 'Fullstack': 2106.68, 'Atlassian Consultant': 2100.04, 'lead': 2100.04, 'Cloud': 2100.04, 'Cloud Engineer': 2100.04, 'Referente de area ': 2100.04, 'Project Manager': 2036.58, 'UX User Research': 2011.26, ' Cloud Architect': 2004.58, 'Gerente': 2004.58, 'Analista Seguridad informatica': 2004.58, 'Cybersecurity ': 2004.58, 'Technical Account Manager': 2004.58, 'BI Engineer': 1947.31, 'Soporte Transaccional': 1918.67, 'Ingeniero de Laboratorio': 1909.13, 'ERP Developer': 1909.13, 'IPM': 1909.13, 'Gerente de Sistemas': 1909.13, 'Ingeniero en Seguridad Informatica': 1909.13, 'Data Center': 1909.13, 'Team Leader': 1909.12, 'Scrum Master': 1908.17, 'Coordinador': 1890.03, 'QA Automation': 1871.77, 'Especialista en Yacimiento Digital': 1867.76, 'Gerente de atracción de TI y Comercial': 1813.67, 'IT Services': 1813.67, 'Gerente de Atracción de talentos y comercial': 1813.67, 'Data Scientist': 1813.67, 'Ad Tech': 1813.67, 'Functional Analyst': 1808.9, 'Data Engineer': 1770.08, 'Sales Executive': 1765.94, 'DBA': 1737.3, 'software ingeniero': 1718.21, 'CRO': 1718.21, 'Cloud engineer': 1718.21, 'Estructurado': 1718.21, 'Project Engineering': 1718.21, 'Middleware': 1711.06, 'BI Sr. Manager': 1670.48, 'Coordinador operaciones y soporte aplicativo': 1670.48, 'Change Manager': 1670.38, 'Storage / Backup': 1665.72, 'Functional analyst': 1654.7, 'Analytics Engineer': 1641.85, 'IT Infrastructure Engineer': 1641.85, 'Pipeline Technical Artist': 1622.76, 'QA Automation ': 1622.76, 'NOC': 1622.76, 'Integration ': 1622.76, 'Technical Writer': 1622.76, 'AppDynamics Engineer': 1622.76, 'Operations Lead': 1603.67, 'help desk + backup + vmware + sys admin': 1582.23, 'Infosec': 1581.6, 'Product Owner': 1557.28, 'Seguridad informatica': 1555.94, 'SysAdmin / DevOps / SRE': 1555.54, 'Analista': 1532.76, 'Jefe de Área de Sistemas': 1527.3, 'Soporte on site': 1525.69, 'SAP Basis administrator': 1517.75, 'Analista funcional sr': 1508.21, 'Support Engineer': 1479.58, 'Application Support': 1431.84, 'UX': 1431.84, 'Soporte Tecnico SQL': 1431.84, 'Developer': 1431.84, 'Seguridad': 1431.84, 'Sales / Pre-Sales': 1431.84, 'machine learning egineer': 1431.84, 'Service Designer': 1431.84, 'SAP Basis': 1431.84, 'Jefe de Soporte y Operaciones': 1431.84, 'Docencia': 1431.84, 'Machine Learning Engineer': 1429.27, 'Atlassian Specialist': 1424.88, 'SysAdmin / Storage / Backup / Networking': 1422.3, 'adm de infra': 1422.3, 'Administrador de Windows Server - Cloud': 1421.34, 'Product Analyst': 1403.21, 'Problem Manager': 1403.21, 'Business Analyst': 1398.43, 'UI': 1384.12, 'Business Analyst y Scrum Master': 1374.57, 'Cloud admin': 1365.02, 'DevOps, Desarrollo, Diseño, Instalo arquitectura, Monitoreo, etc': 1362.64, 'Analista Funcional de Sistemas': 1350.65, 'Desarrollos de modelos fisicos en C, C++ o Python, para ser integrados en un software de simulacion de vuelo': 1345.85, 'Architecture engineering ': 1336.39, 'Finance': 1334.95, 'People Analytics': 1302.98, 'Salesforce Admin/Developer': 1302.46, 'IT Specialist': 1288.66, 'Proyect Leader / Developer / Toolsmith': 1288.66, 'Seguridad informática ': 1288.66, 'NLP Analyst': 1280.36, 'Support': 1260.02, 'Consultant': 1240.93, 'implementacion de sistemas informatico de salud -SAP -Funcional': 1240.93, 'Ingeniero de soporte': 1240.93, 'TI generalista': 1240.93, 'BI Analyst / Data Analyst': 1240.93, 'Functional': 1240.93, 'QA / Tester': 1234.01, 'Application Engineer': 1233.3, 'Responsable de Infraestructura': 1217.71, 'Analista SAP Basis': 1217.07, 'Business Analyst, QA / Tester, Project Manager,Product Manager': 1212.29, 'RPA': 1204.64, 'Automation Engineer': 1193.2, 'Desarrollador ETL': 1193.2, 'Instructor': 1193.2, 'Jefe división Informática': 1177.21, 'Administrador Infraestructura': 1164.57, 'Programador de automatas': 1164.57, 'supervisor helpdek': 1155.02, 'Software engineer': 1155.02, 'full stack developer': 1150.07, 'Networking': 1150.07, 'tecnico de calle': 1145.48, 'Network Analyst Security': 1145.48, 'Tecnico telecomunicaciones': 1145.48, 'Cloud Admin': 1145.48, 'Mix entre SysAdmin y Developer pasando por DBA': 1133.0, 'Analista funcional y coordinadora de grupo de mantenimiento ': 1129.25, 'Test Automation Engineer': 1107.29, 'Desarrollador plsql + Desarrollador web + soporte-analista funcional': 1107.29, 'Agile coach': 1097.75, 'UI ': 1097.75, 'analisis funcional': 1097.75, 'Recruiter / HR': 1094.69, 'TI': 1086.68, 'Developer, DevOps': 1080.57, 'RPA & ETL Developer': 1050.02, 'AV Technical Support': 1050.02, 'team leader': 1050.02, 'Encargado Área de Sistemas': 1047.85, 'ADMINISTRATIVO DE DEPOSITO': 1040.47, 'soporte  técnico nivel 3 (infraestructura)': 1035.7, 'Telecomunicaciones ': 1030.93, 'Qa lead': 1030.93, 'PMO Manager': 1030.93, 'Soporte': 1030.93, 'Service Delivery Manager, Application Support, ITGC': 1017.34, 'Field Operations / Telecommunications': 1002.29, 'Software engineer ': 1002.29, 'Jefe de it': 1002.29, 'SRE': 1000.38, 'Mainframe': 992.75, 'Technical support (not help desk)': 978.43, 'Technical Support Engineer': 961.04, 'Sistemas': 954.56, 'Trafficker': 954.56, 'IT Operations Analyst': 954.56, 'People Care': 954.56, 'analista': 954.56, 'Administración': 954.56, 'Security Architect': 954.56, 'Tecnology': 954.56, 'Analyst': 954.56, 'Soporte Nivel 2': 943.11, 'jefe de sistemas': 935.47, 'Soporte Tecnico de Infraestructura': 935.47, 'ETL DEVELOPER': 935.47, 'ingeniero infraestructuras de virtualizacion': 933.63, 'Becario doctoral ': 925.93, 'Esp. Telecomunicaciones': 922.04, 'Responsable it': 906.83, 'Implementador': 906.83, 'Digital Marketing': 877.23, 'Computational Linguist Junior': 873.42, 'redactor creativo': 868.65, 'Calidad': 868.65, 'Consultor de Implementación': 859.11, 'SupportEngineer': 859.11, 'Postproducer': 859.11, 'IT Support': 849.56, 'Team Lead': 849.56, 'Operador NOC': 843.83, 'Operador noc': 843.83, 'Noc ': 840.02, 'BI Developer': 830.47, 'Ingeniero Electrónico': 830.47, 'Access Managment Sr': 820.96, 'analista funcional': 820.92, 'Analista Funcional': 811.38, 'Servicio técnico ': 811.38, 'Técnicamente soy QA pero hago trabajo de PO ¿trainee?': 801.83, 'Technical Business Analyst': 801.83, 'Administrativo ': 792.29, 'DBA+frontend': 792.29, 'Operador': 792.29, 'Profesor': 791.34, 'soporte nivel 1,2 y 3': 778.48, 'Responsable de Marketing': 768.23, 'Marketing': 763.65, 'Analista contable ': 763.65, 'Seguridad Informática - Accesos': 763.65, 'Education': 763.65, 'Product support': 763.65, 'Teacher': 757.0, 'Designer': 749.83, 'soporte técnico': 745.89, 'Auditoría': 744.56, 'Technical Analyst': 735.38, 'conversational designer': 735.01, 'Responsable de área de sistemas ': 735.01, 'Community manager en IT': 733.1, 'Soy el dpto de sistemas en una escuela de 80 pc y 400 por wifi..hago todo': 715.92, 'Soporte técnico': 715.92, 'De todo un poco': 715.92, 'HelpDesk': 715.92, 'Wordpress': 695.62, 'Analista funcional': 695.2, 'Cloud Security': 693.49, 'Productora de Eventos': 692.06, 'Analista mainframe': 687.29, 'tecnico': 687.29, 'soporte tecnico': 677.74, 'Media comunnications': 677.74, 'Soporte de Campo': 668.19, 'RPA Developer': 668.19, 'Administrativo': 668.19, 'Deposito': 668.19, 'Technical Support': 656.74, 'suport L2': 630.01, 'Integrator': 620.47, 'Analista funcional ': 620.47, 'administrativo': 620.47, 'CRM developer': 610.92, 'TI-Infraestructura': 603.39, 'analista de sistemas': 601.37, 'Administrador de sistema ERP': 601.37, 'soporte': 595.77, 'SITE SUPPORT': 582.28, 'Soporte IT': 577.51, 'mezcla de sysadmin, networking, dba... de todo un poco': 572.74, 'Systems integration analyst': 572.74, 'Asistencia técnica': 557.34, 'Docente': 555.13, 'Profesor de Informática': 544.82, 'Ayudante en cursos de programación': 539.76, 'Functional Analyst Jr': 534.56, 'DevOps': 526.92, 'Profesor de teatro ': 504.67, 'Cajera': 493.61, 'Developer/DevOps': 483.47, 'Freelance': 477.28, 'On Site Support': 477.28, 'Cyber security': 477.28, 'Integration Developer': 477.28, 'RPA DEVELOPER': 477.28, 'redactor y editor, diseño, contenidos': 439.1, 'Analista implementador': 429.55, 'Trainee etl': 429.55, 'Datasteward': 429.55, 'Soporte tecnico': 410.46, 'Artesanal': 400.0, 'independiente ': 389.61, 'Redacción': 381.83, 'Tutor': 372.28, 'administracion': 315.01, 'Chef': 300.0, 'Helpdesl / Tecnico en Reparacion de PC, Notebooks e impresoras / Tecnico instalador de HFC y FTTH': 295.91, 'Trainee': 286.37, 'Comunicación / Redes sociales': 257.73, 'Data Governance Specialist': 245.32, 'Cashier': 238.64, 'Docente Universitario': 219.55, 'Auditoria': 210.0, 'artist': 124.09, 'Analista de metodología': 102.16, 'Atención al cliente en Naranja X': 84.27, 'Programador': 83.52, 'Profesor de Tecnología de la Información': 58.32, 'Laboratorio universitario': 57.27, 'Growth Engineer ': 10.13, 'Creative Copywriter': 8.58, 'Product Lead': 3.29, 'Customer success manager': 2.16, 'Project Leader': 1.81, 'Support Senior': 1.38, 'uxui': 1.15, 'Productivity & collaboration': 1.14, 'Jefe de Sistemas': 1.0, 'Analista IT': 0.99, 'Analista Tecnico': 0.95, 'Varios': 0.95, 'RRHH': 0.92, 'Implementador de sistemas': 0.91, 'Analista NPL': 0.86, 'Productor y vendedor': 0.86, 'mezcla entre helpdesk y admin base de datos': 0.55, 'Soporte IT LAB nivel 1, 2, 3 ': 0.48, 'Analista de sistema': 0.29, 'Aprentice': 0.23, 'ADMINISTRATIVA': 0.0, 'Back office': 0, 'Administrativa ': 0.0}\n",
      "\n",
      "Mediana del sueldo segun por experiencia:\n",
      " {'82': 28189788688.33, '9.5': 151468.29, '42': 5059.18, '27': 3208.88, '31': 3030.74, '23': 2968.69, '26': 2768.23, '4.5': 2481.86, '38': 2386.41, '14': 2386.41, '24': 2243.22, '21': 2219.36, '17': 2195.49, '22': 2195.49, '30': 2143.77, '13': 2119.13, '18': 2100.04, '12': 2100.04, '25': 2090.49, '20': 2085.72, '32': 2078.14, '19': 2042.77, '15': 2033.22, '29': 1978.65, '9': 1956.85, '16': 1918.68, '10': 1909.13, '11': 1909.13, '7': 1837.53, '2.6': 1832.76, '8': 1803.51, '10.5': 1793.15, '6': 1721.66, '5': 1700.43, '7.5': 1677.09, '33': 1670.48, '3.5': 1652.59, '35': 1598.89, '1.8': 1573.18, '4.75': 1527.3, '34': 1489.12, '2.5': 1431.84, '4': 1431.84, '3': 1427.55, '36': 1336.39, '1.9': 1225.59, '28': 1221.84, '2': 1157.4, '1.5': 1145.48, '1.7': 1145.48, '3.4': 1097.75, '1': 921.15, '0': 715.92, '1.6': 615.78, '40': 1.05}\n",
      "\n",
      "Mediana del sueldo segun nivel educativo:\n",
      " {'Primario': 2100.04, 'Posgrado': 1909.13, 'Doctorado': 1870.94, 'Universitario': 1575.03, 'Terciario': 1336.39, 'Secundario': 1288.66, 'Posdoctorado': 573.22}\n",
      "\n",
      "Mediana del sueldo segun carrera:\n",
      " {'Decorador profesional': 112287.83, 'Tecnico superior en adm de la produccion grafica': 101207.61, 'Licenciatura en astronomia': 91583.12, 'Licenciatura en ciencia de datos': 33710.88, 'Licenciatura admin': 14318.44, 'N/a': 10309.28, 'Ciencias de la comunicacion social ': 9746.09, 'Turismo': 9532.26, 'X': 8781.98, 'Licenciatura en ciencias de la comunicacion social': 5976.39, 'Geologia': 5825.28, 'Tecnico en sistemas': 5727.38, 'Licenciatura en geologia': 5355.1, 'CertifiEducacion tech developer': 5192.82, 'Ingeniero civil': 5071.11, 'Licenciatura en fisica': 4982.82, 'Ingenieria ejecucion electronica': 4222.29, 'Ciencias de la comunicacion': 4215.35, 'Recursos humanos': 3885.08, '-': 3840.72, 'Tecnicatura en web': 3780.07, 'Traductora de ingles': 3746.92, 'Diseno y programacion de simuladores virtuales': 3722.79, 'Medicina': 3701.32, 'Tecnico superior en informatica aplicada': 3608.25, 'Biologia': 3543.81, 'Licenciatura en estadistica ': 3484.15, 'Ingenieria mecanica': 3460.29, 'Analisis de sistemas, licenciatura en psicologia': 3340.97, 'Ingenieria electrica': 3226.42, 'Licenciatura en comercializacion ': 3102.33, 'Video juegos': 3054.6, 'Economicas': 3054.6, 'Diseno de interiores': 2968.69, 'Publicidad': 2959.14, 'Tecnicatura superior en redes informaticas': 2920.96, 'Contador': 2901.87, 'Licenciatura en direccion escenica': 2863.69, 'Profesorado de educacion fisica': 2863.69, 'Carrera de grado en curso': 2863.69, 'Licenciatura en gestion de tecnologia informatica': 2825.51, 'Licenciatura en ciencias biologicas': 2777.78, 'Licenciatura en ciencias matematicas': 2768.23, 'Licenciatura en tecnologias de la informacion': 2720.5, 'Licenciatura en comunicacion social': 2707.9, 'Licenciatura en matematicas': 2672.78, 'Licenciatura en ciencias de la comunicacion': 2672.78, 'Ingenieria en sonido': 2653.68, 'Ingenieria de sonido ': 2625.05, 'Diseno y administracion web': 2577.32, 'Tecnicatura en desarrollo de videojuegos': 2542.44, 'Hacking': 2508.44, 'Ingeniera civil': 2445.02, 'Mba': 2438.91, 'Sin titulo universitario': 2411.45, 'Fisica': 2410.27, 'Tecnicatura superior en administracion de sistemas': 2395.95, 'Master in business and tech': 2386.41, 'Fisica aplicada': 2386.41, 'Licenciatura en Ciencias antropologicas': 2386.41, 'Veterinaria': 2386.41, 'Ingenieria electronica y telecomunicaciones 4to, ingenieria en software 5to': 2362.54, 'Licenciatura en matematica': 2338.68, 'Licenciatura en sociologia - master en data science': 2310.04, 'Traductor de ingles': 2290.95, 'Licenciatura en gestion de la tecnologia': 2290.95, 'Profesorado de ingles ': 2290.95, 'Tecnicatura superior en tecnologias de la informacion': 2271.86, 'Tecnico en comunicacion social': 2243.22, 'Artes visuales': 2243.22, 'Licenciatura en geografia': 2233.68, 'Ingenieria en bionica': 2170.77, 'Soy bachiller en humanidades y Ciencias sociales': 2147.77, 'Licenciatura en sociologia': 2147.76, 'Licenciatura en comunicacion  multimedia': 2100.04, 'Licenciatura en analisis de sistemas': 2100.04, 'Licenciatura relaciones del trabajo, diplomatura en usabilidad y accesibilidad ': 2100.04, 'Ciencias biologicas ': 2049.48, 'Analista en infraestructura': 2032.76, 'Ingenieria mecatronica': 2018.67, 'Rrii': 2008.95, 'Tecnicatura superior en soporte de infraestructuras it ': 2004.58, 'Licenciatura en ciencias de la computacion': 2004.58, 'Grabacion y produccion musical': 2004.58, 'Literatura': 2004.58, 'Ninguna de las anteriores': 2004.58, 'Licenciatura en relaciones internacionales': 1995.04, 'Licenciatura en estadistica': 1972.78, 'Letras': 1942.05, 'Licenciatura en historia': 1915.05, 'Licenciatura en matematica aplicada': 1909.13, 'Ingenieria en software': 1909.13, 'Maestro mayor de obras': 1909.13, 'Licenciatura en direccion de negocios': 1908.17, 'Ingenieria civil': 1900.24, 'Analista en infraestructura informatica': 1899.62, 'Licenciatura en gestion de la informacion': 1880.49, 'Ingenieria en telecomunicaciones': 1880.49, 'Ingenieria en informatica': 1874.28, 'Diseno web': 1861.4, 'Tecnico de sonido': 1842.31, 'Actuario': 1836.58, 'Ingenieria quimica ': 1813.67, 'Economia': 1813.67, 'Derecho': 1770.08, 'Gestion de medios y entretenimiento': 1765.94, 'Tecnicatura en software libre': 1765.94, 'Soporte en infraestructuras': 1756.4, 'Ingenieria industrial': 1752.58, 'Diseno y administracion de sitios web': 1746.85, 'Sistemas de informacion': 1737.3, 'Diplomatura en ciencia de datos': 1737.3, 'Ingenieria sonido': 1727.76, 'Relaciones publicas': 1718.22, 'Administracion': 1718.22, 'Analista universitario de sistemas': 1718.21, 'Comunicacion': 1718.21, 'Licenciatura en redes y comunicacion de datos ': 1718.21, 'Comercio exterior ': 1718.21, 'Ingenieria administrativa': 1695.68, 'Ingenieria en computacion': 1683.79, 'Ingenieria en sistemas de informacion': 1670.48, 'Licenciatura en comercializacion': 1670.48, 'Tecnicatura en infraestructuras de ti': 1664.76, 'Profesorado en ensenanza media y superior en matematicas': 1660.94, 'Tecnicatura superior en mecatronica': 1645.46, 'Comunicacion social': 1641.28, 'Analista programador universitario': 1622.76, 'No estudie': 1622.76, 'Licenciatura en sistemas de informacion': 1622.76, 'Licenciatura en biotecnologia': 1613.21, 'Maestria en it': 1603.67, 'Ciencia de datos': 1594.12, 'Administracion bancaria': 1572.16, 'Licenciatura en informatica': 1567.7, 'Tecnicatura en desarrollo de software': 1565.48, 'Licenciatura en administracion y sistemas': 1555.94, 'Diseno de imagen y sonido': 1546.39, 'Profesorado de historia': 1536.85, 'Ciencia politica': 1527.3, 'Ingeneria en pesca': 1527.3, 'Licenciatura en ciencia politica': 1527.3, 'Licenciatura en quimica': 1527.3, 'Finanzas': 1527.3, 'Ingenieria electronica': 1527.3, 'Licenciatura en economia': 1527.3, 'Bootcamp en programacion web full stack': 1518.22, 'Analista de sistemas': 1512.79, 'Licenciatura en rrhh': 1508.21, 'Arquitectura ': 1498.66, 'Tecnicatura niversitaria en desarrollo de aplicaciones informaticas': 1491.5, 'Tecnico electromecanico': 1489.12, 'Periodismo ': 1479.57, 'Tecnicatura en infraestructura tecnologica ': 1479.57, 'Licenciatura en ciencias quimicas + maestria en ciencia de datos': 1470.03, 'Arte audiovisual': 1455.71, 'Electromecanica': 1450.94, 'Diseno multimedial': 1450.93, 'Phd in computer science': 1436.62, 'Licenciatura en gestion de sistemas': 1431.84, 'Licenciatura en ciencias quimicas ': 1431.84, 'Analista de computacion': 1431.84, 'Licenciatura en ciencias matematicas ': 1431.84, 'Administracion ': 1431.84, 'Licenciatura psicologia': 1431.84, 'Licenciatura en relaciones del trabajo': 1431.84, 'Comunicacion social, si comunicacion social': 1431.84, 'Licenciatura en ciencias sociales': 1403.21, 'Ingenieria en tecnologias de la informacion': 1389.78, 'Tecnicatura superior en sistemas informaticos': 1388.89, 'Ingenieria': 1384.12, 'Analista programador': 1384.12, 'Programador y disenador de simuladores virtuales': 1384.12, 'Tecnicatura en informatica': 1384.12, 'Ingenieria de sonido': 1384.12, 'Diseno grafico': 1375.76, 'Licenciatura en tecnologias de informacion ': 1374.57, 'Licenciatura en administracion de sistemas y empresas': 1355.48, 'Tecnicatura superior en analisis de sistemas': 1336.39, 'Cp': 1336.39, 'Contador publico': 1336.39, 'Maestria en direccion estrategica y tecnologica': 1336.39, 'Disenador industrial': 1336.39, 'Tenicatura en periodismo general': 1336.39, 'Tecnicatura superior en automatizacion y robotica': 1336.39, 'Edicion': 1302.97, 'Ingenieria quimica': 1298.21, 'Abogado ': 1288.66, 'Histotecnologia': 1288.66, 'Arquitectura': 1269.57, 'Licenciatura en administracion': 1269.57, 'Tecnico universitario en desarrollo web': 1247.72, 'Medico informatico': 1240.93, 'Traductorado publico': 1240.93, 'Marketing y administracion agroindustrial': 1240.93, 'Ingenieria en sistemas ': 1240.93, 'Maestria en recursos humanos': 1240.93, 'Antropologia': 1240.93, 'Ceh, cissp, csfpc, etc.': 1240.93, 'Ingenieria en sistemas': 1237.65, 'Profesor de ingles': 1233.3, 'Licenciatura en publicidad': 1202.75, 'Licenciatura en organizacion industrial': 1202.75, 'Licenciatura en bioinformatica': 1200.11, 'Mg. comunicacion social': 1193.2, 'Mg. comunicacion estrategica': 1193.2, 'Contaduria': 1193.2, 'Licenciatura en gestion de tecnologia': 1193.2, 'Diseno industrial': 1193.2, 'Traductorado e interpretariado de ingles ': 1183.66, 'Tecnico en diseno y programacion de videojuegos': 1183.66, 'Relaciones internacionales': 1183.66, 'Licenciatura en gestion de sistemas de automatizacion y robotica': 1177.91, 'Licenciatura en rrll': 1155.02, 'Licenciatura en psicologia ': 1145.48, 'Tecnicatura en programacion': 1145.48, 'Cloud administrator/ artes audiovisuales': 1145.48, 'Bachillerato': 1145.48, 'Telecomunicaciones': 1145.48, 'Comunicacion ': 1145.48, 'Traduccion de ingles': 1145.48, 'Trabajo social': 1145.48, 'Licenciatura en turismo': 1138.56, 'Ninguna': 1131.16, 'Tecnicatura en edicion uba': 1116.84, 'Matematicas': 1109.5, 'Licenciatura en comunicacion audiovisual ': 1097.75, 'Licenciatura en recursos humanos': 1094.69, 'Tecnicatura en computacion': 1092.59, 'Diseno de videojuegos': 1088.2, 'Tecnico constructor mmo': 1088.2, 'Abogacia': 1073.88, 'Licenciatura en tecnologia de la informacion': 1059.2, 'Sociologia ': 1050.02, 'Tecnicatura superior en programacion': 1050.02, 'Tecnico superior en desarrollo de software ': 1050.02, 'Licenciatura en periodismo': 1046.86, 'Licenciatura en relaciones publicas e institucionales': 1042.78, 'Logistica': 1040.47, 'Ingeniera electrica': 1027.11, 'Psicologia ': 1026.16, 'Tecnicatura superior en inteligencia artificial y ciencia de datos': 1011.84, 'Licenciatura en psicologia': 1011.84, 'Licenciatura en artes multimediales': 1009.2, 'Tecnico superior en desarrollo de software': 1006.12, 'Comunicacion audiovisual': 1002.29, 'Soy abogado haciendo un master en rrii': 987.97, 'Tecnicatura electronica': 987.97, 'Contador publico ': 983.2, 'Licenciatura en tecnologia educativa': 977.57, 'Escuela de educacion tecnica': 973.65, 'Licenciatura en comercio internacional': 954.56, 'Tecnicatura en soporte de infraestructura': 954.56, 'Licenciatura en finanzas': 954.56, 'Arq': 954.56, 'Ingenieria en redes y comunicaciones': 943.11, 'Tecnicatura en desarrollo web': 935.47, 'Tecnico universitario en sonido': 925.93, 'Tecnicatura en sistemas': 925.93, 'Psicologia': 916.38, 'Ingenieria de sistemas y computacion ': 909.09, 'Profesor en disciplinas industriales ': 906.83, 'Tecnicatura electromecanica': 897.29, 'Marketing': 894.42, 'Rrhh': 893.47, 'Linguistica': 873.42, 'Periodismo': 868.65, 'Licenciatura en musica': 859.11, 'Diseno arquitectonico': 859.11, 'Bootcamp de desarrollo web': 859.11, 'Tecnicatura en diseno web': 852.59, 'Tecnicatura superior en desarrollo de software ': 849.56, 'Profesorado de ingles': 847.65, 'Tecnico superior en soporte de infraestructura': 846.66, 'Estudio por academias virtuales': 836.1, 'Traduccion': 820.92, 'Licenciatura en comunicacion': 811.38, 'Licenciatura en marketing ': 811.38, 'Licenciatura en ciencias politicas': 801.83, 'Relaciones del trabajo': 792.29, 'Diseno grafico multimedial y analista de sistemas': 788.47, 'Bioingenieria': 782.75, 'Tecnicatura superior en desarrollo de software': 782.74, 'Cs de la comunicacion social': 773.2, 'Licenciatura en ciencias de datos': 773.2, 'Licenciatura en ciencias fisicas': 763.65, 'Tsp abandonada....3x': 739.85, 'Cm': 733.1, 'Tecnicatura universitaria en tecnologias de la informacion': 725.47, 'Licenciatura higiene y seguridad': 715.92, 'Economia. actualmente analista en sistemas': 715.92, 'Autodidacta': 714.07, 'Sociologia': 677.74, 'Marketing y publicidad digital': 668.19, 'Licenciatura y profesorado en artes (orientacion musica)': 668.19, 'Diploma en experiencias digitales': 666.79, 'Licenciatura en higiene y seguridad en el trabajo': 662.75, 'Licenciatura en recursos humanos ': 659.31, 'Tecnico medio en soporte en informatica': 649.51, 'Tecnicatura universitaria en mecatronica': 649.1, 'Licenciatura en geologia, doctorado en ciencias naturales': 649.1, 'Tecnicatura en marketing y publicidad digital': 636.03, 'Biotecnologia': 628.58, 'Conservatorio de musica': 620.47, 'Tecnicatura en desarrollo de paginas web': 572.74, 'Bioquimica': 572.74, 'Profesorado de teatro': 572.74, 'Ingenieria de sistemas': 567.31, 'Tecnica electronica': 553.65, 'Ingenieria biomedica': 536.47, 'Tecnicatura universitaria en sistemas informaticos': 525.01, 'Licenciatura en sistemas': 519.76, 'Front end development': 519.48, 'Geologia ': 477.28, 'Licenciatura en artes electronicas': 446.99, 'Licenciatura en artes visuales ': 442.54, 'Relaciones laborales': 439.1, 'Productora y directora para radio y tv': 429.55, 'Licenciatura en tecnologias educativas': 400.92, 'Licenciatura en ciencias fiscales mencion aduana y comercio ': 400.0, 'Licenciatura en gestion de recursos humanos': 390.89, 'Tecnicatura superior en base de datos': 381.83, 'Tecnicatura superior en analisis, desarrollo y programacion de aplicaciones': 381.83, 'Tengo titulo de licencia en ciencias matematicas ': 362.73, 'Tecnicatura en administracion de sistemas y software libre': 353.19, 'Licenciatura artes audiovisuales': 334.1, 'Tecnico universitario en desarrollo de software ': 334.1, 'No': 295.91, 'Maestria ': 42.96, 'Tecnicatura en periodismo': 28.64, 'Traductora publica ingles ': 19.09, 'Musica': 19.09, 'Traductorado y psicologia social': 3.82, 'Tecnicatura en diseno de simuladores virtuales': 2.44, 'Magister en gestion de la seguridad de la informacion': 2.2, 'Desarrollo web y mobile': 2.11, 'Licenciatura en relaciones publicas': 1.81, '.': 1.36, 'Licenciatura en publicidad y relaciones publicas': 1.26, 'Licenciatura en gestion amb + mbt': 1.15, 'Filologia hispanica': 1.04, 'Filosofia': 1.04, 'Analista en redes informaticas': 1.0, 'Ingenieria aeronautica': 0.95, 'Ninguna.': 0.86, 'Imagen y sonido': 0.76, 'Corrector de textos': 0.74, 'Tecnico en recursos humanos': 0.64, 'Cisco': 0.62}\n",
      "\n"
     ]
    }
   ],
   "source": [
    "#Utilizo la funcion definida para calcular los sueldos degun los criterios requeridos\n",
    "mediana_sueldo_por_region = calculadora_mediana_sueldo(criterio = regiones, pregunta_encuesta = \"Dónde estás trabajando\")\n",
    "print(f'Mediana del sueldo segun region:\\n {mediana_sueldo_por_region}\\n')\n",
    "\n",
    "mediana_sueldo_por_rol = calculadora_mediana_sueldo(criterio = roles, pregunta_encuesta = \"Trabajo de\")\n",
    "print(f'Mediana del sueldo segun rol:\\n {mediana_sueldo_por_rol}\\n')\n",
    "\n",
    "experiencia = respuestas_unicas(pregunta_encuesta = \"Años de experiencia\")\n",
    "mediana_sueldo_por_experiencia = calculadora_mediana_sueldo(criterio = experiencia, pregunta_encuesta = \"Años de experiencia\")\n",
    "print(f'Mediana del sueldo segun por experiencia:\\n {mediana_sueldo_por_experiencia}\\n')\n",
    "\n",
    "mediana_sueldo_por_nivel_educativo = calculadora_mediana_sueldo(criterio = nivel_educativo, pregunta_encuesta =\"Nivel de estudios alcanzado\")\n",
    "print(f'Mediana del sueldo segun nivel educativo:\\n {mediana_sueldo_por_nivel_educativo}\\n')\n",
    "\n",
    "mediana_sueldo_por_carrera = calculadora_mediana_sueldo(criterio = carreras, pregunta_encuesta = \"Carrera\")\n",
    "print(f'Mediana del sueldo segun carrera:\\n {mediana_sueldo_por_carrera}\\n')"
   ]
  },
  {
   "cell_type": "code",
   "execution_count": 959,
   "id": "d6122490-40e7-45fd-9a3e-25203abb7cd5",
   "metadata": {},
   "outputs": [],
   "source": [
    "#Formateo respuestas de lenguajes para poder eliminar valores que no responden a la preguna \n",
    "for i in range(0, len(data)):\n",
    "    data[i][\"Lenguajes de programación o tecnologías.\"] = data[i][\"Lenguajes de programación o tecnologías.\"].capitalize()\n",
    "    if len(data[i][\"Lenguajes de programación o tecnologías.\"]) == 1:\n",
    "        data[i][\"Lenguajes de programación o tecnologías.\"] = re.sub(\"[-.,0-9]\", \"\", data[i][\"Lenguajes de programación o tecnologías.\"])\n",
    "\n",
    "#traigo respuestas unicas\n",
    "lenguajes = respuestas_unicas(pregunta_encuesta = \"Lenguajes de programación o tecnologías.\")\n",
    "\n",
    "#separo cada respuesta para poder quedarme con los lenguajes individuales\n",
    "lenguajes  = list(lenguajes)\n",
    "lenguajes_unicos = []\n",
    "for i in range(0, len(lenguajes)):\n",
    "    lenguajes_unicos.append(lenguajes[i].split(\", \"))\n",
    "\n",
    " #convierto la lista de listas en una lista \"plana\"   \n",
    "flattened = []\n",
    "for sublist in lenguajes_unicos:\n",
    "    for val in sublist:\n",
    "        flattened.append(val)\n",
    "\n",
    "#depuro la lista        \n",
    "for i in range(0, len(flattened)):\n",
    "    flattened[i] = flattened[i].capitalize()\n",
    "    if flattened[i][-1] == ' ':\n",
    "        flattened[i] = flattened[i][:-1]\n",
    "    elif flattened[i].lower() == 'no aplican' or flattened[i] == 'No':\n",
    "        flattened[i] = \"No usa\"\n",
    "    elif \"ninguno\" in flattened[i].lower() or \"ninguna\" in flattened[i].lower() or \"no aplica\" in flattened[i].lower():\n",
    "        flattened[i] = \"No usa\"\n",
    "\n",
    "lenguajes = set(flattened)"
   ]
  },
  {
   "cell_type": "code",
   "execution_count": 960,
   "id": "a996266f-df1d-43ff-ba24-44d12e430fe9",
   "metadata": {},
   "outputs": [
    {
     "name": "stdout",
     "output_type": "stream",
     "text": [
      "Mediana del sueldo segun tecnologias - lenguajes: {'Y pascal obvio': 28189788688.33, 'Pascal': 14094895107.82, 'Fortran,openmp,mpi,cuda': 91583.12, 'Visual basic 6': 69156.01, 'Fortran': 46650.67, 'Soql': 36417.74, 'Nodejs': 7350.13, 'Xamarin': 5727.38, 'No escribo código en este rol': 5610.06, 'Rust': 4598.6, 'Cython': 4534.17, 'Solidity': 4367.12, 'Ecl': 4295.53, 'Node. js': 3818.25, 'Otro': 3722.79, 'Graphql': 3312.57, 'Lightning components salesforce': 3199.69, 'Apex salesforce': 3199.69, '123': 3054.6, 'Less': 2959.63, 'Objective-c': 2863.69, 'Powershell es un lenguaje!!': 2835.05, 'Terraform': 2720.5, 'Xaml': 2710.96, 'Elixir': 2672.78, 'Android': 2672.78, 'Sale': 2577.32, 'Scala': 2529.59, 'Assembly': 2458.0, 'Natural': 2386.41, 'Tengo un rol de manager': 2386.41, 'Sql.': 2386.41, 'Conozco parte de este stack y es usado en nuestro producto': 2386.41, 'No desarrollo': 2386.41, 'Pero yo no lo utilizo en mis tareas diarias. usamos python': 2386.41, 'Clojure': 2338.68, 'Peoplecode': 2290.95, 'Go': 2290.95, 'Google script': 2290.95, 'Kotlin': 2290.95, 'Swift': 2290.95, 'Na': 2290.95, 'Ansible': 2214.59, 'Rexx': 2195.49, 'Hcl': 2147.77, 'Pl sql': 2147.77, 'Js': 2147.77, 'El rol es de control de seguridad no involucra desarrollo de ningún tipo': 2138.22, 'Gosu': 2129.87, 'Trabajo para varios equipos como sm/ac': 2102.69, 'Groovy': 2100.04, 'Sharepoint': 2100.04, 'Crm': 2100.04, 'Grails': 2052.31, 'Ruby': 2004.58, 'Hana sql': 1929.57, 'Redux': 1909.13, 'X++': 1909.13, 'React js. sass': 1909.13, 'Lotus notes': 1899.58, 'Report bi publisher': 1861.4, 'Codeql': 1853.68, 'Z': 1837.53, 'Sas guide': 1824.74, 'Vfp': 1813.67, 'Bash/shell': 1794.76, 'Perl': 1794.58, 'Bash': 1794.58, 'Ecmascript': 1785.03, 'Esql': 1785.03, 'Rpg /400': 1778.36, 'Python': 1752.9, 'Powershell': 1727.92, 'Mobile': 1718.21, 'Smalltalk': 1718.21, 'Erlang': 1718.21, 'Swagger': 1718.21, 'Typescript': 1718.21, 'Dart': 1718.21, 'Assembler': 1680.19, 'Sas': 1651.39, 'Vb6': 1646.62, 'Sass': 1646.62, 'Lua': 1641.85, 'Actionscript': 1632.3, 'Pick': 1622.76, 'Java': 1622.76, 'Cobol': 1622.76, 'V': 1622.76, 'Apex': 1622.76, 'Ext': 1613.21, 'Pl-sql': 1599.81, 'Ile rpg': 1596.61, 'Delphi': 1575.03, 'Abap': 1575.03, 'Javascript': 1563.57, 'Rabbit': 1543.66, 'A': 1527.3, 'C++': 1527.3, 'C': 1527.3, '.net': 1527.3, 'Informix': 1527.3, 'Openedge': 1527.3, 'C#': 1527.3, 'React': 1527.3, 'Oracle otbi cloud': 1522.53, 'R': 1512.98, 'Scripting': 1483.11, 'Meta4': 1473.13, 'Sql': 1470.03, 'Rpg': 1438.09, 'Pick basic': 1431.84, 'Vb': 1431.84, 'Amp script': 1431.84, 'Vba': 1431.84, '4gl sage x3': 1431.84, 'M': 1421.82, 'Html': 1415.05, 'Css': 1393.66, 'Matlab': 1353.09, 'Blueprism': 1336.39, 'Php': 1336.39, 'Oracle': 1334.01, 'Poweshell': 1288.8, 'Esb': 1260.02, 'Arduino': 1240.93, 'Rpg rpgle sda seu clp': 1240.93, 'Genexus': 1240.93, 'Sybase': 1193.2, 'Xquery': 1193.2, 'Jcl': 1177.91, 'Dax': 1165.55, 'Iec61131-3': 1164.57, 'Pl/sql': 1145.48, 'Networking': 1145.48, 'Powerscript': 1137.56, 'Powerbuilder': 1135.93, 'Qlik': 1126.38, 'Plsql + js + java': 1107.29, 'Mulesoft': 1097.75, 'Assemblyscript - solidity': 1097.75, 'Vbscript': 1081.52, 'Teradata sql': 1078.66, 'Ssis': 1069.11, 'T-sql': 1056.96, 'Propios': 1050.02, 'Nosql db (mongo db)': 1050.02, 'Sensetalk': 1013.85, '4d': 1009.33, 'Oracle event rules': 1002.29, 'Mongodb': 975.65, 'Firebird': 973.62, 'Oracle pl/sql': 947.4, 'Office': 906.83, 'Advpl': 893.47, 'Pl/sql oracle': 878.2, 'T24': 878.2, 'La empresa para la que trabajo usa herramientas propias': 873.42, 'Apex,salesforce industries': 859.11, 'Clipper': 820.46, 'Yaml': 811.38, 'Genexus (ojalá cuente xd)': 811.38, 'Plsql': 801.83, 'Xml': 782.74, 'I know)': 770.74, 'Powershell (es de scripting': 770.74, 'Bash script': 763.65, 'Jython': 763.65, 'Spss': 725.47, 'N/a': 692.06, 'Gherkin': 630.01, 'Clarion': 630.01, 'Cucumber ñ': 630.01, 'Plc ladder': 620.47, 'Json': 601.37, 'Labview': 572.74, 'Arangodb': 555.13, 'Visual fox pro': 490.01, 'Visual fox pro 9': 490.01, 'Fox': 490.01, 'Angular': 334.31, 'Plc': 311.05, 'Progress': 109.77, ' 4th dimension': 57.27, 'React native': 42.96, 'Markdown': 12.41, '--': 8.58, 'No soy desarrollador sino gerente de ciberseguridad': 3.65, 'Powershelll': 1.37, 'Rpg4/400': 1.05, 'La empresa maneja sus proprias plataformas': 0.86, 'Visual foxpro': 0.85, 'No usa': 0}\n"
     ]
    }
   ],
   "source": [
    "#Busco los lenguajes individuales en cada respuesta y traigo el sueldo correspondiente a los mismos\n",
    "sueldo_lenguaje = []\n",
    "for i in range(0,len(lenguajes)):\n",
    "    sueldo_lenguaje.append(0)\n",
    "\n",
    "lenguajes = list(lenguajes)\n",
    "dic_sueldo_lenguajes = dict(zip(lenguajes, sueldo_lenguaje))\n",
    "for elemento in lenguajes:\n",
    "    sueldos = []\n",
    "    for i in range(0,len(data)):\n",
    "        if elemento.lower() in data[i][\"Lenguajes de programación o tecnologías.\"].lower():\n",
    "            if data[i][\"Sueldo en dolares\"] != \"\":\n",
    "                sueldos.append(data[i][\"Sueldo en dolares\"])\n",
    "                sueldos = sorted(sueldos)\n",
    "            if len(sueldos) ==1 or len(sueldos) == 0:\n",
    "                dic_sueldo_lenguajes[elemento] = sum(sueldos)\n",
    "            elif len(sueldos)%2 != 0:\n",
    "                dic_sueldo_lenguajes[elemento] = (sueldos[(int(len(sueldos)/2))])\n",
    "            elif len(sueldos)%2 == 0:\n",
    "                mediana = round((sueldos[int(len(sueldos)/2)]+sueldos[int(len(sueldos)/2-1)])/2,2)           \n",
    "                dic_sueldo_lenguajes[elemento] = (mediana)\n",
    "\n",
    "   \n",
    "sorted_sueldo = sorted(dic_sueldo_lenguajes.values(), reverse =True)\n",
    "sorted_dic_sueldo_lenguajes = {}\n",
    "\n",
    "for participacion in sorted_sueldo:\n",
    "    for elemento in dic_sueldo_lenguajes.keys():\n",
    "        if dic_sueldo_lenguajes[elemento] == participacion:\n",
    "            sorted_dic_sueldo_lenguajes[elemento] = dic_sueldo_lenguajes[elemento]\n",
    "\n",
    "print(f'Mediana del sueldo segun tecnologias - lenguajes:\\n {sorted_dic_sueldo_lenguajes}')\n"
   ]
  },
  {
   "cell_type": "code",
   "execution_count": 961,
   "id": "6ff8071b-a534-4afe-a660-d287a33e693c",
   "metadata": {},
   "outputs": [],
   "source": [
    "#Creo variacion de la calculadora de sueldo para los casos que tiene que buscar una palabra en el string en lugar de matchearla\n",
    "def calculadora_mediana_sueldo_flex(criterio, pregunta_encuesta):\n",
    "    sueldo_criterio = []\n",
    "    for i in range(0,len(criterio)):\n",
    "        sueldo_criterio.append(0)\n",
    "\n",
    "    criterio = list(criterio)\n",
    "    dic_sueldo_criterio = dict(zip(criterio, sueldo_criterio))\n",
    "    #print(dic_sueldo_criterio)\n",
    "    for elemento in criterio:\n",
    "        sueldos = []\n",
    "        for i in range(0,len(data)):\n",
    "            if elemento in data[i][pregunta_encuesta]:\n",
    "                if data[i][\"Sueldo en dolares\"] != \"\":\n",
    "                    sueldos.append(data[i][\"Sueldo en dolares\"])\n",
    "                    sueldos = sorted(sueldos)\n",
    "                if len(sueldos) ==1 or len(sueldos) == 0:\n",
    "                    dic_sueldo_criterio[elemento] = sum(sueldos)\n",
    "                elif len(sueldos)%2 != 0:\n",
    "                    dic_sueldo_criterio[elemento] = (sueldos[(int(len(sueldos)/2))])\n",
    "                elif len(sueldos)%2 == 0:\n",
    "                    mediana = round((sueldos[int(len(sueldos)/2)]+sueldos[int(len(sueldos)/2-1)])/2,2)           \n",
    "                    dic_sueldo_criterio[elemento] = (mediana)\n",
    "\n",
    "   \n",
    "    sorted_sueldo = sorted(dic_sueldo_criterio.values(), reverse =True)\n",
    "    sorted_dic_sueldo_criterio = {}\n",
    "\n",
    "    for participacion in sorted_sueldo:\n",
    "        for elemento in dic_sueldo_criterio.keys():\n",
    "            if dic_sueldo_criterio[elemento] == participacion:\n",
    "                sorted_dic_sueldo_criterio[elemento] = dic_sueldo_criterio[elemento]\n",
    "\n",
    "    \n",
    "    return sorted_dic_sueldo_criterio"
   ]
  },
  {
   "cell_type": "code",
   "execution_count": 962,
   "id": "d8d98b06-3941-4dc8-9148-9f4a4648a0d8",
   "metadata": {},
   "outputs": [
    {
     "name": "stdout",
     "output_type": "stream",
     "text": [
      "Mediana del sueldo segun tecnologias - plataformas: {'eczel y pouer point': 28189788688.33, 'ActiveMQ': 152998.64, 'DataDog': 152998.64, 'RabbitMQ': 152998.64, 'Nokia SROS': 95884.8, 'Netlify': 9621.99, 'ansible': 8495.61, 'postgres': 6495.84, 'apache ': 6495.84, 'NiFi': 6491.03, 'AWS': 5479.19, 'AWS ELB': 5479.19, 'Elastic search': 5454.55, 'queues': 5454.55, 'Bare Metal': 5059.18, 'Loki': 4918.15, 'Gitlab-Ci': 4918.15, 'CloudFoundry': 4772.81, 'oracle ': 4581.9, 'Gamesparks': 4553.26, 'Playfab': 4553.26, 'terraform': 4486.44, 'Azure devops': 4222.29, 'Ansible Terraform Jenkins': 3894.62, 'Apple/iOS': 3827.8, 'Mulesoft0': 3722.79, 'snowflake': 3722.79, 'kafka,terraform': 3722.79, 'Prometheus': 3700.01, 'Oracle Apps': 3579.61, 'HPE NonStop (pueden meterlo como.mainframe)': 3474.61, 'Eclipse RCP': 3445.97, 'Amplitude': 3352.42, 'Terraform': 3340.97, ' Ansible': 3229.78, 'Ansible': 3229.78, 'Tanium': 3183.79, 'McAfee EPO': 3183.79, 'MS ATP': 3183.79, 'MS Cloud protection': 3183.79, 'tableau': 3150.06, 'Alteryx': 3150.06, 'Mdm': 3141.13, 'NonStop': 3073.7, '123': 3054.6, 'Cloudstack': 2873.36, 'AzureAD y Office365': 2835.05, '3ds max': 2827.01, 'maya': 2827.01, 'Mulesoft': 2768.23, 'RHEV': 2759.7, 'pfsense y firewalling': 2757.08, 'iOS': 2720.51, 'kyverno': 2705.23, 'edirectory': 2672.78, 'HP Non-Stop': 2672.78, 'Openshift': 2577.32, 'twilio': 2508.44, 'Databricks': 2434.14, 'networking / firewall / load balanbcers': 2386.41, 'jboss': 2386.41, 'pero yo no lo utilizo en mis tareas diarias. Usamos AWS': 2386.41, 'Tengo un rol de manager': 2386.41, 'conozco parte de este stack y es usado en nuestro producto': 2386.41, 'no aplican': 2386.41, 'no desarrollo': 2386.41, 'Magento Cloud': 2386.41, 'jmeter': 2386.4, 'JIRA': 2378.11, 'eclipse': 2367.32, 'Cybersecurity': 2300.5, 'Serverless': 2290.95, 'Peoplesoft': 2290.95, 'Kubernetes': 2290.95, 'Oracle Commerce Cloud': 2262.31, 'Hubspot': 2243.22, 'Iseries': 2195.49, 'MuleSoft': 2195.49, 'Cisco - Firewalling': 2195.49, 'IBM MAXIMO': 2195.49, 'IBM WebSphere Application Server': 2181.82, 'MACOS': 2157.31, 'Split': 2151.58, 'Confluence': 2151.58, 'ssff': 2147.77, 'jenkins': 2147.77, 'juniper': 2138.22, 'Networking': 2133.45, 'Guidewire': 2129.87, 'trabajo para varios equipos como SM/AC': 2102.69, 'Oracle Cloud': 2100.04, 'Oracle Machine Learning': 2100.04, 'Shotgrid Software': 2074.29, 'Private cloud ': 2071.4, 'SAP Cloud Platform ': 2061.86, 'cloudfoundry': 2061.86, 'Hadoop': 2057.23, 'OpenStack': 2023.67, 'github': 2018.67, 'Amazon Web Services': 2018.67, 'grafana': 2018.67, 'slack': 2018.67, 'Oracle EBS': 2004.59, 'oracle cloud infraestructure': 2004.58, 'OpenShift': 2004.58, 'proxmox consul rackspace': 2004.58, 'iSeries': 2004.58, 'oracle': 2004.58, 'SQL SERVER': 2000.0, 'CloudStack': 1995.04, 'Bizagi': 1986.96, 'Tecnologias propietarias de la empresa': 1985.49, 'N/A': 1985.49, 'Sybase': 1975.95, 'cms': 1974.42, 'Fury': 1971.17, 'Microsoft 365': 1971.17, 'Unity': 1958.08, 'Portainer': 1956.86, 'Android': 1951.85, 'Splunk': 1949.86, 'Cloudera': 1918.67, 'PROXMOX': 1909.13, 'Docker': 1909.13, 'Diferentes plataformas VoIP': 1909.13, 'Adobe Cloud': 1909.13, 'Apple ecosystem': 1909.13, 'IBM Cloud / Watson': 1909.13, '*BSD': 1909.13, 'inVision': 1909.13, 'HPnonstop': 1909.13, 'Unix': 1909.13, 'Cisco,huawei': 1909.13, 'Okta - OpenId - Auth0': 1909.13, 'IoT (BLE)': 1909.13, 'Chef': 1909.13, 'IBM': 1909.12, 'AWX': 1880.49, 'Meta4 Peoplenet': 1861.4, 'Weblogic': 1861.39, 'Google Cloud Platform/App Engine': 1856.62, 'Vercel': 1842.3, 'Cisco': 1837.54, 'Jenkins,Jira,Nexus,Gitlab,AzureDevOps': 1832.76, ' Jenkins': 1832.76, 'Jenkins': 1832.76, 'Kali Linux': 1814.16, 'öppen': 1813.67, 'Google Campaign Manager': 1813.67, 'Google Display and Video': 1813.67, 'Bluekai (Oracle)': 1813.67, 'Twitter Ads': 1813.67, 'Facebook BM': 1813.67, 'Google Ad Manager': 1813.67, 'AIX': 1808.89, 'IBM Integration Bus': 1796.21, 'jira': 1794.58, 'Meta4': 1789.81, 'IBM AS/400': 1778.36, 'IICS': 1775.49, 'Cisco commands': 1765.94, 'Forti': 1765.94, 'IP/MPLS': 1765.94, 'Python': 1765.94, 'Pandora FMS': 1765.94, 'Huawei y ZTE. ': 1765.94, 'Heroku': 1764.78, 'App Center': 1746.85, 'windows': 1741.03, 'Xen': 1727.88, 'Avature': 1727.76, 'Sketch': 1718.22, 'Huewei Cloud': 1718.21, 'meraki': 1718.21, 'React': 1718.21, 'Emerson': 1718.21, 'Rancher': 1718.21, 'ue': 1718.21, 'Mainframe': 1718.21, 'Ios': 1718.21, 'mobile y canales': 1718.21, 'perforce': 1700.43, 'plataformas propias': 1680.03, 'Oracle': 1677.09, 'IBM i': 1663.3, 'Zabbix': 1656.29, 'Solaris': 1637.08, 'Firebase': 1632.72, 'Grafana': 1622.76, 'Nifi': 1622.76, 'Azure': 1622.76, 'Linux': 1622.76, 'Shotgun': 1622.76, 'Kafka': 1622.76, 'qliksense': 1594.12, 'a': 1581.44, 'HP-UX': 1575.03, 'Xen Cloudstack Zabbix': 1546.63, 'Fortinet': 1544.48, 'IBM POWER / IBM i': 1539.79, 'Visio': 1529.69, 'Mural': 1527.3, 'Pivotal Cloudfoundry': 1527.3, 'OCI': 1527.3, 'Figma': 1527.3, 'Soy Scrum Master': 1527.3, 'vagrant': 1527.3, 'Blue Prism RPA': 1527.3, 'ERP Oracle E-business Suite On-premise y Cloud': 1522.53, 'Oracle Responsys': 1503.43, 'GeneXus': 1494.85, 'proxmox': 1493.89, '-': 1477.18, 'MooseFS': 1470.03, 'Ceph': 1470.03, 'Nutanix': 1433.23, 'Microcontroladores': 1431.84, 'Servidores Propios Proxmox': 1431.84, ' SPSS': 1431.84, 'SAP': 1431.84, 'Universe/Pick database': 1431.84, 'VMWare': 1431.84, 'SALESFORCE': 1431.84, 'pci': 1431.84, 'Microstretgy': 1431.84, 'Herramientas SAS': 1431.84, 'Salesforce': 1431.84, 'Sage X3 ': 1431.84, 'Aws': 1431.84, 'iso 27000': 1431.84, 'Apps Internas con tecnologias diversas.': 1427.55, 'Suite Atlassian': 1424.88, 'Citrix': 1422.99, 'Hyper-v': 1394.32, 'Miro': 1393.66, 'sale': 1391.28, 'ERP varios': 1384.12, 'Plataforma propia': 1365.02, 'Oracle CC&B': 1345.93, 'Proxmox': 1339.06, 'Xray': 1336.39, 'RPA tools': 1336.39, '0': 1336.39, 'AS400': 1336.39, 'SharePoint': 1336.39, 'Postman': 1336.39, '.NET': 1336.39, 'Windows Server': 1336.39, 'ArcGIS': 1336.39, 'Claroty': 1336.39, 'Windows': 1336.39, 'SQL': 1336.38, 'Flutter': 1321.52, 'Ninguna de las anteriores': 1317.3, 'openVMS': 1290.14, 'no implemento': 1288.66, 'hago preventa': 1288.66, 'Nada': 1288.66, 'Workday': 1284.85, 'FileMaker': 1279.11, 'Arduino o similar': 1279.11, 'WorkDay': 1269.57, 'Cloudera Manager': 1260.02, '.': 1255.25, 'Jira': 1243.32, 'Checkpoint': 1240.93, 'Trend Micro': 1240.93, 'SAP ISH': 1240.93, 'ORACLE PLSQL': 1240.93, 'siem y otros': 1240.93, 'SAP B1': 1240.93, 'figma': 1240.93, 'Cisco IOS': 1240.93, 'IBM maximo': 1240.93, 'JD Edwards': 1236.16, 'Shotgrid': 1228.06, 'SSIS': 1221.84, 'GitLab CI': 1221.84, 'VTEX': 1217.18, 'Automation Anywhere': 1204.64, 'networking': 1193.51, 'GUIDEWIRE': 1183.66, 'Cisco.Nokia. Fortinet': 1174.11, 'Herramientas de programación de controladores': 1164.57, 'Onpremise': 1164.57, 'Mikrotik ': 1160.52, 'Veeam': 1145.48, 'Firewalls y Balanceadores': 1145.48, 'ITSM': 1145.48, 'Power BI': 1145.47, 'Tableau': 1145.47, 'Microsoft AX': 1126.38, 'SAS GUIDE': 1126.38, 'QUICKSIGHT': 1126.38, 'TABLEAU': 1126.38, 'Adobe': 1107.3, 'Anypoint Platform': 1097.75, 'routerOS': 1088.2, 'IBM BPM ': 1073.77, 'sql': 1054.07, 'Salesforce Commerce Cloud': 1050.02, 'Qlik': 1050.02, 'Circle ci': 1050.02, 'Barracuda': 1050.02, ' Digital Ocean': 1035.7, 'Docker Swarm': 1035.7, 'Visual Studio': 1030.93, 'SSMS': 1030.93, 'RStudio server': 1002.29, 'DigitalOcean': 1002.29, 'JD Edwards ': 1002.29, 'Huawei routers': 992.75, 'MicroStrategy': 992.75, 'Jboss': 983.2, 'Planning': 973.65, 'IOT': 954.56, 'Hyperv': 941.87, 'Genesys': 922.11, 'Asterisk ': 922.04, 'SAS': 914.95, 'Infosec': 907.52, 'apex': 878.2, 'Mailchimp': 877.23, 'Facebook Ads': 877.23, 'Google Ads': 877.23, 'La empresa para la que trabajo usa herramientas propias': 873.42, 'Veeam Backup': 859.11, 'BO bussiness Inteligent': 859.11, 'Blue Prism': 859.11, 'azure': 859.0, 'Tibco': 834.1, 'Manatal': 819.26, 'Microsoft exchange': 811.38, 'Sistema de ticket de soporte propietario': 811.38, 'hyper-v': 811.38, 'Plc ': 811.38, 'QlikView': 801.84, 'ServiceNow': 801.83, 'cisco': 801.83, 'Microstrategy': 790.86, 'Exchange': 790.38, 'MS Exchange': 790.38, 'Jira ': 782.74, 'KVM': 763.65, 'powercenter': 763.65, 'Wordpress': 763.65, 'Blockchain': 763.65, 'excel': 763.65, 'Selenium': 763.65, 'Linux - KVM': 763.65, 'Bejerman ': 763.65, 'citrix': 763.65, 'soapui': 763.65, 'xcp': 763.65, 'Freepbx': 763.65, 'Genexus': 763.65, 'BI - SAS - OPENSmart - etc': 763.65, 'Web Sockets': 763.65, 'WordPress - Drupal': 757.0, 'splunk': 744.56, 'Office': 739.85, 'MS Office': 739.85, 'TOTVS': 735.01, 'Odoo': 732.63, 'CyberArk': 725.47, 'Vtex': 723.59, 'univention': 723.59, 'asterisk': 715.92, 'node': 715.92, 'Check Point': 715.92, 'salesforce': 715.92, 'etc.': 701.12, 'Sharepoint y BPM': 696.83, 'Savigent': 681.3, 'windows 7/10 deepfreeze software de soporte': 677.74, 'Sharepoint': 674.11, 'Kepion': 668.19, 'HubSpot': 668.19, 'linkedin': 668.19, 'SSRS': 668.19, 'workplace': 668.19, 'software propio': 668.19, 'gsuite': 668.19, 'SSAS': 668.19, 'monday': 668.19, 'comeet': 668.19, 'VPS': 668.19, 'UiPath Process Mining': 668.19, 'Qlik Sense': 668.19, 'PLC': 668.19, 'PFSense': 649.1, 'Siemens WinCC unified': 649.1, 'Virtualizor': 635.02, 'Centreon': 635.02, 'Linux Containers': 635.02, 'pentaho': 630.01, 'Service Now': 625.72, 'Shared Hosting': 620.47, 'Bejerman': 615.69, 'slurm': 610.92, 'JD. EDWARDS': 605.83, 'vtex': 601.37, 'Softland ERP': 601.37, 'kony temenos': 582.28, 'Sqldeveloper': 582.28, 'Rstudio': 571.43, 'Anaconda': 571.43, 'Oracle DWH': 571.43, 'PowerBI': 549.86, 'ninguna': 539.76, 'Sql Server': 535.36, 'power Bi': 535.36, 'BluePrism': 534.56, 'propios': 525.49, 'Soporte tecnico fisico': 525.01, 'SQL Server': 525.01, 'WMS': 521.14, 'GBP': 487.35, 'BLUE PRISM': 477.28, 'JDE Ewards': 477.28, 'kawak,': 467.74, 'Asterisk': 462.74, 'Tfs/azure devops': 448.64, 'Google Analytics': 439.05, 'Crystal reports': 429.55, 'NET ': 429.55, 'PowerPlatform': 429.55, 'Plc': 406.5, 'Blue prism': 401.16, 'moodle': 381.83, 'Redacción': 381.83, 'Hyper-V': 381.83, 'Bonita': 334.1, 'Squid': 329.32, 'AVAYA': 306.83, 'Mikrotik': 300.69, 'GitlabCI': 289.44, 'Teradata': 245.32, 'ETL': 245.32, 'Microsoft Office': 238.64, 'Sales force ': 223.32, 'Mikrotik,Huawei': 87.11, 'dynamics 365': 66.82, 'Unifi.': 50.86, 'Vpc ': 28.64, '--': 8.58, 'ADO': 2.51, 'Ciberseguridad': 2.51, 'Mulesfoft': 2.31, 'Spotfire PowerBI SalesForce': 1.96, 'WMS - TMS - YMS': 1.81, 'iseries as400': 1.43, 'Herramientas y tecnologías open-source y propietarias de Ciberseguridad/Infosec': 1.37, 'SAS Enterprise Guide': 1.18, 'IBM AS400': 1.05, 'telefonia': 1.0, 'Sistemas propios': 0.95, 'SuiteCRM': 0.91, 'Google Tag Manager': 0.87, 'La empresa maneja sus proprias plataformas': 0.86, 'elastix': 0.62, 'win 10': 0.48, 'Trello': 0.43, 'Screenpresso': 0.43, 'Qtest': 0.43, 'Slack': 0.43, 'Excel y Word.': 0.43, 'Skype': 0.43, 'Jabber': 0.43, 'hubspot': 0, 'vue': 0}\n"
     ]
    }
   ],
   "source": [
    "#Uso las funciones definidas para buscar los sueldo de cada tecnologia\n",
    "plataformas = respuestas_unicas(pregunta_encuesta = \"Plataformas\")\n",
    "\n",
    "plataformas  = list(plataformas)\n",
    "plataformas_unicos = []\n",
    "for i in range(0, len(plataformas)):\n",
    "    plataformas_unicos.append(plataformas[i].split(\", \"))\n",
    "    \n",
    "flattened = []\n",
    "for sublist in plataformas_unicos:\n",
    "    for val in sublist:\n",
    "        if len(val) != 0: \n",
    "            flattened.append(val)\n",
    "\n",
    "plataformas = set(flattened)\n",
    "sorted_dic_sueldo_plataformas = calculadora_mediana_sueldo_flex(criterio = plataformas, pregunta_encuesta = \"Plataformas\")\n",
    "print(f'Mediana del sueldo segun tecnologias - plataformas:\\n {sorted_dic_sueldo_plataformas}')"
   ]
  },
  {
   "cell_type": "code",
   "execution_count": 963,
   "id": "b8c37a9b-e5e0-4635-89a0-a95d443cb8dc",
   "metadata": {},
   "outputs": [
    {
     "name": "stdout",
     "output_type": "stream",
     "text": [
      "Mediana del sueldo segun tecnologias - frameworks: {'eczel y pouer point': 28189788688.33, 'ActiveMQ': 152998.64, 'DataDog': 152998.64, 'RabbitMQ': 152998.64, 'Nokia SROS': 95884.8, 'Netlify': 9621.99, 'ansible': 8495.61, 'postgres': 6495.84, 'apache ': 6495.84, 'NiFi': 6491.03, 'AWS': 5479.19, 'AWS ELB': 5479.19, 'Elastic search': 5454.55, 'queues': 5454.55, 'Bare Metal': 5059.18, 'Loki': 4918.15, 'Gitlab-Ci': 4918.15, 'CloudFoundry': 4772.81, 'oracle ': 4581.9, 'Gamesparks': 4553.26, 'Playfab': 4553.26, 'terraform': 4486.44, 'Azure devops': 4222.29, 'Ansible Terraform Jenkins': 3894.62, 'Apple/iOS': 3827.8, 'Mulesoft0': 3722.79, 'snowflake': 3722.79, 'kafka,terraform': 3722.79, 'Prometheus': 3700.01, 'Oracle Apps': 3579.61, 'HPE NonStop (pueden meterlo como.mainframe)': 3474.61, 'Eclipse RCP': 3445.97, 'Amplitude': 3352.42, 'Terraform': 3340.97, ' Ansible': 3229.78, 'Ansible': 3229.78, 'Tanium': 3183.79, 'McAfee EPO': 3183.79, 'MS ATP': 3183.79, 'MS Cloud protection': 3183.79, 'tableau': 3150.06, 'Alteryx': 3150.06, 'Mdm': 3141.13, 'NonStop': 3073.7, '123': 3054.6, 'Cloudstack': 2873.36, 'AzureAD y Office365': 2835.05, '3ds max': 2827.01, 'maya': 2827.01, 'Mulesoft': 2768.23, 'RHEV': 2759.7, 'pfsense y firewalling': 2757.08, 'iOS': 2720.51, 'kyverno': 2705.23, 'edirectory': 2672.78, 'HP Non-Stop': 2672.78, 'Openshift': 2577.32, 'twilio': 2508.44, 'Databricks': 2434.14, 'networking / firewall / load balanbcers': 2386.41, 'jboss': 2386.41, 'pero yo no lo utilizo en mis tareas diarias. Usamos AWS': 2386.41, 'Tengo un rol de manager': 2386.41, 'conozco parte de este stack y es usado en nuestro producto': 2386.41, 'no aplican': 2386.41, 'no desarrollo': 2386.41, 'Magento Cloud': 2386.41, 'jmeter': 2386.4, 'JIRA': 2378.11, 'eclipse': 2367.32, 'Cybersecurity': 2300.5, 'Serverless': 2290.95, 'Peoplesoft': 2290.95, 'Kubernetes': 2290.95, 'Oracle Commerce Cloud': 2262.31, 'Hubspot': 2243.22, 'Iseries': 2195.49, 'MuleSoft': 2195.49, 'Cisco - Firewalling': 2195.49, 'IBM MAXIMO': 2195.49, 'IBM WebSphere Application Server': 2181.82, 'MACOS': 2157.31, 'Split': 2151.58, 'Confluence': 2151.58, 'ssff': 2147.77, 'jenkins': 2147.77, 'juniper': 2138.22, 'Networking': 2133.45, 'Guidewire': 2129.87, 'trabajo para varios equipos como SM/AC': 2102.69, 'Oracle Cloud': 2100.04, 'Oracle Machine Learning': 2100.04, 'Shotgrid Software': 2074.29, 'Private cloud ': 2071.4, 'SAP Cloud Platform ': 2061.86, 'cloudfoundry': 2061.86, 'Hadoop': 2057.23, 'OpenStack': 2023.67, 'github': 2018.67, 'Amazon Web Services': 2018.67, 'grafana': 2018.67, 'slack': 2018.67, 'Oracle EBS': 2004.59, 'oracle cloud infraestructure': 2004.58, 'OpenShift': 2004.58, 'proxmox consul rackspace': 2004.58, 'iSeries': 2004.58, 'oracle': 2004.58, 'SQL SERVER': 2000.0, 'CloudStack': 1995.04, 'Bizagi': 1986.96, 'Tecnologias propietarias de la empresa': 1985.49, 'N/A': 1985.49, 'Sybase': 1975.95, 'cms': 1974.42, 'Fury': 1971.17, 'Microsoft 365': 1971.17, 'Unity': 1958.08, 'Portainer': 1956.86, 'Android': 1951.85, 'Splunk': 1949.86, 'Cloudera': 1918.67, 'PROXMOX': 1909.13, 'Docker': 1909.13, 'Diferentes plataformas VoIP': 1909.13, 'Adobe Cloud': 1909.13, 'Apple ecosystem': 1909.13, 'IBM Cloud / Watson': 1909.13, '*BSD': 1909.13, 'inVision': 1909.13, 'HPnonstop': 1909.13, 'Unix': 1909.13, 'Cisco,huawei': 1909.13, 'Okta - OpenId - Auth0': 1909.13, 'IoT (BLE)': 1909.13, 'Chef': 1909.13, 'IBM': 1909.12, 'AWX': 1880.49, 'Meta4 Peoplenet': 1861.4, 'Weblogic': 1861.39, 'Google Cloud Platform/App Engine': 1856.62, 'Vercel': 1842.3, 'Cisco': 1837.54, 'Jenkins,Jira,Nexus,Gitlab,AzureDevOps': 1832.76, ' Jenkins': 1832.76, 'Jenkins': 1832.76, 'Kali Linux': 1814.16, 'öppen': 1813.67, 'Google Campaign Manager': 1813.67, 'Google Display and Video': 1813.67, 'Bluekai (Oracle)': 1813.67, 'Twitter Ads': 1813.67, 'Facebook BM': 1813.67, 'Google Ad Manager': 1813.67, 'AIX': 1808.89, 'IBM Integration Bus': 1796.21, 'jira': 1794.58, 'Meta4': 1789.81, 'IBM AS/400': 1778.36, 'IICS': 1775.49, 'Cisco commands': 1765.94, 'Forti': 1765.94, 'IP/MPLS': 1765.94, 'Python': 1765.94, 'Pandora FMS': 1765.94, 'Huawei y ZTE. ': 1765.94, 'Heroku': 1764.78, 'App Center': 1746.85, 'windows': 1741.03, 'Xen': 1727.88, 'Avature': 1727.76, 'Sketch': 1718.22, 'Huewei Cloud': 1718.21, 'meraki': 1718.21, 'React': 1718.21, 'Emerson': 1718.21, 'Rancher': 1718.21, 'ue': 1718.21, 'Mainframe': 1718.21, 'Ios': 1718.21, 'mobile y canales': 1718.21, 'perforce': 1700.43, 'plataformas propias': 1680.03, 'Oracle': 1677.09, 'IBM i': 1663.3, 'Zabbix': 1656.29, 'Solaris': 1637.08, 'Firebase': 1632.72, 'Grafana': 1622.76, 'Nifi': 1622.76, 'Azure': 1622.76, 'Linux': 1622.76, 'Shotgun': 1622.76, 'Kafka': 1622.76, 'qliksense': 1594.12, 'a': 1581.44, 'HP-UX': 1575.03, 'Xen Cloudstack Zabbix': 1546.63, 'Fortinet': 1544.48, 'IBM POWER / IBM i': 1539.79, 'Visio': 1529.69, 'Mural': 1527.3, 'Pivotal Cloudfoundry': 1527.3, 'OCI': 1527.3, 'Figma': 1527.3, 'Soy Scrum Master': 1527.3, 'vagrant': 1527.3, 'Blue Prism RPA': 1527.3, 'ERP Oracle E-business Suite On-premise y Cloud': 1522.53, 'Oracle Responsys': 1503.43, 'GeneXus': 1494.85, 'proxmox': 1493.89, '-': 1477.18, 'MooseFS': 1470.03, 'Ceph': 1470.03, 'Nutanix': 1433.23, 'Microcontroladores': 1431.84, 'Servidores Propios Proxmox': 1431.84, ' SPSS': 1431.84, 'SAP': 1431.84, 'Universe/Pick database': 1431.84, 'VMWare': 1431.84, 'SALESFORCE': 1431.84, 'pci': 1431.84, 'Microstretgy': 1431.84, 'Herramientas SAS': 1431.84, 'Salesforce': 1431.84, 'Sage X3 ': 1431.84, 'Aws': 1431.84, 'iso 27000': 1431.84, 'Apps Internas con tecnologias diversas.': 1427.55, 'Suite Atlassian': 1424.88, 'Citrix': 1422.99, 'Hyper-v': 1394.32, 'Miro': 1393.66, 'sale': 1391.28, 'ERP varios': 1384.12, 'Plataforma propia': 1365.02, 'Oracle CC&B': 1345.93, 'Proxmox': 1339.06, 'Xray': 1336.39, 'RPA tools': 1336.39, '0': 1336.39, 'AS400': 1336.39, 'SharePoint': 1336.39, 'Postman': 1336.39, '.NET': 1336.39, 'Windows Server': 1336.39, 'ArcGIS': 1336.39, 'Claroty': 1336.39, 'Windows': 1336.39, 'SQL': 1336.38, 'Flutter': 1321.52, 'Ninguna de las anteriores': 1317.3, 'openVMS': 1290.14, 'no implemento': 1288.66, 'hago preventa': 1288.66, 'Nada': 1288.66, 'Workday': 1284.85, 'FileMaker': 1279.11, 'Arduino o similar': 1279.11, 'WorkDay': 1269.57, 'Cloudera Manager': 1260.02, '.': 1255.25, 'Jira': 1243.32, 'Checkpoint': 1240.93, 'Trend Micro': 1240.93, 'SAP ISH': 1240.93, 'ORACLE PLSQL': 1240.93, 'siem y otros': 1240.93, 'SAP B1': 1240.93, 'figma': 1240.93, 'Cisco IOS': 1240.93, 'IBM maximo': 1240.93, 'JD Edwards': 1236.16, 'Shotgrid': 1228.06, 'SSIS': 1221.84, 'GitLab CI': 1221.84, 'VTEX': 1217.18, 'Automation Anywhere': 1204.64, 'networking': 1193.51, 'GUIDEWIRE': 1183.66, 'Cisco.Nokia. Fortinet': 1174.11, 'Herramientas de programación de controladores': 1164.57, 'Onpremise': 1164.57, 'Mikrotik ': 1160.52, 'Veeam': 1145.48, 'Firewalls y Balanceadores': 1145.48, 'ITSM': 1145.48, 'Power BI': 1145.47, 'Tableau': 1145.47, 'Microsoft AX': 1126.38, 'SAS GUIDE': 1126.38, 'QUICKSIGHT': 1126.38, 'TABLEAU': 1126.38, 'Adobe': 1107.3, 'Anypoint Platform': 1097.75, 'routerOS': 1088.2, 'IBM BPM ': 1073.77, 'sql': 1054.07, 'Salesforce Commerce Cloud': 1050.02, 'Qlik': 1050.02, 'Circle ci': 1050.02, 'Barracuda': 1050.02, ' Digital Ocean': 1035.7, 'Docker Swarm': 1035.7, 'Visual Studio': 1030.93, 'SSMS': 1030.93, 'RStudio server': 1002.29, 'DigitalOcean': 1002.29, 'JD Edwards ': 1002.29, 'Huawei routers': 992.75, 'MicroStrategy': 992.75, 'Jboss': 983.2, 'Planning': 973.65, 'IOT': 954.56, 'Hyperv': 941.87, 'Genesys': 922.11, 'Asterisk ': 922.04, 'SAS': 914.95, 'Infosec': 907.52, 'apex': 878.2, 'Mailchimp': 877.23, 'Facebook Ads': 877.23, 'Google Ads': 877.23, 'La empresa para la que trabajo usa herramientas propias': 873.42, 'Veeam Backup': 859.11, 'BO bussiness Inteligent': 859.11, 'Blue Prism': 859.11, 'azure': 859.0, 'Tibco': 834.1, 'Manatal': 819.26, 'Microsoft exchange': 811.38, 'Sistema de ticket de soporte propietario': 811.38, 'hyper-v': 811.38, 'Plc ': 811.38, 'QlikView': 801.84, 'ServiceNow': 801.83, 'cisco': 801.83, 'Microstrategy': 790.86, 'Exchange': 790.38, 'MS Exchange': 790.38, 'Jira ': 782.74, 'KVM': 763.65, 'powercenter': 763.65, 'Wordpress': 763.65, 'Blockchain': 763.65, 'excel': 763.65, 'Selenium': 763.65, 'Linux - KVM': 763.65, 'Bejerman ': 763.65, 'citrix': 763.65, 'soapui': 763.65, 'xcp': 763.65, 'Freepbx': 763.65, 'Genexus': 763.65, 'BI - SAS - OPENSmart - etc': 763.65, 'Web Sockets': 763.65, 'WordPress - Drupal': 757.0, 'splunk': 744.56, 'Office': 739.85, 'MS Office': 739.85, 'TOTVS': 735.01, 'Odoo': 732.63, 'CyberArk': 725.47, 'Vtex': 723.59, 'univention': 723.59, 'asterisk': 715.92, 'node': 715.92, 'Check Point': 715.92, 'salesforce': 715.92, 'etc.': 701.12, 'Sharepoint y BPM': 696.83, 'Savigent': 681.3, 'windows 7/10 deepfreeze software de soporte': 677.74, 'Sharepoint': 674.11, 'Kepion': 668.19, 'HubSpot': 668.19, 'linkedin': 668.19, 'SSRS': 668.19, 'workplace': 668.19, 'software propio': 668.19, 'gsuite': 668.19, 'SSAS': 668.19, 'monday': 668.19, 'comeet': 668.19, 'VPS': 668.19, 'UiPath Process Mining': 668.19, 'Qlik Sense': 668.19, 'PLC': 668.19, 'PFSense': 649.1, 'Siemens WinCC unified': 649.1, 'Virtualizor': 635.02, 'Centreon': 635.02, 'Linux Containers': 635.02, 'pentaho': 630.01, 'Service Now': 625.72, 'Shared Hosting': 620.47, 'Bejerman': 615.69, 'slurm': 610.92, 'JD. EDWARDS': 605.83, 'vtex': 601.37, 'Softland ERP': 601.37, 'kony temenos': 582.28, 'Sqldeveloper': 582.28, 'Rstudio': 571.43, 'Anaconda': 571.43, 'Oracle DWH': 571.43, 'PowerBI': 549.86, 'ninguna': 539.76, 'Sql Server': 535.36, 'power Bi': 535.36, 'BluePrism': 534.56, 'propios': 525.49, 'Soporte tecnico fisico': 525.01, 'SQL Server': 525.01, 'WMS': 521.14, 'GBP': 487.35, 'BLUE PRISM': 477.28, 'JDE Ewards': 477.28, 'kawak,': 467.74, 'Asterisk': 462.74, 'Tfs/azure devops': 448.64, 'Google Analytics': 439.05, 'Crystal reports': 429.55, 'NET ': 429.55, 'PowerPlatform': 429.55, 'Plc': 406.5, 'Blue prism': 401.16, 'moodle': 381.83, 'Redacción': 381.83, 'Hyper-V': 381.83, 'Bonita': 334.1, 'Squid': 329.32, 'AVAYA': 306.83, 'Mikrotik': 300.69, 'GitlabCI': 289.44, 'Teradata': 245.32, 'ETL': 245.32, 'Microsoft Office': 238.64, 'Sales force ': 223.32, 'Mikrotik,Huawei': 87.11, 'dynamics 365': 66.82, 'Unifi.': 50.86, 'Vpc ': 28.64, '--': 8.58, 'ADO': 2.51, 'Ciberseguridad': 2.51, 'Mulesfoft': 2.31, 'Spotfire PowerBI SalesForce': 1.96, 'WMS - TMS - YMS': 1.81, 'iseries as400': 1.43, 'Herramientas y tecnologías open-source y propietarias de Ciberseguridad/Infosec': 1.37, 'SAS Enterprise Guide': 1.18, 'IBM AS400': 1.05, 'telefonia': 1.0, 'Sistemas propios': 0.95, 'SuiteCRM': 0.91, 'Google Tag Manager': 0.87, 'La empresa maneja sus proprias plataformas': 0.86, 'elastix': 0.62, 'win 10': 0.48, 'Trello': 0.43, 'Screenpresso': 0.43, 'Qtest': 0.43, 'Slack': 0.43, 'Excel y Word.': 0.43, 'Skype': 0.43, 'Jabber': 0.43, 'hubspot': 0, 'vue': 0}\n"
     ]
    }
   ],
   "source": [
    "frameworks = respuestas_unicas(pregunta_encuesta = \"Frameworks, herramientas y librerías\")\n",
    "\n",
    "frameworks  = list(frameworks)\n",
    "frameworks_unicos = []\n",
    "for i in range(0, len(frameworks)):\n",
    "    frameworks_unicos.append(frameworks[i].split(\", \"))\n",
    "    \n",
    "flattened = []\n",
    "for sublist in frameworks_unicos:\n",
    "    for val in sublist:\n",
    "        if len(val) != 0: \n",
    "            flattened.append(val)\n",
    "\n",
    "frameworks = set(flattened)\n",
    "sorted_dic_sueldo_frameworks = calculadora_mediana_sueldo_flex(criterio = frameworks, pregunta_encuesta = \"Frameworks, herramientas y librerías\")\n",
    "print(f'Mediana del sueldo segun tecnologias - frameworks:\\n {sorted_dic_sueldo_plataformas}')"
   ]
  },
  {
   "cell_type": "code",
   "execution_count": 971,
   "id": "6111868b-3f31-4bb4-9a09-a9e15f89b5e0",
   "metadata": {},
   "outputs": [
    {
     "name": "stdout",
     "output_type": "stream",
     "text": [
      "Mediana del sueldo segun tecnologias - Bases de datos:\n",
      " {'eczel y pouer point': 28189788688.33, 'ActiveMQ': 152998.64, 'DataDog': 152998.64, 'RabbitMQ': 152998.64, 'Nokia SROS': 95884.8, 'Netlify': 9621.99, 'ansible': 8495.61, 'postgres': 6495.84, 'apache ': 6495.84, 'NiFi': 6491.03, 'AWS': 5479.19, 'AWS ELB': 5479.19, 'Elastic search': 5454.55, 'queues': 5454.55, 'Bare Metal': 5059.18, 'Loki': 4918.15, 'Gitlab-Ci': 4918.15, 'CloudFoundry': 4772.81, 'oracle ': 4581.9, 'Gamesparks': 4553.26, 'Playfab': 4553.26, 'terraform': 4486.44, 'Azure devops': 4222.29, 'Ansible Terraform Jenkins': 3894.62, 'Apple/iOS': 3827.8, 'Mulesoft0': 3722.79, 'snowflake': 3722.79, 'kafka,terraform': 3722.79, 'Prometheus': 3700.01, 'Oracle Apps': 3579.61, 'HPE NonStop (pueden meterlo como.mainframe)': 3474.61, 'Eclipse RCP': 3445.97, 'Amplitude': 3352.42, 'Terraform': 3340.97, ' Ansible': 3229.78, 'Ansible': 3229.78, 'Tanium': 3183.79, 'McAfee EPO': 3183.79, 'MS ATP': 3183.79, 'MS Cloud protection': 3183.79, 'tableau': 3150.06, 'Alteryx': 3150.06, 'Mdm': 3141.13, 'NonStop': 3073.7, '123': 3054.6, 'Cloudstack': 2873.36, 'AzureAD y Office365': 2835.05, '3ds max': 2827.01, 'maya': 2827.01, 'Mulesoft': 2768.23, 'RHEV': 2759.7, 'pfsense y firewalling': 2757.08, 'iOS': 2720.51, 'kyverno': 2705.23, 'edirectory': 2672.78, 'HP Non-Stop': 2672.78, 'Openshift': 2577.32, 'twilio': 2508.44, 'Databricks': 2434.14, 'networking / firewall / load balanbcers': 2386.41, 'jboss': 2386.41, 'pero yo no lo utilizo en mis tareas diarias. Usamos AWS': 2386.41, 'Tengo un rol de manager': 2386.41, 'conozco parte de este stack y es usado en nuestro producto': 2386.41, 'no aplican': 2386.41, 'no desarrollo': 2386.41, 'Magento Cloud': 2386.41, 'jmeter': 2386.4, 'JIRA': 2378.11, 'eclipse': 2367.32, 'Cybersecurity': 2300.5, 'Serverless': 2290.95, 'Peoplesoft': 2290.95, 'Kubernetes': 2290.95, 'Oracle Commerce Cloud': 2262.31, 'Hubspot': 2243.22, 'Iseries': 2195.49, 'MuleSoft': 2195.49, 'Cisco - Firewalling': 2195.49, 'IBM MAXIMO': 2195.49, 'IBM WebSphere Application Server': 2181.82, 'MACOS': 2157.31, 'Split': 2151.58, 'Confluence': 2151.58, 'ssff': 2147.77, 'jenkins': 2147.77, 'juniper': 2138.22, 'Networking': 2133.45, 'Guidewire': 2129.87, 'trabajo para varios equipos como SM/AC': 2102.69, 'Oracle Cloud': 2100.04, 'Oracle Machine Learning': 2100.04, 'Shotgrid Software': 2074.29, 'Private cloud ': 2071.4, 'SAP Cloud Platform ': 2061.86, 'cloudfoundry': 2061.86, 'Hadoop': 2057.23, 'OpenStack': 2023.67, 'github': 2018.67, 'Amazon Web Services': 2018.67, 'grafana': 2018.67, 'slack': 2018.67, 'Oracle EBS': 2004.59, 'oracle cloud infraestructure': 2004.58, 'OpenShift': 2004.58, 'proxmox consul rackspace': 2004.58, 'iSeries': 2004.58, 'oracle': 2004.58, 'SQL SERVER': 2000.0, 'CloudStack': 1995.04, 'Bizagi': 1986.96, 'Tecnologias propietarias de la empresa': 1985.49, 'N/A': 1985.49, 'Sybase': 1975.95, 'cms': 1974.42, 'Fury': 1971.17, 'Microsoft 365': 1971.17, 'Unity': 1958.08, 'Portainer': 1956.86, 'Android': 1951.85, 'Splunk': 1949.86, 'Cloudera': 1918.67, 'PROXMOX': 1909.13, 'Docker': 1909.13, 'Diferentes plataformas VoIP': 1909.13, 'Adobe Cloud': 1909.13, 'Apple ecosystem': 1909.13, 'IBM Cloud / Watson': 1909.13, '*BSD': 1909.13, 'inVision': 1909.13, 'HPnonstop': 1909.13, 'Unix': 1909.13, 'Cisco,huawei': 1909.13, 'Okta - OpenId - Auth0': 1909.13, 'IoT (BLE)': 1909.13, 'Chef': 1909.13, 'IBM': 1909.12, 'AWX': 1880.49, 'Meta4 Peoplenet': 1861.4, 'Weblogic': 1861.39, 'Google Cloud Platform/App Engine': 1856.62, 'Vercel': 1842.3, 'Cisco': 1837.54, 'Jenkins,Jira,Nexus,Gitlab,AzureDevOps': 1832.76, ' Jenkins': 1832.76, 'Jenkins': 1832.76, 'Kali Linux': 1814.16, 'öppen': 1813.67, 'Google Campaign Manager': 1813.67, 'Google Display and Video': 1813.67, 'Bluekai (Oracle)': 1813.67, 'Twitter Ads': 1813.67, 'Facebook BM': 1813.67, 'Google Ad Manager': 1813.67, 'AIX': 1808.89, 'IBM Integration Bus': 1796.21, 'jira': 1794.58, 'Meta4': 1789.81, 'IBM AS/400': 1778.36, 'IICS': 1775.49, 'Cisco commands': 1765.94, 'Forti': 1765.94, 'IP/MPLS': 1765.94, 'Python': 1765.94, 'Pandora FMS': 1765.94, 'Huawei y ZTE. ': 1765.94, 'Heroku': 1764.78, 'App Center': 1746.85, 'windows': 1741.03, 'Xen': 1727.88, 'Avature': 1727.76, 'Sketch': 1718.22, 'Huewei Cloud': 1718.21, 'meraki': 1718.21, 'React': 1718.21, 'Emerson': 1718.21, 'Rancher': 1718.21, 'ue': 1718.21, 'Mainframe': 1718.21, 'Ios': 1718.21, 'mobile y canales': 1718.21, 'perforce': 1700.43, 'plataformas propias': 1680.03, 'Oracle': 1677.09, 'IBM i': 1663.3, 'Zabbix': 1656.29, 'Solaris': 1637.08, 'Firebase': 1632.72, 'Grafana': 1622.76, 'Nifi': 1622.76, 'Azure': 1622.76, 'Linux': 1622.76, 'Shotgun': 1622.76, 'Kafka': 1622.76, 'qliksense': 1594.12, 'a': 1581.44, 'HP-UX': 1575.03, 'Xen Cloudstack Zabbix': 1546.63, 'Fortinet': 1544.48, 'IBM POWER / IBM i': 1539.79, 'Visio': 1529.69, 'Mural': 1527.3, 'Pivotal Cloudfoundry': 1527.3, 'OCI': 1527.3, 'Figma': 1527.3, 'Soy Scrum Master': 1527.3, 'vagrant': 1527.3, 'Blue Prism RPA': 1527.3, 'ERP Oracle E-business Suite On-premise y Cloud': 1522.53, 'Oracle Responsys': 1503.43, 'GeneXus': 1494.85, 'proxmox': 1493.89, '-': 1477.18, 'MooseFS': 1470.03, 'Ceph': 1470.03, 'Nutanix': 1433.23, 'Microcontroladores': 1431.84, 'Servidores Propios Proxmox': 1431.84, ' SPSS': 1431.84, 'SAP': 1431.84, 'Universe/Pick database': 1431.84, 'VMWare': 1431.84, 'SALESFORCE': 1431.84, 'pci': 1431.84, 'Microstretgy': 1431.84, 'Herramientas SAS': 1431.84, 'Salesforce': 1431.84, 'Sage X3 ': 1431.84, 'Aws': 1431.84, 'iso 27000': 1431.84, 'Apps Internas con tecnologias diversas.': 1427.55, 'Suite Atlassian': 1424.88, 'Citrix': 1422.99, 'Hyper-v': 1394.32, 'Miro': 1393.66, 'sale': 1391.28, 'ERP varios': 1384.12, 'Plataforma propia': 1365.02, 'Oracle CC&B': 1345.93, 'Proxmox': 1339.06, 'Xray': 1336.39, 'RPA tools': 1336.39, '0': 1336.39, 'AS400': 1336.39, 'SharePoint': 1336.39, 'Postman': 1336.39, '.NET': 1336.39, 'Windows Server': 1336.39, 'ArcGIS': 1336.39, 'Claroty': 1336.39, 'Windows': 1336.39, 'SQL': 1336.38, 'Flutter': 1321.52, 'Ninguna de las anteriores': 1317.3, 'openVMS': 1290.14, 'no implemento': 1288.66, 'hago preventa': 1288.66, 'Nada': 1288.66, 'Workday': 1284.85, 'FileMaker': 1279.11, 'Arduino o similar': 1279.11, 'WorkDay': 1269.57, 'Cloudera Manager': 1260.02, '.': 1255.25, 'Jira': 1243.32, 'Checkpoint': 1240.93, 'Trend Micro': 1240.93, 'SAP ISH': 1240.93, 'ORACLE PLSQL': 1240.93, 'siem y otros': 1240.93, 'SAP B1': 1240.93, 'figma': 1240.93, 'Cisco IOS': 1240.93, 'IBM maximo': 1240.93, 'JD Edwards': 1236.16, 'Shotgrid': 1228.06, 'SSIS': 1221.84, 'GitLab CI': 1221.84, 'VTEX': 1217.18, 'Automation Anywhere': 1204.64, 'networking': 1193.51, 'GUIDEWIRE': 1183.66, 'Cisco.Nokia. Fortinet': 1174.11, 'Herramientas de programación de controladores': 1164.57, 'Onpremise': 1164.57, 'Mikrotik ': 1160.52, 'Veeam': 1145.48, 'Firewalls y Balanceadores': 1145.48, 'ITSM': 1145.48, 'Power BI': 1145.47, 'Tableau': 1145.47, 'Microsoft AX': 1126.38, 'SAS GUIDE': 1126.38, 'QUICKSIGHT': 1126.38, 'TABLEAU': 1126.38, 'Adobe': 1107.3, 'Anypoint Platform': 1097.75, 'routerOS': 1088.2, 'IBM BPM ': 1073.77, 'sql': 1054.07, 'Salesforce Commerce Cloud': 1050.02, 'Qlik': 1050.02, 'Circle ci': 1050.02, 'Barracuda': 1050.02, ' Digital Ocean': 1035.7, 'Docker Swarm': 1035.7, 'Visual Studio': 1030.93, 'SSMS': 1030.93, 'RStudio server': 1002.29, 'DigitalOcean': 1002.29, 'JD Edwards ': 1002.29, 'Huawei routers': 992.75, 'MicroStrategy': 992.75, 'Jboss': 983.2, 'Planning': 973.65, 'IOT': 954.56, 'Hyperv': 941.87, 'Genesys': 922.11, 'Asterisk ': 922.04, 'SAS': 914.95, 'Infosec': 907.52, 'apex': 878.2, 'Mailchimp': 877.23, 'Facebook Ads': 877.23, 'Google Ads': 877.23, 'La empresa para la que trabajo usa herramientas propias': 873.42, 'Veeam Backup': 859.11, 'BO bussiness Inteligent': 859.11, 'Blue Prism': 859.11, 'azure': 859.0, 'Tibco': 834.1, 'Manatal': 819.26, 'Microsoft exchange': 811.38, 'Sistema de ticket de soporte propietario': 811.38, 'hyper-v': 811.38, 'Plc ': 811.38, 'QlikView': 801.84, 'ServiceNow': 801.83, 'cisco': 801.83, 'Microstrategy': 790.86, 'Exchange': 790.38, 'MS Exchange': 790.38, 'Jira ': 782.74, 'KVM': 763.65, 'powercenter': 763.65, 'Wordpress': 763.65, 'Blockchain': 763.65, 'excel': 763.65, 'Selenium': 763.65, 'Linux - KVM': 763.65, 'Bejerman ': 763.65, 'citrix': 763.65, 'soapui': 763.65, 'xcp': 763.65, 'Freepbx': 763.65, 'Genexus': 763.65, 'BI - SAS - OPENSmart - etc': 763.65, 'Web Sockets': 763.65, 'WordPress - Drupal': 757.0, 'splunk': 744.56, 'Office': 739.85, 'MS Office': 739.85, 'TOTVS': 735.01, 'Odoo': 732.63, 'CyberArk': 725.47, 'Vtex': 723.59, 'univention': 723.59, 'asterisk': 715.92, 'node': 715.92, 'Check Point': 715.92, 'salesforce': 715.92, 'etc.': 701.12, 'Sharepoint y BPM': 696.83, 'Savigent': 681.3, 'windows 7/10 deepfreeze software de soporte': 677.74, 'Sharepoint': 674.11, 'Kepion': 668.19, 'HubSpot': 668.19, 'linkedin': 668.19, 'SSRS': 668.19, 'workplace': 668.19, 'software propio': 668.19, 'gsuite': 668.19, 'SSAS': 668.19, 'monday': 668.19, 'comeet': 668.19, 'VPS': 668.19, 'UiPath Process Mining': 668.19, 'Qlik Sense': 668.19, 'PLC': 668.19, 'PFSense': 649.1, 'Siemens WinCC unified': 649.1, 'Virtualizor': 635.02, 'Centreon': 635.02, 'Linux Containers': 635.02, 'pentaho': 630.01, 'Service Now': 625.72, 'Shared Hosting': 620.47, 'Bejerman': 615.69, 'slurm': 610.92, 'JD. EDWARDS': 605.83, 'vtex': 601.37, 'Softland ERP': 601.37, 'kony temenos': 582.28, 'Sqldeveloper': 582.28, 'Rstudio': 571.43, 'Anaconda': 571.43, 'Oracle DWH': 571.43, 'PowerBI': 549.86, 'ninguna': 539.76, 'Sql Server': 535.36, 'power Bi': 535.36, 'BluePrism': 534.56, 'propios': 525.49, 'Soporte tecnico fisico': 525.01, 'SQL Server': 525.01, 'WMS': 521.14, 'GBP': 487.35, 'BLUE PRISM': 477.28, 'JDE Ewards': 477.28, 'kawak,': 467.74, 'Asterisk': 462.74, 'Tfs/azure devops': 448.64, 'Google Analytics': 439.05, 'Crystal reports': 429.55, 'NET ': 429.55, 'PowerPlatform': 429.55, 'Plc': 406.5, 'Blue prism': 401.16, 'moodle': 381.83, 'Redacción': 381.83, 'Hyper-V': 381.83, 'Bonita': 334.1, 'Squid': 329.32, 'AVAYA': 306.83, 'Mikrotik': 300.69, 'GitlabCI': 289.44, 'Teradata': 245.32, 'ETL': 245.32, 'Microsoft Office': 238.64, 'Sales force ': 223.32, 'Mikrotik,Huawei': 87.11, 'dynamics 365': 66.82, 'Unifi.': 50.86, 'Vpc ': 28.64, '--': 8.58, 'ADO': 2.51, 'Ciberseguridad': 2.51, 'Mulesfoft': 2.31, 'Spotfire PowerBI SalesForce': 1.96, 'WMS - TMS - YMS': 1.81, 'iseries as400': 1.43, 'Herramientas y tecnologías open-source y propietarias de Ciberseguridad/Infosec': 1.37, 'SAS Enterprise Guide': 1.18, 'IBM AS400': 1.05, 'telefonia': 1.0, 'Sistemas propios': 0.95, 'SuiteCRM': 0.91, 'Google Tag Manager': 0.87, 'La empresa maneja sus proprias plataformas': 0.86, 'elastix': 0.62, 'win 10': 0.48, 'Trello': 0.43, 'Screenpresso': 0.43, 'Qtest': 0.43, 'Slack': 0.43, 'Excel y Word.': 0.43, 'Skype': 0.43, 'Jabber': 0.43, 'hubspot': 0, 'vue': 0}\n"
     ]
    }
   ],
   "source": [
    "bases_de_datos = respuestas_unicas(pregunta_encuesta = \"Bases de datos\")\n",
    "\n",
    "bases_de_datos  = list(bases_de_datos)\n",
    "bases_de_datos_unicos = []\n",
    "for i in range(0, len(bases_de_datos)):\n",
    "    bases_de_datos_unicos.append(bases_de_datos[i].split(\", \"))\n",
    "    \n",
    "flattened = []\n",
    "for sublist in bases_de_datos_unicos:\n",
    "    for val in sublist:\n",
    "        if len(val) != 0: \n",
    "            flattened.append(val)\n",
    "\n",
    "bases_de_datos = set(flattened)\n",
    "sorted_dic_sueldo_bases_de_datos = calculadora_mediana_sueldo_flex(criterio = bases_de_datos, pregunta_encuesta = \"Bases de datos\")\n",
    "print(f'Mediana del sueldo segun tecnologias - Bases de datos:\\n {sorted_dic_sueldo_plataformas}')"
   ]
  },
  {
   "cell_type": "code",
   "execution_count": 965,
   "id": "2cba3acb-75c2-464c-b0cd-8e4114e87784",
   "metadata": {},
   "outputs": [
    {
     "name": "stdout",
     "output_type": "stream",
     "text": [
      "Mediana del sueldo segun tecnologias - QA/Testing: {'eczel y pouer point': 28189788688.33, 'ActiveMQ': 152998.64, 'DataDog': 152998.64, 'RabbitMQ': 152998.64, 'Nokia SROS': 95884.8, 'Netlify': 9621.99, 'ansible': 8495.61, 'postgres': 6495.84, 'apache ': 6495.84, 'NiFi': 6491.03, 'AWS': 5479.19, 'AWS ELB': 5479.19, 'Elastic search': 5454.55, 'queues': 5454.55, 'Bare Metal': 5059.18, 'Loki': 4918.15, 'Gitlab-Ci': 4918.15, 'CloudFoundry': 4772.81, 'oracle ': 4581.9, 'Gamesparks': 4553.26, 'Playfab': 4553.26, 'terraform': 4486.44, 'Azure devops': 4222.29, 'Ansible Terraform Jenkins': 3894.62, 'Apple/iOS': 3827.8, 'Mulesoft0': 3722.79, 'snowflake': 3722.79, 'kafka,terraform': 3722.79, 'Prometheus': 3700.01, 'Oracle Apps': 3579.61, 'HPE NonStop (pueden meterlo como.mainframe)': 3474.61, 'Eclipse RCP': 3445.97, 'Amplitude': 3352.42, 'Terraform': 3340.97, ' Ansible': 3229.78, 'Ansible': 3229.78, 'Tanium': 3183.79, 'McAfee EPO': 3183.79, 'MS ATP': 3183.79, 'MS Cloud protection': 3183.79, 'tableau': 3150.06, 'Alteryx': 3150.06, 'Mdm': 3141.13, 'NonStop': 3073.7, '123': 3054.6, 'Cloudstack': 2873.36, 'AzureAD y Office365': 2835.05, '3ds max': 2827.01, 'maya': 2827.01, 'Mulesoft': 2768.23, 'RHEV': 2759.7, 'pfsense y firewalling': 2757.08, 'iOS': 2720.51, 'kyverno': 2705.23, 'edirectory': 2672.78, 'HP Non-Stop': 2672.78, 'Openshift': 2577.32, 'twilio': 2508.44, 'Databricks': 2434.14, 'networking / firewall / load balanbcers': 2386.41, 'jboss': 2386.41, 'pero yo no lo utilizo en mis tareas diarias. Usamos AWS': 2386.41, 'Tengo un rol de manager': 2386.41, 'conozco parte de este stack y es usado en nuestro producto': 2386.41, 'no aplican': 2386.41, 'no desarrollo': 2386.41, 'Magento Cloud': 2386.41, 'jmeter': 2386.4, 'JIRA': 2378.11, 'eclipse': 2367.32, 'Cybersecurity': 2300.5, 'Serverless': 2290.95, 'Peoplesoft': 2290.95, 'Kubernetes': 2290.95, 'Oracle Commerce Cloud': 2262.31, 'Hubspot': 2243.22, 'Iseries': 2195.49, 'MuleSoft': 2195.49, 'Cisco - Firewalling': 2195.49, 'IBM MAXIMO': 2195.49, 'IBM WebSphere Application Server': 2181.82, 'MACOS': 2157.31, 'Split': 2151.58, 'Confluence': 2151.58, 'ssff': 2147.77, 'jenkins': 2147.77, 'juniper': 2138.22, 'Networking': 2133.45, 'Guidewire': 2129.87, 'trabajo para varios equipos como SM/AC': 2102.69, 'Oracle Cloud': 2100.04, 'Oracle Machine Learning': 2100.04, 'Shotgrid Software': 2074.29, 'Private cloud ': 2071.4, 'SAP Cloud Platform ': 2061.86, 'cloudfoundry': 2061.86, 'Hadoop': 2057.23, 'OpenStack': 2023.67, 'github': 2018.67, 'Amazon Web Services': 2018.67, 'grafana': 2018.67, 'slack': 2018.67, 'Oracle EBS': 2004.59, 'oracle cloud infraestructure': 2004.58, 'OpenShift': 2004.58, 'proxmox consul rackspace': 2004.58, 'iSeries': 2004.58, 'oracle': 2004.58, 'SQL SERVER': 2000.0, 'CloudStack': 1995.04, 'Bizagi': 1986.96, 'Tecnologias propietarias de la empresa': 1985.49, 'N/A': 1985.49, 'Sybase': 1975.95, 'cms': 1974.42, 'Fury': 1971.17, 'Microsoft 365': 1971.17, 'Unity': 1958.08, 'Portainer': 1956.86, 'Android': 1951.85, 'Splunk': 1949.86, 'Cloudera': 1918.67, 'PROXMOX': 1909.13, 'Docker': 1909.13, 'Diferentes plataformas VoIP': 1909.13, 'Adobe Cloud': 1909.13, 'Apple ecosystem': 1909.13, 'IBM Cloud / Watson': 1909.13, '*BSD': 1909.13, 'inVision': 1909.13, 'HPnonstop': 1909.13, 'Unix': 1909.13, 'Cisco,huawei': 1909.13, 'Okta - OpenId - Auth0': 1909.13, 'IoT (BLE)': 1909.13, 'Chef': 1909.13, 'IBM': 1909.12, 'AWX': 1880.49, 'Meta4 Peoplenet': 1861.4, 'Weblogic': 1861.39, 'Google Cloud Platform/App Engine': 1856.62, 'Vercel': 1842.3, 'Cisco': 1837.54, 'Jenkins,Jira,Nexus,Gitlab,AzureDevOps': 1832.76, ' Jenkins': 1832.76, 'Jenkins': 1832.76, 'Kali Linux': 1814.16, 'öppen': 1813.67, 'Google Campaign Manager': 1813.67, 'Google Display and Video': 1813.67, 'Bluekai (Oracle)': 1813.67, 'Twitter Ads': 1813.67, 'Facebook BM': 1813.67, 'Google Ad Manager': 1813.67, 'AIX': 1808.89, 'IBM Integration Bus': 1796.21, 'jira': 1794.58, 'Meta4': 1789.81, 'IBM AS/400': 1778.36, 'IICS': 1775.49, 'Cisco commands': 1765.94, 'Forti': 1765.94, 'IP/MPLS': 1765.94, 'Python': 1765.94, 'Pandora FMS': 1765.94, 'Huawei y ZTE. ': 1765.94, 'Heroku': 1764.78, 'App Center': 1746.85, 'windows': 1741.03, 'Xen': 1727.88, 'Avature': 1727.76, 'Sketch': 1718.22, 'Huewei Cloud': 1718.21, 'meraki': 1718.21, 'React': 1718.21, 'Emerson': 1718.21, 'Rancher': 1718.21, 'ue': 1718.21, 'Mainframe': 1718.21, 'Ios': 1718.21, 'mobile y canales': 1718.21, 'perforce': 1700.43, 'plataformas propias': 1680.03, 'Oracle': 1677.09, 'IBM i': 1663.3, 'Zabbix': 1656.29, 'Solaris': 1637.08, 'Firebase': 1632.72, 'Grafana': 1622.76, 'Nifi': 1622.76, 'Azure': 1622.76, 'Linux': 1622.76, 'Shotgun': 1622.76, 'Kafka': 1622.76, 'qliksense': 1594.12, 'a': 1581.44, 'HP-UX': 1575.03, 'Xen Cloudstack Zabbix': 1546.63, 'Fortinet': 1544.48, 'IBM POWER / IBM i': 1539.79, 'Visio': 1529.69, 'Mural': 1527.3, 'Pivotal Cloudfoundry': 1527.3, 'OCI': 1527.3, 'Figma': 1527.3, 'Soy Scrum Master': 1527.3, 'vagrant': 1527.3, 'Blue Prism RPA': 1527.3, 'ERP Oracle E-business Suite On-premise y Cloud': 1522.53, 'Oracle Responsys': 1503.43, 'GeneXus': 1494.85, 'proxmox': 1493.89, '-': 1477.18, 'MooseFS': 1470.03, 'Ceph': 1470.03, 'Nutanix': 1433.23, 'Microcontroladores': 1431.84, 'Servidores Propios Proxmox': 1431.84, ' SPSS': 1431.84, 'SAP': 1431.84, 'Universe/Pick database': 1431.84, 'VMWare': 1431.84, 'SALESFORCE': 1431.84, 'pci': 1431.84, 'Microstretgy': 1431.84, 'Herramientas SAS': 1431.84, 'Salesforce': 1431.84, 'Sage X3 ': 1431.84, 'Aws': 1431.84, 'iso 27000': 1431.84, 'Apps Internas con tecnologias diversas.': 1427.55, 'Suite Atlassian': 1424.88, 'Citrix': 1422.99, 'Hyper-v': 1394.32, 'Miro': 1393.66, 'sale': 1391.28, 'ERP varios': 1384.12, 'Plataforma propia': 1365.02, 'Oracle CC&B': 1345.93, 'Proxmox': 1339.06, 'Xray': 1336.39, 'RPA tools': 1336.39, '0': 1336.39, 'AS400': 1336.39, 'SharePoint': 1336.39, 'Postman': 1336.39, '.NET': 1336.39, 'Windows Server': 1336.39, 'ArcGIS': 1336.39, 'Claroty': 1336.39, 'Windows': 1336.39, 'SQL': 1336.38, 'Flutter': 1321.52, 'Ninguna de las anteriores': 1317.3, 'openVMS': 1290.14, 'no implemento': 1288.66, 'hago preventa': 1288.66, 'Nada': 1288.66, 'Workday': 1284.85, 'FileMaker': 1279.11, 'Arduino o similar': 1279.11, 'WorkDay': 1269.57, 'Cloudera Manager': 1260.02, '.': 1255.25, 'Jira': 1243.32, 'Checkpoint': 1240.93, 'Trend Micro': 1240.93, 'SAP ISH': 1240.93, 'ORACLE PLSQL': 1240.93, 'siem y otros': 1240.93, 'SAP B1': 1240.93, 'figma': 1240.93, 'Cisco IOS': 1240.93, 'IBM maximo': 1240.93, 'JD Edwards': 1236.16, 'Shotgrid': 1228.06, 'SSIS': 1221.84, 'GitLab CI': 1221.84, 'VTEX': 1217.18, 'Automation Anywhere': 1204.64, 'networking': 1193.51, 'GUIDEWIRE': 1183.66, 'Cisco.Nokia. Fortinet': 1174.11, 'Herramientas de programación de controladores': 1164.57, 'Onpremise': 1164.57, 'Mikrotik ': 1160.52, 'Veeam': 1145.48, 'Firewalls y Balanceadores': 1145.48, 'ITSM': 1145.48, 'Power BI': 1145.47, 'Tableau': 1145.47, 'Microsoft AX': 1126.38, 'SAS GUIDE': 1126.38, 'QUICKSIGHT': 1126.38, 'TABLEAU': 1126.38, 'Adobe': 1107.3, 'Anypoint Platform': 1097.75, 'routerOS': 1088.2, 'IBM BPM ': 1073.77, 'sql': 1054.07, 'Salesforce Commerce Cloud': 1050.02, 'Qlik': 1050.02, 'Circle ci': 1050.02, 'Barracuda': 1050.02, ' Digital Ocean': 1035.7, 'Docker Swarm': 1035.7, 'Visual Studio': 1030.93, 'SSMS': 1030.93, 'RStudio server': 1002.29, 'DigitalOcean': 1002.29, 'JD Edwards ': 1002.29, 'Huawei routers': 992.75, 'MicroStrategy': 992.75, 'Jboss': 983.2, 'Planning': 973.65, 'IOT': 954.56, 'Hyperv': 941.87, 'Genesys': 922.11, 'Asterisk ': 922.04, 'SAS': 914.95, 'Infosec': 907.52, 'apex': 878.2, 'Mailchimp': 877.23, 'Facebook Ads': 877.23, 'Google Ads': 877.23, 'La empresa para la que trabajo usa herramientas propias': 873.42, 'Veeam Backup': 859.11, 'BO bussiness Inteligent': 859.11, 'Blue Prism': 859.11, 'azure': 859.0, 'Tibco': 834.1, 'Manatal': 819.26, 'Microsoft exchange': 811.38, 'Sistema de ticket de soporte propietario': 811.38, 'hyper-v': 811.38, 'Plc ': 811.38, 'QlikView': 801.84, 'ServiceNow': 801.83, 'cisco': 801.83, 'Microstrategy': 790.86, 'Exchange': 790.38, 'MS Exchange': 790.38, 'Jira ': 782.74, 'KVM': 763.65, 'powercenter': 763.65, 'Wordpress': 763.65, 'Blockchain': 763.65, 'excel': 763.65, 'Selenium': 763.65, 'Linux - KVM': 763.65, 'Bejerman ': 763.65, 'citrix': 763.65, 'soapui': 763.65, 'xcp': 763.65, 'Freepbx': 763.65, 'Genexus': 763.65, 'BI - SAS - OPENSmart - etc': 763.65, 'Web Sockets': 763.65, 'WordPress - Drupal': 757.0, 'splunk': 744.56, 'Office': 739.85, 'MS Office': 739.85, 'TOTVS': 735.01, 'Odoo': 732.63, 'CyberArk': 725.47, 'Vtex': 723.59, 'univention': 723.59, 'asterisk': 715.92, 'node': 715.92, 'Check Point': 715.92, 'salesforce': 715.92, 'etc.': 701.12, 'Sharepoint y BPM': 696.83, 'Savigent': 681.3, 'windows 7/10 deepfreeze software de soporte': 677.74, 'Sharepoint': 674.11, 'Kepion': 668.19, 'HubSpot': 668.19, 'linkedin': 668.19, 'SSRS': 668.19, 'workplace': 668.19, 'software propio': 668.19, 'gsuite': 668.19, 'SSAS': 668.19, 'monday': 668.19, 'comeet': 668.19, 'VPS': 668.19, 'UiPath Process Mining': 668.19, 'Qlik Sense': 668.19, 'PLC': 668.19, 'PFSense': 649.1, 'Siemens WinCC unified': 649.1, 'Virtualizor': 635.02, 'Centreon': 635.02, 'Linux Containers': 635.02, 'pentaho': 630.01, 'Service Now': 625.72, 'Shared Hosting': 620.47, 'Bejerman': 615.69, 'slurm': 610.92, 'JD. EDWARDS': 605.83, 'vtex': 601.37, 'Softland ERP': 601.37, 'kony temenos': 582.28, 'Sqldeveloper': 582.28, 'Rstudio': 571.43, 'Anaconda': 571.43, 'Oracle DWH': 571.43, 'PowerBI': 549.86, 'ninguna': 539.76, 'Sql Server': 535.36, 'power Bi': 535.36, 'BluePrism': 534.56, 'propios': 525.49, 'Soporte tecnico fisico': 525.01, 'SQL Server': 525.01, 'WMS': 521.14, 'GBP': 487.35, 'BLUE PRISM': 477.28, 'JDE Ewards': 477.28, 'kawak,': 467.74, 'Asterisk': 462.74, 'Tfs/azure devops': 448.64, 'Google Analytics': 439.05, 'Crystal reports': 429.55, 'NET ': 429.55, 'PowerPlatform': 429.55, 'Plc': 406.5, 'Blue prism': 401.16, 'moodle': 381.83, 'Redacción': 381.83, 'Hyper-V': 381.83, 'Bonita': 334.1, 'Squid': 329.32, 'AVAYA': 306.83, 'Mikrotik': 300.69, 'GitlabCI': 289.44, 'Teradata': 245.32, 'ETL': 245.32, 'Microsoft Office': 238.64, 'Sales force ': 223.32, 'Mikrotik,Huawei': 87.11, 'dynamics 365': 66.82, 'Unifi.': 50.86, 'Vpc ': 28.64, '--': 8.58, 'ADO': 2.51, 'Ciberseguridad': 2.51, 'Mulesfoft': 2.31, 'Spotfire PowerBI SalesForce': 1.96, 'WMS - TMS - YMS': 1.81, 'iseries as400': 1.43, 'Herramientas y tecnologías open-source y propietarias de Ciberseguridad/Infosec': 1.37, 'SAS Enterprise Guide': 1.18, 'IBM AS400': 1.05, 'telefonia': 1.0, 'Sistemas propios': 0.95, 'SuiteCRM': 0.91, 'Google Tag Manager': 0.87, 'La empresa maneja sus proprias plataformas': 0.86, 'elastix': 0.62, 'win 10': 0.48, 'Trello': 0.43, 'Screenpresso': 0.43, 'Qtest': 0.43, 'Slack': 0.43, 'Excel y Word.': 0.43, 'Skype': 0.43, 'Jabber': 0.43, 'hubspot': 0, 'vue': 0}\n"
     ]
    }
   ],
   "source": [
    "qa = respuestas_unicas(pregunta_encuesta = \"QA / Testing\")\n",
    "\n",
    "qa  = list(qa)\n",
    "qa_unicos = []\n",
    "for i in range(0, len(qa)):\n",
    "    qa_unicos.append(qa[i].split(\", \"))\n",
    "    \n",
    "flattened = []\n",
    "for sublist in qa_unicos:\n",
    "    for val in sublist:\n",
    "        if len(val) != 0: \n",
    "            flattened.append(val)\n",
    "\n",
    "qa = set(flattened)\n",
    "sorted_dic_sueldo_qa = calculadora_mediana_sueldo_flex(criterio = qa, pregunta_encuesta = \"QA / Testing\")\n",
    "print(f'Mediana del sueldo segun tecnologias - QA/Testing:\\n {sorted_dic_sueldo_plataformas}')"
   ]
  },
  {
   "cell_type": "code",
   "execution_count": 966,
   "id": "3cdf8bca-9fb4-425e-b858-2caa2977f158",
   "metadata": {},
   "outputs": [
    {
     "name": "stdout",
     "output_type": "stream",
     "text": [
      "Mediana del sueldo segun tecnologias - IDEs: {'eczel y pouer point': 28189788688.33, 'ActiveMQ': 152998.64, 'DataDog': 152998.64, 'RabbitMQ': 152998.64, 'Nokia SROS': 95884.8, 'Netlify': 9621.99, 'ansible': 8495.61, 'postgres': 6495.84, 'apache ': 6495.84, 'NiFi': 6491.03, 'AWS': 5479.19, 'AWS ELB': 5479.19, 'Elastic search': 5454.55, 'queues': 5454.55, 'Bare Metal': 5059.18, 'Loki': 4918.15, 'Gitlab-Ci': 4918.15, 'CloudFoundry': 4772.81, 'oracle ': 4581.9, 'Gamesparks': 4553.26, 'Playfab': 4553.26, 'terraform': 4486.44, 'Azure devops': 4222.29, 'Ansible Terraform Jenkins': 3894.62, 'Apple/iOS': 3827.8, 'Mulesoft0': 3722.79, 'snowflake': 3722.79, 'kafka,terraform': 3722.79, 'Prometheus': 3700.01, 'Oracle Apps': 3579.61, 'HPE NonStop (pueden meterlo como.mainframe)': 3474.61, 'Eclipse RCP': 3445.97, 'Amplitude': 3352.42, 'Terraform': 3340.97, ' Ansible': 3229.78, 'Ansible': 3229.78, 'Tanium': 3183.79, 'McAfee EPO': 3183.79, 'MS ATP': 3183.79, 'MS Cloud protection': 3183.79, 'tableau': 3150.06, 'Alteryx': 3150.06, 'Mdm': 3141.13, 'NonStop': 3073.7, '123': 3054.6, 'Cloudstack': 2873.36, 'AzureAD y Office365': 2835.05, '3ds max': 2827.01, 'maya': 2827.01, 'Mulesoft': 2768.23, 'RHEV': 2759.7, 'pfsense y firewalling': 2757.08, 'iOS': 2720.51, 'kyverno': 2705.23, 'edirectory': 2672.78, 'HP Non-Stop': 2672.78, 'Openshift': 2577.32, 'twilio': 2508.44, 'Databricks': 2434.14, 'networking / firewall / load balanbcers': 2386.41, 'jboss': 2386.41, 'pero yo no lo utilizo en mis tareas diarias. Usamos AWS': 2386.41, 'Tengo un rol de manager': 2386.41, 'conozco parte de este stack y es usado en nuestro producto': 2386.41, 'no aplican': 2386.41, 'no desarrollo': 2386.41, 'Magento Cloud': 2386.41, 'jmeter': 2386.4, 'JIRA': 2378.11, 'eclipse': 2367.32, 'Cybersecurity': 2300.5, 'Serverless': 2290.95, 'Peoplesoft': 2290.95, 'Kubernetes': 2290.95, 'Oracle Commerce Cloud': 2262.31, 'Hubspot': 2243.22, 'Iseries': 2195.49, 'MuleSoft': 2195.49, 'Cisco - Firewalling': 2195.49, 'IBM MAXIMO': 2195.49, 'IBM WebSphere Application Server': 2181.82, 'MACOS': 2157.31, 'Split': 2151.58, 'Confluence': 2151.58, 'ssff': 2147.77, 'jenkins': 2147.77, 'juniper': 2138.22, 'Networking': 2133.45, 'Guidewire': 2129.87, 'trabajo para varios equipos como SM/AC': 2102.69, 'Oracle Cloud': 2100.04, 'Oracle Machine Learning': 2100.04, 'Shotgrid Software': 2074.29, 'Private cloud ': 2071.4, 'SAP Cloud Platform ': 2061.86, 'cloudfoundry': 2061.86, 'Hadoop': 2057.23, 'OpenStack': 2023.67, 'github': 2018.67, 'Amazon Web Services': 2018.67, 'grafana': 2018.67, 'slack': 2018.67, 'Oracle EBS': 2004.59, 'oracle cloud infraestructure': 2004.58, 'OpenShift': 2004.58, 'proxmox consul rackspace': 2004.58, 'iSeries': 2004.58, 'oracle': 2004.58, 'SQL SERVER': 2000.0, 'CloudStack': 1995.04, 'Bizagi': 1986.96, 'Tecnologias propietarias de la empresa': 1985.49, 'N/A': 1985.49, 'Sybase': 1975.95, 'cms': 1974.42, 'Fury': 1971.17, 'Microsoft 365': 1971.17, 'Unity': 1958.08, 'Portainer': 1956.86, 'Android': 1951.85, 'Splunk': 1949.86, 'Cloudera': 1918.67, 'PROXMOX': 1909.13, 'Docker': 1909.13, 'Diferentes plataformas VoIP': 1909.13, 'Adobe Cloud': 1909.13, 'Apple ecosystem': 1909.13, 'IBM Cloud / Watson': 1909.13, '*BSD': 1909.13, 'inVision': 1909.13, 'HPnonstop': 1909.13, 'Unix': 1909.13, 'Cisco,huawei': 1909.13, 'Okta - OpenId - Auth0': 1909.13, 'IoT (BLE)': 1909.13, 'Chef': 1909.13, 'IBM': 1909.12, 'AWX': 1880.49, 'Meta4 Peoplenet': 1861.4, 'Weblogic': 1861.39, 'Google Cloud Platform/App Engine': 1856.62, 'Vercel': 1842.3, 'Cisco': 1837.54, 'Jenkins,Jira,Nexus,Gitlab,AzureDevOps': 1832.76, ' Jenkins': 1832.76, 'Jenkins': 1832.76, 'Kali Linux': 1814.16, 'öppen': 1813.67, 'Google Campaign Manager': 1813.67, 'Google Display and Video': 1813.67, 'Bluekai (Oracle)': 1813.67, 'Twitter Ads': 1813.67, 'Facebook BM': 1813.67, 'Google Ad Manager': 1813.67, 'AIX': 1808.89, 'IBM Integration Bus': 1796.21, 'jira': 1794.58, 'Meta4': 1789.81, 'IBM AS/400': 1778.36, 'IICS': 1775.49, 'Cisco commands': 1765.94, 'Forti': 1765.94, 'IP/MPLS': 1765.94, 'Python': 1765.94, 'Pandora FMS': 1765.94, 'Huawei y ZTE. ': 1765.94, 'Heroku': 1764.78, 'App Center': 1746.85, 'windows': 1741.03, 'Xen': 1727.88, 'Avature': 1727.76, 'Sketch': 1718.22, 'Huewei Cloud': 1718.21, 'meraki': 1718.21, 'React': 1718.21, 'Emerson': 1718.21, 'Rancher': 1718.21, 'ue': 1718.21, 'Mainframe': 1718.21, 'Ios': 1718.21, 'mobile y canales': 1718.21, 'perforce': 1700.43, 'plataformas propias': 1680.03, 'Oracle': 1677.09, 'IBM i': 1663.3, 'Zabbix': 1656.29, 'Solaris': 1637.08, 'Firebase': 1632.72, 'Grafana': 1622.76, 'Nifi': 1622.76, 'Azure': 1622.76, 'Linux': 1622.76, 'Shotgun': 1622.76, 'Kafka': 1622.76, 'qliksense': 1594.12, 'a': 1581.44, 'HP-UX': 1575.03, 'Xen Cloudstack Zabbix': 1546.63, 'Fortinet': 1544.48, 'IBM POWER / IBM i': 1539.79, 'Visio': 1529.69, 'Mural': 1527.3, 'Pivotal Cloudfoundry': 1527.3, 'OCI': 1527.3, 'Figma': 1527.3, 'Soy Scrum Master': 1527.3, 'vagrant': 1527.3, 'Blue Prism RPA': 1527.3, 'ERP Oracle E-business Suite On-premise y Cloud': 1522.53, 'Oracle Responsys': 1503.43, 'GeneXus': 1494.85, 'proxmox': 1493.89, '-': 1477.18, 'MooseFS': 1470.03, 'Ceph': 1470.03, 'Nutanix': 1433.23, 'Microcontroladores': 1431.84, 'Servidores Propios Proxmox': 1431.84, ' SPSS': 1431.84, 'SAP': 1431.84, 'Universe/Pick database': 1431.84, 'VMWare': 1431.84, 'SALESFORCE': 1431.84, 'pci': 1431.84, 'Microstretgy': 1431.84, 'Herramientas SAS': 1431.84, 'Salesforce': 1431.84, 'Sage X3 ': 1431.84, 'Aws': 1431.84, 'iso 27000': 1431.84, 'Apps Internas con tecnologias diversas.': 1427.55, 'Suite Atlassian': 1424.88, 'Citrix': 1422.99, 'Hyper-v': 1394.32, 'Miro': 1393.66, 'sale': 1391.28, 'ERP varios': 1384.12, 'Plataforma propia': 1365.02, 'Oracle CC&B': 1345.93, 'Proxmox': 1339.06, 'Xray': 1336.39, 'RPA tools': 1336.39, '0': 1336.39, 'AS400': 1336.39, 'SharePoint': 1336.39, 'Postman': 1336.39, '.NET': 1336.39, 'Windows Server': 1336.39, 'ArcGIS': 1336.39, 'Claroty': 1336.39, 'Windows': 1336.39, 'SQL': 1336.38, 'Flutter': 1321.52, 'Ninguna de las anteriores': 1317.3, 'openVMS': 1290.14, 'no implemento': 1288.66, 'hago preventa': 1288.66, 'Nada': 1288.66, 'Workday': 1284.85, 'FileMaker': 1279.11, 'Arduino o similar': 1279.11, 'WorkDay': 1269.57, 'Cloudera Manager': 1260.02, '.': 1255.25, 'Jira': 1243.32, 'Checkpoint': 1240.93, 'Trend Micro': 1240.93, 'SAP ISH': 1240.93, 'ORACLE PLSQL': 1240.93, 'siem y otros': 1240.93, 'SAP B1': 1240.93, 'figma': 1240.93, 'Cisco IOS': 1240.93, 'IBM maximo': 1240.93, 'JD Edwards': 1236.16, 'Shotgrid': 1228.06, 'SSIS': 1221.84, 'GitLab CI': 1221.84, 'VTEX': 1217.18, 'Automation Anywhere': 1204.64, 'networking': 1193.51, 'GUIDEWIRE': 1183.66, 'Cisco.Nokia. Fortinet': 1174.11, 'Herramientas de programación de controladores': 1164.57, 'Onpremise': 1164.57, 'Mikrotik ': 1160.52, 'Veeam': 1145.48, 'Firewalls y Balanceadores': 1145.48, 'ITSM': 1145.48, 'Power BI': 1145.47, 'Tableau': 1145.47, 'Microsoft AX': 1126.38, 'SAS GUIDE': 1126.38, 'QUICKSIGHT': 1126.38, 'TABLEAU': 1126.38, 'Adobe': 1107.3, 'Anypoint Platform': 1097.75, 'routerOS': 1088.2, 'IBM BPM ': 1073.77, 'sql': 1054.07, 'Salesforce Commerce Cloud': 1050.02, 'Qlik': 1050.02, 'Circle ci': 1050.02, 'Barracuda': 1050.02, ' Digital Ocean': 1035.7, 'Docker Swarm': 1035.7, 'Visual Studio': 1030.93, 'SSMS': 1030.93, 'RStudio server': 1002.29, 'DigitalOcean': 1002.29, 'JD Edwards ': 1002.29, 'Huawei routers': 992.75, 'MicroStrategy': 992.75, 'Jboss': 983.2, 'Planning': 973.65, 'IOT': 954.56, 'Hyperv': 941.87, 'Genesys': 922.11, 'Asterisk ': 922.04, 'SAS': 914.95, 'Infosec': 907.52, 'apex': 878.2, 'Mailchimp': 877.23, 'Facebook Ads': 877.23, 'Google Ads': 877.23, 'La empresa para la que trabajo usa herramientas propias': 873.42, 'Veeam Backup': 859.11, 'BO bussiness Inteligent': 859.11, 'Blue Prism': 859.11, 'azure': 859.0, 'Tibco': 834.1, 'Manatal': 819.26, 'Microsoft exchange': 811.38, 'Sistema de ticket de soporte propietario': 811.38, 'hyper-v': 811.38, 'Plc ': 811.38, 'QlikView': 801.84, 'ServiceNow': 801.83, 'cisco': 801.83, 'Microstrategy': 790.86, 'Exchange': 790.38, 'MS Exchange': 790.38, 'Jira ': 782.74, 'KVM': 763.65, 'powercenter': 763.65, 'Wordpress': 763.65, 'Blockchain': 763.65, 'excel': 763.65, 'Selenium': 763.65, 'Linux - KVM': 763.65, 'Bejerman ': 763.65, 'citrix': 763.65, 'soapui': 763.65, 'xcp': 763.65, 'Freepbx': 763.65, 'Genexus': 763.65, 'BI - SAS - OPENSmart - etc': 763.65, 'Web Sockets': 763.65, 'WordPress - Drupal': 757.0, 'splunk': 744.56, 'Office': 739.85, 'MS Office': 739.85, 'TOTVS': 735.01, 'Odoo': 732.63, 'CyberArk': 725.47, 'Vtex': 723.59, 'univention': 723.59, 'asterisk': 715.92, 'node': 715.92, 'Check Point': 715.92, 'salesforce': 715.92, 'etc.': 701.12, 'Sharepoint y BPM': 696.83, 'Savigent': 681.3, 'windows 7/10 deepfreeze software de soporte': 677.74, 'Sharepoint': 674.11, 'Kepion': 668.19, 'HubSpot': 668.19, 'linkedin': 668.19, 'SSRS': 668.19, 'workplace': 668.19, 'software propio': 668.19, 'gsuite': 668.19, 'SSAS': 668.19, 'monday': 668.19, 'comeet': 668.19, 'VPS': 668.19, 'UiPath Process Mining': 668.19, 'Qlik Sense': 668.19, 'PLC': 668.19, 'PFSense': 649.1, 'Siemens WinCC unified': 649.1, 'Virtualizor': 635.02, 'Centreon': 635.02, 'Linux Containers': 635.02, 'pentaho': 630.01, 'Service Now': 625.72, 'Shared Hosting': 620.47, 'Bejerman': 615.69, 'slurm': 610.92, 'JD. EDWARDS': 605.83, 'vtex': 601.37, 'Softland ERP': 601.37, 'kony temenos': 582.28, 'Sqldeveloper': 582.28, 'Rstudio': 571.43, 'Anaconda': 571.43, 'Oracle DWH': 571.43, 'PowerBI': 549.86, 'ninguna': 539.76, 'Sql Server': 535.36, 'power Bi': 535.36, 'BluePrism': 534.56, 'propios': 525.49, 'Soporte tecnico fisico': 525.01, 'SQL Server': 525.01, 'WMS': 521.14, 'GBP': 487.35, 'BLUE PRISM': 477.28, 'JDE Ewards': 477.28, 'kawak,': 467.74, 'Asterisk': 462.74, 'Tfs/azure devops': 448.64, 'Google Analytics': 439.05, 'Crystal reports': 429.55, 'NET ': 429.55, 'PowerPlatform': 429.55, 'Plc': 406.5, 'Blue prism': 401.16, 'moodle': 381.83, 'Redacción': 381.83, 'Hyper-V': 381.83, 'Bonita': 334.1, 'Squid': 329.32, 'AVAYA': 306.83, 'Mikrotik': 300.69, 'GitlabCI': 289.44, 'Teradata': 245.32, 'ETL': 245.32, 'Microsoft Office': 238.64, 'Sales force ': 223.32, 'Mikrotik,Huawei': 87.11, 'dynamics 365': 66.82, 'Unifi.': 50.86, 'Vpc ': 28.64, '--': 8.58, 'ADO': 2.51, 'Ciberseguridad': 2.51, 'Mulesfoft': 2.31, 'Spotfire PowerBI SalesForce': 1.96, 'WMS - TMS - YMS': 1.81, 'iseries as400': 1.43, 'Herramientas y tecnologías open-source y propietarias de Ciberseguridad/Infosec': 1.37, 'SAS Enterprise Guide': 1.18, 'IBM AS400': 1.05, 'telefonia': 1.0, 'Sistemas propios': 0.95, 'SuiteCRM': 0.91, 'Google Tag Manager': 0.87, 'La empresa maneja sus proprias plataformas': 0.86, 'elastix': 0.62, 'win 10': 0.48, 'Trello': 0.43, 'Screenpresso': 0.43, 'Qtest': 0.43, 'Slack': 0.43, 'Excel y Word.': 0.43, 'Skype': 0.43, 'Jabber': 0.43, 'hubspot': 0, 'vue': 0}\n"
     ]
    }
   ],
   "source": [
    "ide = respuestas_unicas(pregunta_encuesta = \"IDEs\")\n",
    "\n",
    "ide  = list(ide)\n",
    "ide_unicos = []\n",
    "for i in range(0, len(ide)):\n",
    "    ide_unicos.append(ide[i].split(\", \"))\n",
    "    \n",
    "flattened = []\n",
    "for sublist in qa_unicos:\n",
    "    for val in sublist:\n",
    "        if len(val) != 0: \n",
    "            flattened.append(val)\n",
    "\n",
    "ide = set(flattened)\n",
    "sorted_dic_sueldo_ide = calculadora_mediana_sueldo_flex(criterio = ide, pregunta_encuesta = \"IDEs\")\n",
    "print(f'Mediana del sueldo segun tecnologias - IDEs:\\n {sorted_dic_sueldo_plataformas}')"
   ]
  },
  {
   "cell_type": "code",
   "execution_count": 967,
   "id": "75ca616f-b9b0-460d-bcc1-1d39c15c8216",
   "metadata": {},
   "outputs": [
    {
     "name": "stdout",
     "output_type": "stream",
     "text": [
      "Mediana del sueldo segun genero: {'Varon-trans': 1765.94, 'Varon': 1603.19, 'Prefiero no decir': 1527.3, 'Travesti': 1527.3, 'No binarie': 1319.43, 'Mujer': 1229.48, 'Mujer trans': 954.56}\n"
     ]
    }
   ],
   "source": [
    "mediana_sueldo_por_genero = calculadora_mediana_sueldo(criterio = generos_depurado, pregunta_encuesta = \"Me identifico\")\n",
    "print(f'Mediana del sueldo segun genero:\\n {mediana_sueldo_por_genero}')"
   ]
  },
  {
   "cell_type": "markdown",
   "id": "bfd2e756-d810-4738-ab4a-4020aeb9bf4a",
   "metadata": {},
   "source": [
    "12. Printear porcentaje y salario según tipos de contrato .\n",
    "\n"
   ]
  },
  {
   "cell_type": "code",
   "execution_count": 968,
   "id": "56740a20-013d-40c6-9f4f-30e0cccaa681",
   "metadata": {},
   "outputs": [
    {
     "name": "stdout",
     "output_type": "stream",
     "text": [
      "CHEQUEO OK: CANTIDAD DE PARTICIPANTES EN LA PREGUNTA IGUAL AL TOTAL DE ENCUESTADOS\n",
      "Pregunta 12 - Participacion por tipo de contrato: \n",
      " {'Full-Time': '82.62%', 'Remoto (empresa de otro país)': '7.12%', 'Part-Time': '4.37%', 'Tercerizado (trabajo a través de consultora o agencia)': '3.04%', 'Freelance': '2.59%', 'Participación societaria en una cooperativa': '0.26%'} \n",
      "Mediana del sueldo en USD: {'Remoto (empresa de otro país)': 4772.81, 'Full-Time': 1527.3, 'Tercerizado (trabajo a través de consultora o agencia)': 1262.74, 'Participación societaria en una cooperativa': 1221.84, 'Freelance': 1202.75, 'Part-Time': 630.01}\n"
     ]
    }
   ],
   "source": [
    "#Armo diccionario de tipos de contrato y participantes por rol\n",
    "contratos = respuestas_unicas(pregunta_encuesta = \"Tipo de contrato\")\n",
    "\n",
    "dic_contratos = dic_respuestas(criterio = contratos, pregunta_encuesta = \"Tipo de contrato\")\n",
    "\n",
    "participacion_por_contrato = participacion_ordenada(dic_criterio = dic_contratos, criterio = contratos)\n",
    "\n",
    "mediana_sueldo_por_contrato = calculadora_mediana_sueldo(criterio = contratos, pregunta_encuesta = \"Tipo de contrato\")\n",
    "\n",
    "print(f'Pregunta 12 - Participacion por tipo de contrato: \\n {participacion_por_contrato} \\n\\\n",
    "Mediana del sueldo en USD: {mediana_sueldo_por_contrato}')"
   ]
  },
  {
   "cell_type": "code",
   "execution_count": null,
   "id": "1d7a9e00-30ba-4177-add0-819a1cb3a304",
   "metadata": {},
   "outputs": [],
   "source": []
  }
 ],
 "metadata": {
  "kernelspec": {
   "display_name": "Python 3 (ipykernel)",
   "language": "python",
   "name": "python3"
  },
  "language_info": {
   "codemirror_mode": {
    "name": "ipython",
    "version": 3
   },
   "file_extension": ".py",
   "mimetype": "text/x-python",
   "name": "python",
   "nbconvert_exporter": "python",
   "pygments_lexer": "ipython3",
   "version": "3.9.5"
  }
 },
 "nbformat": 4,
 "nbformat_minor": 5
}
